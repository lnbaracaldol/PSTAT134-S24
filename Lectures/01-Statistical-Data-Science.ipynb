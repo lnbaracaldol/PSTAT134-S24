{
 "cells": [
  {
   "cell_type": "markdown",
   "metadata": {
    "slideshow": {
     "slide_type": "slide"
    }
   },
   "source": [
    "# PSTAT 134/234 - Statistical Data Science <a class=\"tocSkip\">\n",
    "\n"
   ]
  },
  {
   "cell_type": "markdown",
   "metadata": {
    "slideshow": {
     "slide_type": "slide"
    }
   },
   "source": [
    "# What is Data Science?\n",
    "![DataScience](images/DS.JPG)"
   ]
  },
  {
   "cell_type": "markdown",
   "metadata": {
    "slideshow": {
     "slide_type": "subslide"
    }
   },
   "source": [
    "## (Classical) Scientific Method\n",
    "\n",
    "* Scientific method used since ~1200s and formalized in 1500s\n",
    "\n",
    "* Roughly, scientific method is an approach [[reference](https://en.wikipedia.org/wiki/Scientific_method)]\n",
    "\n",
    "    * Question\n",
    "    * Hypothesis\n",
    "    * Prediction\n",
    "    * Testing\n",
    "    * Analysis\n",
    "\n"
   ]
  },
  {
   "cell_type": "markdown",
   "metadata": {
    "slideshow": {
     "slide_type": "subslide"
    }
   },
   "source": [
    "## New Paradigm of Science\n",
    "\n",
    "**Fourth Paradigm: Data-intensive scientific discovery** (Jim Gray): everything about science is changing"
   ]
  },
  {
   "cell_type": "markdown",
   "metadata": {
    "slideshow": {
     "slide_type": "fragment"
    }
   },
   "source": [
    "* Scope of Research has broadened: **Basic science vs. Business insight**"
   ]
  },
  {
   "cell_type": "markdown",
   "metadata": {
    "slideshow": {
     "slide_type": "fragment"
    }
   },
   "source": [
    "* \"Some models are useful\": **Precise vs. Approximate**"
   ]
  },
  {
   "cell_type": "markdown",
   "metadata": {
    "slideshow": {
     "slide_type": "fragment"
    }
   },
   "source": [
    "* What is more important? **Understanding vs. Prediction**"
   ]
  },
  {
   "cell_type": "markdown",
   "metadata": {
    "slideshow": {
     "slide_type": "subslide"
    }
   },
   "source": [
    "## Data Science is ...\n",
    "\n",
    "* A multi-disciplinary field that uses scientific methods, processes, algorithms and systems to extract knowledge and insights from structured and unstructured data [reference](https://doi.org/10.1145/2500499)"
   ]
  },
  {
   "cell_type": "markdown",
   "metadata": {
    "slideshow": {
     "slide_type": "fragment"
    }
   },
   "source": [
    "* Merger of statistics, data analysis, machine learning and their related methods in order to understand and analyze actual phenomena with data [reference](https://doi.org/10.1007/978-4-431-65950-1_3)"
   ]
  },
  {
   "cell_type": "markdown",
   "metadata": {
    "slideshow": {
     "slide_type": "fragment"
    }
   },
   "source": [
    "* Composed of techniques and theories drawn from many fields within the context of mathematics, statistics, computer science, and information science. [reference](https://www.microsoft.com/en-us/research/publication/fourth-paradigm-data-intensive-scientific-discovery/)"
   ]
  },
  {
   "cell_type": "markdown",
   "metadata": {
    "slideshow": {
     "slide_type": "subslide"
    }
   },
   "source": [
    "## Beginnings of Data Science\n",
    "\n",
    "![Cleveland](images/data-science-cleveland.png)\n",
    "[[International Statistical Review](http://doi.org/10.2307/1403527)]"
   ]
  },
  {
   "cell_type": "markdown",
   "metadata": {
    "slideshow": {
     "slide_type": "subslide"
    }
   },
   "source": [
    "The article proposed data science program to train a new generation of data analysts:\n",
    "\n",
    "* **Domain expertise**: data analysis collaborations in subject matter areas.\n",
    "\n",
    "* **Mathematics/Statistics**: models, estimation, and distribution based on probabilistic inference.\n",
    "\n",
    "* **Computing**: hardware and software; computational algorithms\n",
    "    \n",
    "* **Theory**: foundations of data science; mathematical investigations of models and methods\n",
    "    \n",
    "\n",
    "[International Statistical Review](http://doi.org/10.2307/1403527)"
   ]
  },
  {
   "cell_type": "markdown",
   "metadata": {
    "slideshow": {
     "slide_type": "subslide"
    }
   },
   "source": [
    "## Data Scientific Approach\n",
    "\n",
    "![DataScienceLifeCycle](images/DataScienceLifeCycle.jpg)  \n",
    "[[UC Berkeley, School of Information](https://datascience.berkeley.edu/about/what-is-data-science/)]"
   ]
  },
  {
   "cell_type": "markdown",
   "metadata": {
    "slideshow": {
     "slide_type": "slide"
    }
   },
   "source": [
    "# Statistics and Data Science\n",
    "\n",
    "- Focus: Traditional statistical methods tackle problems often under strict set of assumptions (Probabilistic Models)\n",
    "\n",
    "- Methodology: Data science employs a broader range of methods, including statistical techniques, machine learning algorithms and big dta technologies\n",
    "\n",
    "- Approach: Data science often iterate to make improvements, and develops processes (often custom built)"
   ]
  },
  {
   "cell_type": "markdown",
   "metadata": {
    "slideshow": {
     "slide_type": "slide"
    }
   },
   "source": [
    "# Computational Environment"
   ]
  },
  {
   "cell_type": "markdown",
   "metadata": {
    "slideshow": {
     "slide_type": "subslide"
    }
   },
   "source": [
    "<table style=\"width: 100%;\">\n",
    "    <tr>\n",
    "    <td style=\"width: 50%;\"> <img src=\"images/jupyternotebook.png\" alt=\"Drawing\" style=\"width: 100%;\"/> </td>\n",
    "    <td style=\"width: 50%;\"> <img src=\"images/jupyter-lab.png\" alt=\"Drawing\" style=\"width: 100%;\"/> </td>\n",
    "    </tr>\n",
    "    <tr>\n",
    "    <td style=\"text-align: center; font-weight: bold;\"/> Jupyter Notebook</td>\n",
    "    <td style=\"text-align: center; font-weight: bold;\"/> Jupyter Lab</td>\n",
    "    </tr>\n",
    "</table>"
   ]
  },
  {
   "cell_type": "markdown",
   "metadata": {
    "slideshow": {
     "slide_type": "subslide"
    }
   },
   "source": [
    "## Jupyter Notebooks vs. Jupyter Lab\n",
    "\n",
    "- Jupyter cluster is here: https://pstat-134-234.lsit.ucsb.edu\n",
    "\n",
    "- If your username is `[UCSB NetID]`,  \n",
    "\n",
    "- Jupyter Notebook: `https://pstat-134-234.lsit.ucsb.edu/user/[UCSB NetID]/tree`  \n",
    "\n",
    "- Jupyter Lab (default): `https://pstat-134-234.lsit.ucsb.edu/user/[UCSB NetID]/lab`   "
   ]
  },
  {
   "cell_type": "markdown",
   "metadata": {
    "slideshow": {
     "slide_type": "fragment"
    }
   },
   "source": [
    "- **Jupyter Notebook + Additional Features = Jupyter Lab**"
   ]
  },
  {
   "cell_type": "markdown",
   "metadata": {
    "slideshow": {
     "slide_type": "subslide"
    }
   },
   "source": [
    "## Jupyter Notebook\n",
    "\n",
    "- Notebook environment: code, formatted text, and graphics\n",
    "\n",
    "- Conversion to other formats: e.g. markdown, latx, PDF, HTML, etc.\n",
    "\n",
    "- Interactivity HTML widgets\n",
    "\n",
    "- [Jupyter notebook basics](https://nbviewer.jupyter.org/github/jupyter/notebook/blob/master/docs/source/examples/Notebook/Notebook%20Basics.ipynb)\n",
    "\n",
    "![Jupyter Notebook](images/jupyternotebook.png)"
   ]
  },
  {
   "cell_type": "markdown",
   "metadata": {
    "slideshow": {
     "slide_type": "subslide"
    }
   },
   "source": [
    "[Jupyter Notebook Jupyter kernels](https://github.com/jupyter/jupyter/wiki/Jupyter-kernels) (Python, shell, R, Julia, others)  \n",
    "    \n",
    "![Jupyter Diagram](images/jupyter-diagram.jpg)\n"
   ]
  },
  {
   "cell_type": "markdown",
   "metadata": {
    "slideshow": {
     "slide_type": "subslide"
    }
   },
   "source": [
    "![Jupyter Diagram](images/jupyterhub-notebook.png)"
   ]
  },
  {
   "cell_type": "markdown",
   "metadata": {
    "slideshow": {
     "slide_type": "fragment"
    }
   },
   "source": [
    "- Read [Jupyter notebook basics](https://nbviewer.jupyter.org/github/jupyter/notebook/blob/master/docs/source/examples/Notebook/Notebook%20Basics.ipynb)"
   ]
  },
  {
   "cell_type": "markdown",
   "metadata": {
    "slideshow": {
     "slide_type": "subslide"
    }
   },
   "source": [
    "### Writing formatted text\n",
    "\n",
    "- Text formatting with [markdown syntax](https://guides.github.com/features/mastering-markdown/): e.g., variations like [Github Flavored Markdown (GFM)](https://guides.github.com/features/mastering-markdown/#GitHub-flavored-markdown)"
   ]
  },
  {
   "cell_type": "markdown",
   "metadata": {
    "slideshow": {
     "slide_type": "fragment"
    }
   },
   "source": [
    "- Math equations (latex): e.g., `$$ \\hat \\mu = \\frac{1}{n}\\sum_{i=1}^n x_i $$`\n",
    "    $$ \\hat \\mu = \\frac{1}{n}\\sum_{i=1}^n x_i,\\qquad \\hat\\sigma^2 = \\frac{1}{n}\\sum_{i=1}^n (x_i-\\hat\\mu)^2 $$\n",
    "    [Mathpix](https://mathpix.com/)"
   ]
  },
  {
   "cell_type": "markdown",
   "metadata": {
    "slideshow": {
     "slide_type": "fragment"
    }
   },
   "source": [
    "- Images: e.g. `![alt-text](some-image.jpg)`  \n",
    "    ![Not Lazy](images/im-not-lazy-im-just-in-energy-saving-mode-sleepy-cat.jpg)   \n",
    "    _Note: Markdown can display an image given its URL; however, doing so doesn't work with PDF generation_  \n",
    "    `![Not Lazy](http://thoughtfulcampaigner.org/wp-content/uploads/2017/10/im-not-lazy-im-just-in-energy-saving-mode-sleepy-cat.jpg)`  "
   ]
  },
  {
   "cell_type": "markdown",
   "metadata": {
    "slideshow": {
     "slide_type": "subslide"
    }
   },
   "source": [
    "### More than Python\n",
    "\n",
    "- Python interpreter\n",
    "\n",
    "- IPython is short for interactive Python with additional functionality  \n",
    "    e.g., tab completion, syntax highlighting, magic, etc. (Chapter 2 in McKinney)  \n",
    "\n",
    "- IPython's \"[line, cell] magic\" commands  \n",
    "    e.g., debugging, code timing, shell commands, execute external script, etc."
   ]
  },
  {
   "cell_type": "markdown",
   "metadata": {
    "slideshow": {
     "slide_type": "subslide"
    },
    "tags": []
   },
   "source": [
    "### Line magic: `%`\n",
    "\n",
    "- [Demo] Debugging example: `%debug`, etc.\n",
    "\n",
    "- [`xmode`](https://jakevdp.github.io/PythonDataScienceHandbook/01.06-errors-and-debugging.html#Controlling-Exceptions:-%xmode): Exception handler mode\n",
    "\n",
    "- More detail on debugging: [Vanderplas - Chapter 1](https://jakevdp.github.io/PythonDataScienceHandbook/01.06-errors-and-debugging.html)"
   ]
  },
  {
   "cell_type": "markdown",
   "metadata": {
    "slideshow": {
     "slide_type": "slide"
    }
   },
   "source": [
    "#### Example: Debugging"
   ]
  },
  {
   "cell_type": "code",
   "execution_count": 3,
   "metadata": {
    "hideCode": false,
    "hideOutput": false,
    "slideshow": {
     "slide_type": "-"
    }
   },
   "outputs": [
    {
     "name": "stdout",
     "output_type": "stream",
     "text": [
      "Exception reporting mode: Verbose\n"
     ]
    },
    {
     "ename": "ZeroDivisionError",
     "evalue": "division by zero",
     "output_type": "error",
     "traceback": [
      "\u001b[1;31m---------------------------------------------------------------------------\u001b[0m",
      "\u001b[1;31mZeroDivisionError\u001b[0m                         Traceback (most recent call last)",
      "Cell \u001b[1;32mIn[3], line 20\u001b[0m\n\u001b[0;32m     15\u001b[0m     \u001b[38;5;28;01mreturn\u001b[39;00m func1(a, b)\n\u001b[0;32m     17\u001b[0m \u001b[38;5;66;03m# Refer to https://docs.python.org/3/library/pdb.html#debugger-commands\u001b[39;00m\n\u001b[0;32m     18\u001b[0m \u001b[38;5;66;03m# Press h for help\u001b[39;00m\n\u001b[0;32m     19\u001b[0m \u001b[38;5;66;03m# Uncomment below to trigger an error\u001b[39;00m\n\u001b[1;32m---> 20\u001b[0m \u001b[43mfunc2\u001b[49m\u001b[43m(\u001b[49m\u001b[38;5;241;43m1\u001b[39;49m\u001b[43m)\u001b[49m \n",
      "Cell \u001b[1;32mIn[3], line 15\u001b[0m, in \u001b[0;36mfunc2\u001b[1;34m(x=1)\u001b[0m\n\u001b[0;32m     13\u001b[0m \u001b[38;5;66;03m# set_trace()\u001b[39;00m\n\u001b[0;32m     14\u001b[0m b \u001b[38;5;241m=\u001b[39m x \u001b[38;5;241m-\u001b[39m \u001b[38;5;241m1\u001b[39m\n\u001b[1;32m---> 15\u001b[0m \u001b[38;5;28;01mreturn\u001b[39;00m \u001b[43mfunc1\u001b[49m\u001b[43m(\u001b[49m\u001b[43ma\u001b[49m\u001b[43m,\u001b[49m\u001b[43m \u001b[49m\u001b[43mb\u001b[49m\u001b[43m)\u001b[49m\n        a \u001b[1;34m= 1\u001b[0m\u001b[1;34m\n        \u001b[0mb \u001b[1;34m= 0\u001b[0m\n",
      "Cell \u001b[1;32mIn[3], line 8\u001b[0m, in \u001b[0;36mfunc1\u001b[1;34m(a=1, b=0)\u001b[0m\n\u001b[0;32m      7\u001b[0m \u001b[38;5;28;01mdef\u001b[39;00m \u001b[38;5;21mfunc1\u001b[39m(a, b):\n\u001b[1;32m----> 8\u001b[0m     \u001b[38;5;28;01mreturn\u001b[39;00m \u001b[43ma\u001b[49m\u001b[43m \u001b[49m\u001b[38;5;241;43m/\u001b[39;49m\u001b[43m \u001b[49m\u001b[43mb\u001b[49m\n        a \u001b[1;34m= 1\u001b[0m\u001b[1;34m\n        \u001b[0mb \u001b[1;34m= 0\u001b[0m\n",
      "\u001b[1;31mZeroDivisionError\u001b[0m: division by zero"
     ]
    }
   ],
   "source": [
    "# exception mode to verbose output: Comment/uncomment both xmode and see what happens with func2(1)\n",
    "#%xmode Plain\n",
    "%xmode Verbose\n",
    "\n",
    "from IPython.core.debugger import set_trace\n",
    "\n",
    "def func1(a, b):\n",
    "    return a / b\n",
    "\n",
    "def func2(x):\n",
    "    \n",
    "    a = x\n",
    "    # set_trace()\n",
    "    b = x - 1\n",
    "    return func1(a, b)\n",
    "\n",
    "# Refer to https://docs.python.org/3/library/pdb.html#debugger-commands\n",
    "# Press h for help\n",
    "# Uncomment below to trigger an error\n",
    "func2(1) "
   ]
  },
  {
   "cell_type": "code",
   "execution_count": 4,
   "metadata": {
    "slideshow": {
     "slide_type": "slide"
    }
   },
   "outputs": [
    {
     "name": "stdout",
     "output_type": "stream",
     "text": [
      "> \u001b[1;32mc:\\users\\lnbar\\appdata\\local\\temp\\ipykernel_55008\\3771726007.py\u001b[0m(8)\u001b[0;36mfunc1\u001b[1;34m()\u001b[0m\n",
      "\n"
     ]
    },
    {
     "name": "stdin",
     "output_type": "stream",
     "text": [
      "ipdb>  print(a)\n"
     ]
    },
    {
     "name": "stdout",
     "output_type": "stream",
     "text": [
      "1\n"
     ]
    },
    {
     "name": "stdin",
     "output_type": "stream",
     "text": [
      "ipdb>  print(b)\n"
     ]
    },
    {
     "name": "stdout",
     "output_type": "stream",
     "text": [
      "0\n"
     ]
    },
    {
     "name": "stdin",
     "output_type": "stream",
     "text": [
      "ipdb>  exit()\n"
     ]
    }
   ],
   "source": [
    "# After an exception occurs, calling %debug \n",
    "# starts the debugger at last error\n",
    "# uncomment the next line for demo\n",
    "%debug\n",
    "\n",
    "# input following at ipdb prompt\n",
    "#print(a)\n",
    "#print(b)\n",
    "#exit()"
   ]
  },
  {
   "cell_type": "markdown",
   "metadata": {
    "slideshow": {
     "slide_type": "slide"
    }
   },
   "source": [
    "#### Other magic commands\n",
    "\n",
    "- [many more](https://www.datacamp.com/community/tutorials/tutorial-jupyter-notebook)"
   ]
  },
  {
   "cell_type": "code",
   "execution_count": 22,
   "metadata": {
    "slideshow": {
     "slide_type": "-"
    }
   },
   "outputs": [
    {
     "data": {
      "application/json": {
       "cell": {
        "!": "OSMagics",
        "HTML": "Other",
        "SVG": "Other",
        "bash": "Other",
        "capture": "ExecutionMagics",
        "cmd": "Other",
        "debug": "ExecutionMagics",
        "file": "Other",
        "html": "DisplayMagics",
        "javascript": "DisplayMagics",
        "js": "DisplayMagics",
        "latex": "DisplayMagics",
        "markdown": "DisplayMagics",
        "perl": "Other",
        "prun": "ExecutionMagics",
        "pypy": "Other",
        "python": "Other",
        "python2": "Other",
        "python3": "Other",
        "ruby": "Other",
        "script": "ScriptMagics",
        "sh": "Other",
        "svg": "DisplayMagics",
        "sx": "OSMagics",
        "system": "OSMagics",
        "time": "ExecutionMagics",
        "timeit": "ExecutionMagics",
        "writefile": "OSMagics"
       },
       "line": {
        "alias": "OSMagics",
        "alias_magic": "BasicMagics",
        "autoawait": "AsyncMagics",
        "autocall": "AutoMagics",
        "automagic": "AutoMagics",
        "autosave": "KernelMagics",
        "bookmark": "OSMagics",
        "cd": "OSMagics",
        "clear": "KernelMagics",
        "cls": "KernelMagics",
        "colors": "BasicMagics",
        "conda": "PackagingMagics",
        "config": "ConfigMagics",
        "connect_info": "KernelMagics",
        "copy": "Other",
        "ddir": "Other",
        "debug": "ExecutionMagics",
        "dhist": "OSMagics",
        "dirs": "OSMagics",
        "doctest_mode": "BasicMagics",
        "echo": "Other",
        "ed": "Other",
        "edit": "KernelMagics",
        "env": "OSMagics",
        "gui": "BasicMagics",
        "hist": "Other",
        "history": "HistoryMagics",
        "killbgscripts": "ScriptMagics",
        "ldir": "Other",
        "less": "KernelMagics",
        "load": "CodeMagics",
        "load_ext": "ExtensionMagics",
        "loadpy": "CodeMagics",
        "logoff": "LoggingMagics",
        "logon": "LoggingMagics",
        "logstart": "LoggingMagics",
        "logstate": "LoggingMagics",
        "logstop": "LoggingMagics",
        "ls": "Other",
        "lsmagic": "BasicMagics",
        "macro": "ExecutionMagics",
        "magic": "BasicMagics",
        "matplotlib": "PylabMagics",
        "mkdir": "Other",
        "more": "KernelMagics",
        "notebook": "BasicMagics",
        "page": "BasicMagics",
        "pastebin": "CodeMagics",
        "pdb": "ExecutionMagics",
        "pdef": "NamespaceMagics",
        "pdoc": "NamespaceMagics",
        "pfile": "NamespaceMagics",
        "pinfo": "NamespaceMagics",
        "pinfo2": "NamespaceMagics",
        "pip": "PackagingMagics",
        "popd": "OSMagics",
        "pprint": "BasicMagics",
        "precision": "BasicMagics",
        "prun": "ExecutionMagics",
        "psearch": "NamespaceMagics",
        "psource": "NamespaceMagics",
        "pushd": "OSMagics",
        "pwd": "OSMagics",
        "pycat": "OSMagics",
        "pylab": "PylabMagics",
        "qtconsole": "KernelMagics",
        "quickref": "BasicMagics",
        "recall": "HistoryMagics",
        "rehashx": "OSMagics",
        "reload_ext": "ExtensionMagics",
        "ren": "Other",
        "rep": "Other",
        "rerun": "HistoryMagics",
        "reset": "NamespaceMagics",
        "reset_selective": "NamespaceMagics",
        "rmdir": "Other",
        "run": "ExecutionMagics",
        "save": "CodeMagics",
        "sc": "OSMagics",
        "set_env": "OSMagics",
        "store": "StoreMagics",
        "sx": "OSMagics",
        "system": "OSMagics",
        "tb": "ExecutionMagics",
        "time": "ExecutionMagics",
        "timeit": "ExecutionMagics",
        "unalias": "OSMagics",
        "unload_ext": "ExtensionMagics",
        "who": "NamespaceMagics",
        "who_ls": "NamespaceMagics",
        "whos": "NamespaceMagics",
        "xdel": "NamespaceMagics",
        "xmode": "BasicMagics"
       }
      },
      "text/plain": [
       "Available line magics:\n",
       "%alias  %alias_magic  %autoawait  %autocall  %automagic  %autosave  %bookmark  %cd  %clear  %cls  %colors  %conda  %config  %connect_info  %copy  %ddir  %debug  %dhist  %dirs  %doctest_mode  %echo  %ed  %edit  %env  %gui  %hist  %history  %killbgscripts  %ldir  %less  %load  %load_ext  %loadpy  %logoff  %logon  %logstart  %logstate  %logstop  %ls  %lsmagic  %macro  %magic  %matplotlib  %mkdir  %more  %notebook  %page  %pastebin  %pdb  %pdef  %pdoc  %pfile  %pinfo  %pinfo2  %pip  %popd  %pprint  %precision  %prun  %psearch  %psource  %pushd  %pwd  %pycat  %pylab  %qtconsole  %quickref  %recall  %rehashx  %reload_ext  %ren  %rep  %rerun  %reset  %reset_selective  %rmdir  %run  %save  %sc  %set_env  %store  %sx  %system  %tb  %time  %timeit  %unalias  %unload_ext  %who  %who_ls  %whos  %xdel  %xmode\n",
       "\n",
       "Available cell magics:\n",
       "%%!  %%HTML  %%SVG  %%bash  %%capture  %%cmd  %%debug  %%file  %%html  %%javascript  %%js  %%latex  %%markdown  %%perl  %%prun  %%pypy  %%python  %%python2  %%python3  %%ruby  %%script  %%sh  %%svg  %%sx  %%system  %%time  %%timeit  %%writefile\n",
       "\n",
       "Automagic is ON, % prefix IS NOT needed for line magics."
      ]
     },
     "execution_count": 22,
     "metadata": {},
     "output_type": "execute_result"
    }
   ],
   "source": [
    "# shift-tab for documentation\n",
    "%lsmagic"
   ]
  },
  {
   "cell_type": "markdown",
   "metadata": {
    "slideshow": {
     "slide_type": "subslide"
    }
   },
   "source": [
    "### Cell magic: `%%`\n",
    "\n",
    "- Entire cell is interpreted differently\n",
    "\n",
    "#### Example: Measuring running time"
   ]
  },
  {
   "cell_type": "code",
   "execution_count": 4,
   "metadata": {
    "slideshow": {
     "slide_type": "-"
    }
   },
   "outputs": [
    {
     "name": "stdout",
     "output_type": "stream",
     "text": [
      "84.1 µs ± 9.85 µs per loop (mean ± std. dev. of 10 runs, 500 loops each)\n"
     ]
    }
   ],
   "source": [
    "%%timeit -n500 -r10\n",
    "total = []\n",
    "for i in range(1000):\n",
    "    total += [i]"
   ]
  },
  {
   "cell_type": "markdown",
   "metadata": {},
   "source": [
    "- `%%timeit`: This is the magic command that indicates the following cell's code will be timed.\n",
    "- `-n500`: Specifies the number of loops per timing measurement. In this case, the loop (the code inside the cell) will be executed 500 times per timing measurement.\n",
    "- `-r10`: Specifies the number of repetitions. The entire timing measurement process will be repeated 10 times to get more accurate and consistent results."
   ]
  },
  {
   "cell_type": "code",
   "execution_count": 5,
   "metadata": {
    "slideshow": {
     "slide_type": "fragment"
    }
   },
   "outputs": [
    {
     "name": "stdout",
     "output_type": "stream",
     "text": [
      "37.6 µs ± 7.53 µs per loop (mean ± std. dev. of 10 runs, 500 loops each)\n"
     ]
    }
   ],
   "source": [
    "%%timeit -n500 -r10  ## ## list comprehension\n",
    "total = [i for i in range(1000)]"
   ]
  },
  {
   "cell_type": "markdown",
   "metadata": {
    "slideshow": {
     "slide_type": "slide"
    }
   },
   "source": [
    "## Command-Line Interface\n",
    "\n",
    "---\n",
    "\n",
    "* [Bash](https://en.wikipedia.org/wiki/Bash_(Unix_shell)): text (command-line) interface to operating system (OS)\n",
    "\n",
    "* OS (e.g. Windows, MacOS) handles file operations interfacing with network, etc \n",
    "\n",
    "* From https://pstat-134-234.lsit.ucsb.edu/, choose **Terminal** from **Launcher** menu. Clicking on big blue + button gives you a new launcer pane. \n",
    "\n",
    "* Run system operations using text commands\n",
    "\n",
    "    ```bash\n",
    "    echo \"######## hello\" > somefile.txt ## prints string into file 'somefile.txt'\n",
    "    ls -alh                              ## list files in directory\n",
    "    cat somefile.txt                     ## print contents of 'somefile.txt'\n",
    "    rm somefile.txt                      ## remove 'somefile.txt'\n",
    "    ``` "
   ]
  },
  {
   "cell_type": "markdown",
   "metadata": {
    "slideshow": {
     "slide_type": "subslide"
    }
   },
   "source": [
    "* [Explain Shell](https://explainshell.com/) or AI assistant.\n",
    "\n",
    "* **Demo**: Use `git` command to clone a repository from Github  \n",
    "    _Note: self-learning git is recommended but not required for the course_ [[Software carpentry lesson: git](https://swcarpentry.github.io/git-novice/)]\n",
    "    \n",
    "* More on command line later    "
   ]
  },
  {
   "cell_type": "markdown",
   "metadata": {
    "slideshow": {
     "slide_type": "subslide"
    }
   },
   "source": [
    "### Run CLI from Jupyter Notebook\n",
    "\n",
    "### Example: Run bash commands: `%%bash`\n",
    "\n",
    "Bash is a shell scripting language. Bash language can coexist in Jupyter notebook. "
   ]
  },
  {
   "cell_type": "code",
   "execution_count": 6,
   "metadata": {
    "slideshow": {
     "slide_type": "fragment"
    }
   },
   "outputs": [
    {
     "name": "stdout",
     "output_type": "stream",
     "text": [
      "######## hello\n",
      "######## did you see a hello?\n",
      "######## listing files\n",
      "total 680K\n",
      "drwxr-xr-x 1 lnbar lnbar    0 Apr  1 10:34 .\n",
      "drwxr-xr-x 1 lnbar lnbar    0 Mar 31 22:20 ..\n",
      "drwxr-xr-x 1 lnbar lnbar    0 Apr  1 00:30 .ipynb_checkpoints\n",
      "-rw-r--r-- 1 lnbar lnbar 7.9K Mar 31 23:08 00-Syllabus.ipynb\n",
      "-rw-r--r-- 1 lnbar lnbar  29K Apr  1 10:28 01-Statistical-Data-Science.ipynb\n",
      "-rw-r--r-- 1 lnbar lnbar 607K Apr  1 08:30 01-Statistical-Data-Science.slides.html\n",
      "drwxr-xr-x 1 lnbar lnbar    0 Mar 31 22:22 data\n",
      "drwxr-xr-x 1 lnbar lnbar    0 Mar 31 23:10 images\n"
     ]
    }
   ],
   "source": [
    "%%bash\n",
    "\n",
    "echo \"######## hello\" > somefile.txt\n",
    "cat somefile.txt\n",
    "echo \"######## did you see a hello?\"\n",
    "echo \"######## listing files\"\n",
    "rm somefile.txt\n",
    "ls -alh"
   ]
  },
  {
   "cell_type": "markdown",
   "metadata": {
    "slideshow": {
     "slide_type": "slide"
    }
   },
   "source": [
    "### Example: Jupyter Notebook and Bash\n",
    "\n",
    "- [Who is Jovyan?](https://github.com/jupyter/docker-stacks/issues/358)\n",
    "- [\"In science fiction, a Jovian is an inhabitant of the planet Jupiter.\"](https://en.wikipedia.org/wiki/Jovian_%28fiction%29)\n",
    "\n",
    "Shell output can be saved into a Python variable"
   ]
  },
  {
   "cell_type": "code",
   "execution_count": 39,
   "metadata": {
    "slideshow": {
     "slide_type": "fragment"
    }
   },
   "outputs": [
    {
     "name": "stdout",
     "output_type": "stream",
     "text": [
      "file 0 : ls: cannot access '#': No such file or directory\n",
      "file 1 : ls: cannot access 'store': No such file or directory\n",
      "file 2 : ls: cannot access 'filenames': No such file or directory\n",
      "file 3 : ls: cannot access 'in': No such file or directory\n",
      "file 4 : ls: cannot access 'nbfiles': No such file or directory\n",
      "file 5 : ls: cannot access 'variable': No such file or directory\n",
      "file 6 : 00-Syllabus.ipynb\n",
      "file 7 : 01-Statistical-Data-Science.ipynb\n"
     ]
    }
   ],
   "source": [
    "nbfiles = !ls *.ipynb  # store filenames in nbfiles variable\n",
    "\n",
    "for f,one in enumerate(nbfiles):\n",
    "    print(\"file\", f, \":\", one)\n"
   ]
  },
  {
   "cell_type": "markdown",
   "metadata": {
    "slideshow": {
     "slide_type": "slide"
    }
   },
   "source": [
    "### Example: Exporting notebooks\n",
    "\n",
    "- Notebooks can be converted using [`nbconvert`](https://nbconvert.readthedocs.io/en/latest/)\n",
    "    - Slides\n",
    "    - Static web pages  \n",
    "        e.g. auto-updating reporting, blogs, etc\n",
    "\n",
    "- Shell script to automated execution  \n",
    "    `jupyter nbconvert --to html --execute mynotebook.ipynb`\n",
    "  \n",
    "\n",
    "- Notebook conversion depends on other software."
   ]
  },
  {
   "cell_type": "code",
   "execution_count": 37,
   "metadata": {},
   "outputs": [],
   "source": [
    "  # In bash: jupyter nbconvert --to html --execute 00-Syllabus.ipynb"
   ]
  },
  {
   "cell_type": "code",
   "execution_count": null,
   "metadata": {},
   "outputs": [],
   "source": []
  }
 ],
 "metadata": {
  "celltoolbar": "Slideshow",
  "kernelspec": {
   "display_name": "Python 3 (ipykernel)",
   "language": "python",
   "name": "python3"
  },
  "language_info": {
   "codemirror_mode": {
    "name": "ipython",
    "version": 3
   },
   "file_extension": ".py",
   "mimetype": "text/x-python",
   "name": "python",
   "nbconvert_exporter": "python",
   "pygments_lexer": "ipython3",
   "version": "3.11.1"
  },
  "toc": {
   "base_numbering": "2",
   "nav_menu": {},
   "number_sections": false,
   "sideBar": true,
   "skip_h1_title": false,
   "title_cell": "Table of Contents",
   "title_sidebar": "Contents",
   "toc_cell": true,
   "toc_position": {
    "height": "306.8px",
    "left": "130px",
    "top": "386.8px",
    "width": "312.688px"
   },
   "toc_section_display": true,
   "toc_window_display": false
  },
  "vscode": {
   "interpreter": {
    "hash": "d4d1e4263499bec80672ea0156c357c1ee493ec2b1c70f0acce89fc37c4a6abe"
   }
  }
 },
 "nbformat": 4,
 "nbformat_minor": 4
}
