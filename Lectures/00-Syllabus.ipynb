{
 "cells": [
  {
   "cell_type": "markdown",
   "metadata": {
    "slideshow": {
     "slide_type": "slide"
    }
   },
   "source": [
    "# PSTAT 134/234 - Statistical Data Science\n",
    "\n",
    "---\n",
    "\n",
    "## Instructor: \n",
    "#### Laura Baracaldo: lnbaracaldol@ucsb.edu\n",
    "\n",
    "- Lectures: Monday/Wednesday 9:30am - 10:45am, **Location:** BUCHN 1920 \n",
    "\n",
    "- Office: Old Gym 1201\n",
    "\n",
    "- Office hours: Mon 12:30-1:30 pm\n",
    "\n",
    "\n",
    "## Teaching Assistants: \n",
    "#### Blythe King: blytheking@ucsb.edu, Mengye Liu: mengye@ucsb.edu\n",
    "- Sections: Thursday 12pm - 12:50pm / 1 - 1:50 pm /2pm - 2:50pm / 3 - 3:50 pm. Location: PHELP 1525\n",
    "- Office hours:\n",
    "- Blythe King: TBD\n",
    "- Mengye Liu: TBD\n",
    "\n",
    "\n",
    "\n",
    "\n"
   ]
  },
  {
   "cell_type": "markdown",
   "metadata": {
    "slideshow": {
     "slide_type": "slide"
    }
   },
   "source": [
    "# Course Information \n",
    "\n",
    "---\n",
    "\n",
    "## Grading\n",
    "\n",
    "* Labs (10%): will be assigned weekly in most weeks.\n",
    "\n",
    "* Indvidual in-class pop quizzes (10%)\n",
    "\n",
    "* Individual in-class midterm (20%): Wed May 1st.\n",
    "\n",
    "* Individual assignments (30%): will be assigned biweekly.\n",
    "\n",
    "* Final exam (30%)\n",
    "\n",
    "\n",
    "## Textbooks\n",
    "\n",
    "- [Python Data Science Handbook](https://jakevdp.github.io/PythonDataScienceHandbook/) by Jake Vanderplas\n",
    "\n",
    "- Other resources as necessary\n",
    "\n",
    "\n",
    "## Learn by doing\n",
    "\n",
    "- Critical statistical thinking is crucial\n",
    "\n",
    "- Significant programming is required\n",
    "\n",
    "- Many software tools will be new \n",
    "    e.g., R, Python, command line tools, etc\n",
    "\n",
    "- Proactive attitude is a must!  \n",
    "    e.g., asking questions, discussing, experimenting\n",
    "\n",
    "- Diverse backgrounds mean you will have different strengths!  \n",
    "    Help each other, and assess your own areas of improvement\n",
    "\n",
    "- You don't have to be an expert at everything\n",
    "\n",
    "- But you have to be willing to dig deeper on your own"
   ]
  },
  {
   "cell_type": "markdown",
   "metadata": {},
   "source": [
    "# Course outline\n",
    "\n",
    "---\n",
    "\n",
    "* **Week 1-2**: Data and uncertainty  \n",
    "* **Week 3-4**: Distributions, Bootstrap, EDA and Visualization\n",
    "* **In-class midterm** (5/2)\n",
    "* **Week 5-6**: Dimension Reduction and Recommendation system module\n",
    "\n",
    "* **Week 7**: Command Line and Data Collection\n",
    "               \n",
    "* **Week 8**: Finance data module\n",
    "\n",
    "* **Week 9-10**: Covariance-Estimation in High Dimensions\n",
    "\n",
    "\n"
   ]
  },
  {
   "cell_type": "markdown",
   "metadata": {
    "slideshow": {
     "slide_type": "slide"
    }
   },
   "source": [
    "# Computational Environment\n",
    "\n",
    "## Jupyterhub\n",
    "\n",
    "* [Course Jupyter Hub](https://pstat-134-234.lsit.ucsb.edu/)\n"
   ]
  },
  {
   "cell_type": "markdown",
   "metadata": {
    "tags": []
   },
   "source": [
    "# Policies \n",
    "\n",
    "## Communication\n",
    "There are two primary means of communication with course staff and other students: office hours and [Nectir](https://app.nectir.io/invite/kZZpvB). The instructor is available to answer questions during office hours. The Teaching assistants and learning assistants are available via Nectir  and office hours.\n",
    "\n",
    "### Email\n",
    "Course staff have limited availability via email. Course staff will make every effort to respond to individual communication within 48 weekday-hours on the following (or similar) matters:\n",
    "\n",
    "* Accommodations/extensions due to personal circumstances;\n",
    "* Logistical issues such as access to materials or missing scores;\n",
    "* General advising.\n",
    "* Email should not* be used to ask content questions or submit assignments (unless specifically requested)*.\n",
    "Emails related to the following (or similar) matters may not receive replies and should be redirected:\n",
    "\n",
    "\n",
    "**Troubleshooting codes:** Nectir\\\n",
    "**Checking answers:** Office hours or Nectir\\\n",
    "**Clarifying assignment content:** Office hours or Nectir\\\n",
    "**Assignment submission:** Canvas\\\n",
    "**Re-evaluation request:** Canvas\n",
    "\n",
    "## Expected time commitment\n",
    "The course is 4 credit units; each credit unit corresponds to an approximate time commitment of 3 hours. So, students should expect to allocate 12 hours per week to the course on average. Course staff are available to help any students spending considerably more time on the class balance the workload.\n",
    "\n",
    "## Scores and grades\n",
    "Scores on submitted work can be monitored on Gradescope to ensure fair assignment of course grades. On any individual assignment, re-evaluation can be requested **within one week of receiving a score**. Requests for re-evaluation made beyond one week after publication of scores may or may not be considered on a discretionary basis.\n",
    "\n",
    "Determination of letter grade assignments is made entirely at the discretion of the instructor based on the assessments outlined above and consistent with university policy. Students are not permitted to negotiate their grades, and are discouraged from requesting audits, recalculations, or verification of self-calculations after the course has concluded. The instructor is under no obligation to share the details of grade calculations with students or to respond to such requests.\n",
    "\n",
    "If at the end of the course a student believes their grade was unfairly assigned, either due to discrimination or without basis in coursework, they are entitled to contest it according to the procedure outlined here Links to an external site [outlined here](https://my.sa.ucsb.edu/catalog/Current/AcademicPoliciesProcedures/ContestedGrades.aspx).\n",
    "\n",
    "## Conduct\n",
    "Students are expected to uphold the [student code of conduct](https://studentconduct.sa.ucsb.edu/policies-procedures). and to maintain integrity. All individually-submitted work must be an honest reflection of individual effort. Evidence of dishonest conduct will be discussed with the student(s) involved and reported to the Office of Student Conduct (OSC). Depending on the nature of the evidence and the violation, penalty in the course may range from a warning to loss of credit to automatic failure. For a definition and examples of dishonesty, a discussion of what constitutes an appropriate response from faculty, and an explanation of the reporting and investigation process, see the OSC page on [academic integrity](https://studentconduct.sa.ucsb.edu/academic-integrity)\n",
    "\n",
    "## Deadlines and late work\n",
    "Late work will not be accepted after the deadline for any assignment without prior approval. There is a one-hour grace period on all submission deadlines (except in-class evaluations).\n",
    "\n",
    "## Accommodations\n",
    "Reasonable accommodations will be made for any student with a qualifying disability. Such requests should be made through the Disabled Students Program (DSP). More information, instructions on how to access accommodations, and information on related resources can be found on the [DSP website](https://dsp.sa.ucsb.edu/).\n"
   ]
  }
 ],
 "metadata": {
  "kernelspec": {
   "display_name": "Python 3 (ipykernel)",
   "language": "python",
   "name": "python3"
  },
  "language_info": {
   "codemirror_mode": {
    "name": "ipython",
    "version": 3
   },
   "file_extension": ".py",
   "mimetype": "text/x-python",
   "name": "python",
   "nbconvert_exporter": "python",
   "pygments_lexer": "ipython3",
   "version": "3.11.1"
  }
 },
 "nbformat": 4,
 "nbformat_minor": 4
}
