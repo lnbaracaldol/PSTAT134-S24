{
 "cells": [
  {
   "cell_type": "markdown",
   "metadata": {
    "slideshow": {
     "slide_type": "slide"
    }
   },
   "source": [
    "# Optimizing Stock Portfolio Allocation <a class='tocSkip'>\n"
   ]
  },
  {
   "cell_type": "markdown",
   "metadata": {
    "slideshow": {
     "slide_type": "slide"
    },
    "tags": []
   },
   "source": [
    "## Installing Packages in Python\n",
    "\n",
    "* Default package source for `pip` command is Python Package Index (PyPI)  \n",
    "    e.g., https://pypi.org/project/yfinance/\n",
    "* Can also install from github repository: \n",
    "    https://pypi.org/project/yfinance/"
   ]
  },
  {
   "cell_type": "code",
   "execution_count": 1,
   "metadata": {
    "slideshow": {
     "slide_type": "subslide"
    },
    "tags": []
   },
   "outputs": [
    {
     "name": "stdout",
     "output_type": "stream",
     "text": [
      "Requirement already satisfied: yfinance in /opt/conda/lib/python3.11/site-packages (0.2.37)\n",
      "Requirement already satisfied: pandas>=1.3.0 in /opt/conda/lib/python3.11/site-packages (from yfinance) (2.2.1)\n",
      "Requirement already satisfied: numpy>=1.16.5 in /opt/conda/lib/python3.11/site-packages (from yfinance) (1.26.4)\n",
      "Requirement already satisfied: requests>=2.31 in /opt/conda/lib/python3.11/site-packages (from yfinance) (2.31.0)\n",
      "Requirement already satisfied: multitasking>=0.0.7 in /opt/conda/lib/python3.11/site-packages (from yfinance) (0.0.11)\n",
      "Requirement already satisfied: lxml>=4.9.1 in /opt/conda/lib/python3.11/site-packages (from yfinance) (5.2.0)\n",
      "Requirement already satisfied: appdirs>=1.4.4 in /opt/conda/lib/python3.11/site-packages (from yfinance) (1.4.4)\n",
      "Requirement already satisfied: pytz>=2022.5 in /opt/conda/lib/python3.11/site-packages (from yfinance) (2023.3.post1)\n",
      "Requirement already satisfied: frozendict>=2.3.4 in /opt/conda/lib/python3.11/site-packages (from yfinance) (2.4.1)\n",
      "Requirement already satisfied: peewee>=3.16.2 in /opt/conda/lib/python3.11/site-packages (from yfinance) (3.17.1)\n",
      "Requirement already satisfied: beautifulsoup4>=4.11.1 in /opt/conda/lib/python3.11/site-packages (from yfinance) (4.12.2)\n",
      "Requirement already satisfied: html5lib>=1.1 in /opt/conda/lib/python3.11/site-packages (from yfinance) (1.1)\n",
      "Requirement already satisfied: soupsieve>1.2 in /opt/conda/lib/python3.11/site-packages (from beautifulsoup4>=4.11.1->yfinance) (2.5)\n",
      "Requirement already satisfied: six>=1.9 in /opt/conda/lib/python3.11/site-packages (from html5lib>=1.1->yfinance) (1.16.0)\n",
      "Requirement already satisfied: webencodings in /opt/conda/lib/python3.11/site-packages (from html5lib>=1.1->yfinance) (0.5.1)\n",
      "Requirement already satisfied: python-dateutil>=2.8.2 in /opt/conda/lib/python3.11/site-packages (from pandas>=1.3.0->yfinance) (2.8.2)\n",
      "Requirement already satisfied: tzdata>=2022.7 in /opt/conda/lib/python3.11/site-packages (from pandas>=1.3.0->yfinance) (2024.1)\n",
      "Requirement already satisfied: charset-normalizer<4,>=2 in /opt/conda/lib/python3.11/site-packages (from requests>=2.31->yfinance) (3.2.0)\n",
      "Requirement already satisfied: idna<4,>=2.5 in /opt/conda/lib/python3.11/site-packages (from requests>=2.31->yfinance) (3.4)\n",
      "Requirement already satisfied: urllib3<3,>=1.21.1 in /opt/conda/lib/python3.11/site-packages (from requests>=2.31->yfinance) (2.0.4)\n",
      "Requirement already satisfied: certifi>=2017.4.17 in /opt/conda/lib/python3.11/site-packages (from requests>=2.31->yfinance) (2024.2.2)\n"
     ]
    }
   ],
   "source": [
    "# install from pypi\n",
    "!pip install yfinance"
   ]
  },
  {
   "cell_type": "code",
   "execution_count": 2,
   "metadata": {
    "hideCode": false,
    "slideshow": {
     "slide_type": "subslide"
    },
    "tags": []
   },
   "outputs": [],
   "source": [
    "# install from github\n",
    "#!pip install git+https://github.com/ranaroussi/yfinance"
   ]
  },
  {
   "cell_type": "code",
   "execution_count": 11,
   "metadata": {},
   "outputs": [],
   "source": [
    "! pip list"
   ]
  },
  {
   "cell_type": "code",
   "execution_count": 2,
   "metadata": {
    "tags": []
   },
   "outputs": [
    {
     "name": "stdout",
     "output_type": "stream",
     "text": [
      "Requirement already satisfied: cvxpy in /opt/conda/lib/python3.11/site-packages (1.4.2)\n",
      "Requirement already satisfied: osqp>=0.6.2 in /opt/conda/lib/python3.11/site-packages (from cvxpy) (0.6.5)\n",
      "Requirement already satisfied: ecos>=2 in /opt/conda/lib/python3.11/site-packages (from cvxpy) (2.0.13)\n",
      "Requirement already satisfied: clarabel>=0.5.0 in /opt/conda/lib/python3.11/site-packages (from cvxpy) (0.7.1)\n",
      "Requirement already satisfied: scs>=3.0 in /opt/conda/lib/python3.11/site-packages (from cvxpy) (3.2.4.post1)\n",
      "Requirement already satisfied: numpy>=1.15 in /opt/conda/lib/python3.11/site-packages (from cvxpy) (1.26.4)\n",
      "Requirement already satisfied: scipy>=1.1.0 in /opt/conda/lib/python3.11/site-packages (from cvxpy) (1.11.4)\n",
      "Requirement already satisfied: pybind11 in /opt/conda/lib/python3.11/site-packages (from cvxpy) (2.12.0)\n",
      "Requirement already satisfied: qdldl in /opt/conda/lib/python3.11/site-packages (from osqp>=0.6.2->cvxpy) (0.1.7.post0)\n"
     ]
    }
   ],
   "source": [
    "!pip install cvxpy"
   ]
  },
  {
   "cell_type": "code",
   "execution_count": 3,
   "metadata": {
    "slideshow": {
     "slide_type": "skip"
    },
    "tags": []
   },
   "outputs": [],
   "source": [
    "import pandas as pd\n",
    "import numpy as np\n",
    "import pickle\n",
    "import cvxpy\n",
    "import warnings\n",
    "warnings.filterwarnings(\"ignore\")"
   ]
  },
  {
   "cell_type": "markdown",
   "metadata": {
    "slideshow": {
     "slide_type": "slide"
    }
   },
   "source": [
    "## Introduction to Portfolio Theory\n",
    "\n",
    "### Stock Prices vs. Returns \n",
    "\n",
    "* Model stock returns as random variables\n",
    "* Returns depend on change in stock prices:  \n",
    "    $$ R_t = \\frac{P_t - P_{t-1}}{P_{t-1}} = \\frac{P_t}{P_{t-1}} - 1 $$"
   ]
  },
  {
   "cell_type": "markdown",
   "metadata": {
    "slideshow": {
     "slide_type": "fragment"
    }
   },
   "source": [
    "* Linear approximation of $\\log(1+x)\\approx x$ when $x$ is small. \n",
    "* Since daily stock returns are small,\n",
    "$$ R_t \\approx \\log(1 + R_t) = \\log\\left(\\frac{P_t}{P_{t-1}}\\right) = \\log(P_t) - \\log(P_{t-1})$$"
   ]
  },
  {
   "cell_type": "markdown",
   "metadata": {
    "slideshow": {
     "slide_type": "fragment"
    }
   },
   "source": [
    "* Compute the log-returns then difference of log prices (converting data)"
   ]
  },
  {
   "cell_type": "markdown",
   "metadata": {
    "slideshow": {
     "slide_type": "subslide"
    }
   },
   "source": [
    "### Modeling Stock Returns\n",
    "\n",
    "* In classical portfolio theory, stock returns are normally distributed\n",
    "* Daily returns of two stocks: $R_A$ and $R_B$ of two stocks $A$ and $B$\n",
    "* Jointly normally distributed: bivariate normal distribution: \n",
    "$$\\begin{aligned}\n",
    "\\begin{pmatrix}\n",
    "R_A\\\\ R_B\n",
    "\\end{pmatrix}\n",
    "\\sim\n",
    "N\\left(\n",
    "\\begin{pmatrix}\n",
    "\\mu_A\\\\ \\mu_B\n",
    "\\end{pmatrix},\n",
    "\\begin{pmatrix}\n",
    "\\sigma_A^2 & \\sigma_{AB}\\\\\n",
    "\\sigma_{AB} & \\sigma_B^2\n",
    "\\end{pmatrix}\n",
    "\\right)\n",
    "\\end{aligned}$$"
   ]
  },
  {
   "cell_type": "markdown",
   "metadata": {
    "slideshow": {
     "slide_type": "fragment"
    }
   },
   "source": [
    "* Marginal distributions: \n",
    "$$R_A \\sim N(\\mu_A,\\sigma_A^2) \\text{, and } R_B \\sim N(\\mu_B,\\sigma_B^2),$$\n",
    "* Covariance and correlation are\n",
    "$$\\sigma_\\text{AB} = \\text{Cov}(R_A,R_B) \\text{, and } \\rho_\\text{AB} = \\frac{\\sigma_\\text{AB}}{\\sigma_A\\sigma_B}$$"
   ]
  },
  {
   "cell_type": "markdown",
   "metadata": {
    "slideshow": {
     "slide_type": "subslide"
    }
   },
   "source": [
    "### Modeling Portfolio Returns\n",
    "\n",
    "* Two-stock portfolio: Return for the portfolio $R_p$ is \n",
    "$$R_p = R_A x_A + R_B x_B,$$\n",
    "* Allocations: $x_A$ and $x_B$ are proportions of stocks $A$ and $B$ such that  \n",
    "$$x_A + x_B = 1$$"
   ]
  },
  {
   "cell_type": "markdown",
   "metadata": {
    "slideshow": {
     "slide_type": "fragment"
    }
   },
   "source": [
    "* $R_p$ is also normally distributed with following mean and variance:\n",
    "$$\\begin{aligned}\n",
    "\\mu_p &= \\text{E}(R_p) \\\\\n",
    "    &= \\text{E}(R_B)\\, x_A + \\text{E}(R_B)\\, x_B\\\\\n",
    "    &= \\mu_A x_A + \\mu_B x_B\\\\\n",
    "\\sigma_p^2 &= \\text{Var}(R_p) \\\\\n",
    "    &= \\text{E}\\left((R_p - \\text{E}(R_p))^2\\right) \\\\\n",
    "    &= \\sigma_A^2\\,x_A^2 + \\sigma_B^2\\,x_B^2 + 2\\sigma_{AB}x_A x_B.\n",
    "\\end{aligned}\n",
    "$$\n",
    "Note that $\\sigma_{AB} = \\rho_{AB}\\sigma_A\\sigma_B$.\n",
    "* Distribution of the portfolio return is\n",
    "$$ R_p \\sim N(\\mu_p, \\sigma_p^2) $$"
   ]
  },
  {
   "cell_type": "markdown",
   "metadata": {
    "slideshow": {
     "slide_type": "subslide"
    }
   },
   "source": [
    "### Hedging Portfolio Risk\n",
    "\n",
    "* Mean return ($\\mu_p$): weighted average of returns\n",
    "* Risk ($\\sigma_p^2$):  Risk of $p$ can be decreased if $\\rho<0$\n",
    "* Hedge risk by having negatively correlated stocks"
   ]
  },
  {
   "cell_type": "markdown",
   "metadata": {
    "slideshow": {
     "slide_type": "subslide"
    }
   },
   "source": [
    "## Toy Example: Simulating $R_A$ and $R_B$\n",
    "\n",
    "* $R_A\\sim N(0.15, 0.1^2)$ and $R_B\\sim N(0.1, 0.05^2)$\n",
    "* Correlation: $\\rho_{AB} = -0.15$\n",
    "* Portfolio weight distributed evenly: i.e. $x_A = x_B = 0.5$"
   ]
  },
  {
   "cell_type": "code",
   "execution_count": 4,
   "metadata": {
    "slideshow": {
     "slide_type": "-"
    },
    "tags": []
   },
   "outputs": [],
   "source": [
    "# Dictionaries\n",
    "A = {'mu': 0.15, 'sig': 0.1,  'proportion': 0.5}\n",
    "B = {'mu': 0.1,  'sig': 0.05, 'proportion': 0.5}"
   ]
  },
  {
   "cell_type": "markdown",
   "metadata": {
    "slideshow": {
     "slide_type": "subslide"
    }
   },
   "source": [
    "### Generate random returns"
   ]
  },
  {
   "cell_type": "code",
   "execution_count": 5,
   "metadata": {
    "slideshow": {
     "slide_type": "-"
    },
    "tags": []
   },
   "outputs": [],
   "source": [
    "def simulate_returns(A, B, correlation, size=100):\n",
    "    \n",
    "    from numpy import sqrt\n",
    "    from numpy.random import multivariate_normal\n",
    "    from pandas import DataFrame\n",
    "    \n",
    "    # what could go wrong with rounding errors?\n",
    "    assert(A['proportion'] + B['proportion'] == 1) \n",
    "\n",
    "    # construct bivariate normal random variable\n",
    "    mu = [A['mu'], B['mu']]\n",
    "    sigma = [[A['sig']**2, correlation*A['sig']*B['sig']],\n",
    "             [correlation*A['sig']*B['sig'], B['sig']**2]]\n",
    "    \n",
    "    # get random observations\n",
    "    R = multivariate_normal(mu, sigma, size)\n",
    "    Rp = R[:,0]*A['proportion'] + R[:,1]*B['proportion']\n",
    "    \n",
    "    # simulated returns\n",
    "    R = np.hstack((R, Rp.reshape((-1,1))))\n",
    "    \n",
    "    # theoretical properties of portfolio returns\n",
    "    p = {\n",
    "        'mu': A['mu']*A['proportion'] + B['mu']*B['proportion'],\n",
    "        'sig': sqrt(\n",
    "            A['sig']**2*A['proportion']**2 + B['sig']**2*B['proportion']**2 \n",
    "            + 2*correlation*A['sig']*B['sig']*A['proportion']*B['proportion'])\n",
    "        }\n",
    "    \n",
    "    return p, DataFrame(R, columns=['A', 'B', 'p'])"
   ]
  },
  {
   "cell_type": "markdown",
   "metadata": {
    "slideshow": {
     "slide_type": "subslide"
    }
   },
   "source": [
    "### Empirical Returns"
   ]
  },
  {
   "cell_type": "code",
   "execution_count": 6,
   "metadata": {
    "slideshow": {
     "slide_type": "-"
    },
    "tags": []
   },
   "outputs": [
    {
     "name": "stdout",
     "output_type": "stream",
     "text": [
      "A: mean = 0.15, std = 0.0990\n",
      "B: mean = 0.10, std = 0.0497\n",
      "p: mean = 0.13, std = 0.0293\n",
      "cor(R_A, R_B) = -0.8979\n"
     ]
    }
   ],
   "source": [
    "A = {'mu': 0.15, 'sig': 0.1,  'proportion': 0.5}\n",
    "B = {'mu': 0.1,  'sig': 0.05, 'proportion': 0.5}\n",
    "\n",
    "p, R = simulate_returns(A, B, -0.9, 10000)\n",
    "\n",
    "print('A: mean = %1.2f, std = %1.4f' % (R.A.mean(), R.A.std()))\n",
    "print('B: mean = %1.2f, std = %1.4f' % (R.B.mean(), R.B.std()))\n",
    "print('p: mean = %1.2f, std = %1.4f' % (R.p.mean(), R.p.std()))\n",
    "\n",
    "print('cor(R_A, R_B) = %1.4f' % np.corrcoef(R.A, R.B)[1,0])"
   ]
  },
  {
   "cell_type": "markdown",
   "metadata": {},
   "source": [
    "### Empirical Portfolio Returns"
   ]
  },
  {
   "cell_type": "code",
   "execution_count": 7,
   "metadata": {
    "slideshow": {
     "slide_type": "subslide"
    },
    "tags": []
   },
   "outputs": [
    {
     "data": {
      "image/png": "[encoded data removed]",
      "text/plain": [
       "<Figure size 1000x1000 with 4 Axes>"
      ]
     },
     "metadata": {},
     "output_type": "display_data"
    }
   ],
   "source": [
    "p, R = simulate_returns(A, B, -0.5, 1000)\n",
    "pd.plotting.scatter_matrix(R.loc[:,['A','B']], figsize=(10,10));"
   ]
  },
  {
   "cell_type": "markdown",
   "metadata": {
    "slideshow": {
     "slide_type": "subslide"
    }
   },
   "source": [
    "### Theoretical returns\n",
    "\n",
    "Calculate the volatility ($\\sigma^2$) and expected returns ($\\mu$):"
   ]
  },
  {
   "cell_type": "code",
   "execution_count": 8,
   "metadata": {
    "slideshow": {
     "slide_type": "-"
    },
    "tags": []
   },
   "outputs": [
    {
     "name": "stdout",
     "output_type": "stream",
     "text": [
      "A: mean = 0.15, std = 0.1000\n",
      "B: mean = 0.10, std = 0.0500\n",
      "p: mean = 0.12, std = 0.0433\n"
     ]
    }
   ],
   "source": [
    "print('A: mean = %1.2f, std = %1.4f' % (A['mu'], A['sig']))\n",
    "print('B: mean = %1.2f, std = %1.4f' % (B['mu'], B['sig']))\n",
    "print('p: mean = %1.2f, std = %1.4f' % (p['mu'], p['sig']))"
   ]
  },
  {
   "cell_type": "markdown",
   "metadata": {
    "slideshow": {
     "slide_type": "subslide"
    }
   },
   "source": [
    "### Independent Portfolio Theoretical returns\n",
    "\n",
    "If stocks A and B were independent"
   ]
  },
  {
   "cell_type": "code",
   "execution_count": 9,
   "metadata": {
    "slideshow": {
     "slide_type": "-"
    },
    "tags": []
   },
   "outputs": [
    {
     "name": "stdout",
     "output_type": "stream",
     "text": [
      "A: mean = 0.15, std = 0.1000\n",
      "B: mean = 0.10, std = 0.0500\n",
      "\n",
      "p: mean = 0.12, std = 0.0296 (if A and B are correlated )\n",
      "p: mean = 0.12, std = 0.0559 (if A and B are independent)\n"
     ]
    }
   ],
   "source": [
    "p, R = simulate_returns(A, B, -0.9, 10000)\n",
    "print('A: mean = %1.2f, std = %1.4f' % (A['mu'], A['sig']))\n",
    "print('B: mean = %1.2f, std = %1.4f' % (B['mu'], B['sig']))\n",
    "print('')\n",
    "print('p: mean = %1.2f, std = %1.4f (if A and B are correlated )' % (p['mu'], p['sig']))\n",
    "print('p: mean = %1.2f, std = %1.4f (if A and B are independent)' % (p['mu'], np.sqrt(0.5**2*A['sig']**2 + 0.5**2*B['sig']**2)))"
   ]
  },
  {
   "cell_type": "code",
   "execution_count": 10,
   "metadata": {
    "tags": []
   },
   "outputs": [
    {
     "name": "stdout",
     "output_type": "stream",
     "text": [
      "p: mean = 0.12, std = 0.0559 (if A and B are independent )\n"
     ]
    }
   ],
   "source": [
    "# Alternatively we can simulate uncorrelated stocks:\n",
    "p, R = simulate_returns(A, B, 0, 10000)\n",
    "print('p: mean = %1.2f, std = %1.4f (if A and B are independent )' % (p['mu'], p['sig']))"
   ]
  },
  {
   "cell_type": "markdown",
   "metadata": {
    "slideshow": {
     "slide_type": "subslide"
    }
   },
   "source": [
    "#### Empirical (Data) Properties "
   ]
  },
  {
   "cell_type": "code",
   "execution_count": 11,
   "metadata": {
    "slideshow": {
     "slide_type": "-"
    },
    "tags": []
   },
   "outputs": [
    {
     "name": "stdout",
     "output_type": "stream",
     "text": [
      "A: mean = 0.15, std = 0.1006\n",
      "B: mean = 0.10, std = 0.0501\n",
      "p: mean = 0.13, std = 0.0562\n",
      "corr(A, B) = 0.0019\n"
     ]
    }
   ],
   "source": [
    "print('A: mean = %1.2f, std = %1.4f' % (R.A.mean(), R.A.std()))\n",
    "print('B: mean = %1.2f, std = %1.4f' % (R.B.mean(), R.B.std()))\n",
    "print('p: mean = %1.2f, std = %1.4f' % (R.p.mean(), R.p.std()))\n",
    "print('corr(A, B) = %1.4f' % np.corrcoef(R.A, R.B)[0,1])"
   ]
  },
  {
   "cell_type": "markdown",
   "metadata": {
    "slideshow": {
     "slide_type": "subslide"
    }
   },
   "source": [
    "### Efficient frontier of portfolios\n",
    "\n",
    "* Consider all values of $x_A$ and $x_B$\n",
    "\n",
    "* For each combination, compute $\\mu_p$ and $\\sigma_p^2$."
   ]
  },
  {
   "cell_type": "code",
   "execution_count": 12,
   "metadata": {
    "slideshow": {
     "slide_type": "skip"
    },
    "tags": []
   },
   "outputs": [],
   "source": [
    "xa = np.linspace(-1, 2, num=101)\n",
    "pf = pd.DataFrame({'xa':xa, 'xb':1-xa})\n",
    "\n",
    "# pf, R = simulate_returns(A, B, -0.5, 10000)\n",
    "\n",
    "corr = -0.5\n",
    "pf['mu'] = A['mu'] * pf.xa + B['mu'] * pf.xb\n",
    "pf['sig2'] = ((A['sig']**2 * pf.xa**2) + (B['sig']**2 * pf.xb**2) + (2 * corr * A['sig'] * B['sig'] * pf.xa * pf.xb))"
   ]
  },
  {
   "cell_type": "code",
   "execution_count": 13,
   "metadata": {
    "tags": []
   },
   "outputs": [
    {
     "data": {
      "text/html": [
       "<div>\n",
       "<style scoped>\n",
       "    .dataframe tbody tr th:only-of-type {\n",
       "        vertical-align: middle;\n",
       "    }\n",
       "\n",
       "    .dataframe tbody tr th {\n",
       "        vertical-align: top;\n",
       "    }\n",
       "\n",
       "    .dataframe thead th {\n",
       "        text-align: right;\n",
       "    }\n",
       "</style>\n",
       "<table border=\"1\" class=\"dataframe\">\n",
       "  <thead>\n",
       "    <tr style=\"text-align: right;\">\n",
       "      <th></th>\n",
       "      <th>xa</th>\n",
       "      <th>xb</th>\n",
       "      <th>mu</th>\n",
       "      <th>sig2</th>\n",
       "    </tr>\n",
       "  </thead>\n",
       "  <tbody>\n",
       "    <tr>\n",
       "      <th>0</th>\n",
       "      <td>-1.00</td>\n",
       "      <td>2.00</td>\n",
       "      <td>0.0500</td>\n",
       "      <td>0.030000</td>\n",
       "    </tr>\n",
       "    <tr>\n",
       "      <th>1</th>\n",
       "      <td>-0.97</td>\n",
       "      <td>1.97</td>\n",
       "      <td>0.0515</td>\n",
       "      <td>0.028666</td>\n",
       "    </tr>\n",
       "    <tr>\n",
       "      <th>2</th>\n",
       "      <td>-0.94</td>\n",
       "      <td>1.94</td>\n",
       "      <td>0.0530</td>\n",
       "      <td>0.027363</td>\n",
       "    </tr>\n",
       "    <tr>\n",
       "      <th>3</th>\n",
       "      <td>-0.91</td>\n",
       "      <td>1.91</td>\n",
       "      <td>0.0545</td>\n",
       "      <td>0.026092</td>\n",
       "    </tr>\n",
       "    <tr>\n",
       "      <th>4</th>\n",
       "      <td>-0.88</td>\n",
       "      <td>1.88</td>\n",
       "      <td>0.0560</td>\n",
       "      <td>0.024852</td>\n",
       "    </tr>\n",
       "  </tbody>\n",
       "</table>\n",
       "</div>"
      ],
      "text/plain": [
       "     xa    xb      mu      sig2\n",
       "0 -1.00  2.00  0.0500  0.030000\n",
       "1 -0.97  1.97  0.0515  0.028666\n",
       "2 -0.94  1.94  0.0530  0.027363\n",
       "3 -0.91  1.91  0.0545  0.026092\n",
       "4 -0.88  1.88  0.0560  0.024852"
      ]
     },
     "execution_count": 13,
     "metadata": {},
     "output_type": "execute_result"
    }
   ],
   "source": [
    "pf.head()"
   ]
  },
  {
   "cell_type": "code",
   "execution_count": 14,
   "metadata": {
    "hideCode": true,
    "slideshow": {
     "slide_type": "-"
    },
    "tags": []
   },
   "outputs": [
    {
     "data": {
      "image/png": "[encoded data removed]",
      "text/plain": [
       "<Figure size 1300x800 with 1 Axes>"
      ]
     },
     "metadata": {},
     "output_type": "display_data"
    }
   ],
   "source": [
    "%matplotlib inline\n",
    "import matplotlib.pyplot as plt\n",
    "fig, ax = plt.subplots(figsize=(13, 8))\n",
    "plt.plot(pf.sig2, pf.mu, color='b')\n",
    "plt.plot(pf.sig2[pf.xa<0], pf.mu[pf.xa<0], color='r') # sell stock A to fund purchase of stock B\n",
    "plt.plot(pf.sig2[pf.xb<0], pf.mu[pf.xb<0], color='g') # sell stock B to fund purchase of stock A\n",
    "plt.scatter([A['sig']**2, B['sig']**2], [A['mu'], B['mu']])\n",
    "ax.set_xlabel('Portfolio volatility')\n",
    "ax.set_ylabel('Portfolio return')\n",
    "plt.show(p)"
   ]
  },
  {
   "cell_type": "markdown",
   "metadata": {
    "slideshow": {
     "slide_type": "subslide"
    }
   },
   "source": [
    "* Line is called efficient frontier\n",
    "* Represents the lower boundary of achievable volatility\n",
    "* Return and volatility of $A$ and $B$"
   ]
  },
  {
   "cell_type": "markdown",
   "metadata": {},
   "source": [
    "#### Long and short positions\n",
    "\n",
    "* Note that `xa` can be negative\n",
    "* Positive $x_A$ : _long position_ for stock A and indicates a purchase\n",
    "* Negative $x_A$ : _short position_ stock A and indicates a sale\n",
    "* _You are selling stocks that you do not own with the expectation that the price of the stock will fall_\n",
    "* Shorting allows for higher long positions on other stocks."
   ]
  },
  {
   "cell_type": "markdown",
   "metadata": {
    "slideshow": {
     "slide_type": "subslide"
    }
   },
   "source": [
    "#### Minimum variance portfolio (MVP)\n",
    "\n",
    "What is the point at the tip of the parabola? This point indicates what is called the minimum variance portfolio that, regardless of the return, has the minimum volatility. Minimum variance portfolio (MVP) has the minimum volatility of any portfolio achievable.\n",
    "\n",
    "It can be shown that minimum variance portfolio would have the following allocation $x_A$:\n",
    "\n",
    "$$x_A = \\frac{\\sigma_B^2-\\sigma_\\text{AB}^2}{\\sigma_A^2 + \\sigma_B^2 – \\sigma_\\text{AB}^2}$$"
   ]
  },
  {
   "cell_type": "markdown",
   "metadata": {
    "slideshow": {
     "slide_type": "slide"
    }
   },
   "source": [
    "The mathematical problem to solve for the minimum variance portfolio can be stated as follows:\n",
    "$$ \\min_{x_A,x_B}\\ \\ \\sigma_p^2 = \\sigma_A^2 x_A^2 + \\sigma_B^2 x_B^2 + \\sigma_{AB} x_A x_B\\\\\n",
    "\\text{such that }x_A + x_B = 1$$\n",
    "Here, $\\sigma_p^2 = \\sigma_A^2 x_A^2 + \\sigma_B^2 x_B^2 + \\sigma_{AB} x_A x_B$ is called the objective function, and $x_A + x_B = 1$ is called the constraint.\n",
    "\n",
    "The constraint has to be satisfied exactly, and objective wants to be minimized with the freedom of changing the values of $x_A$ and $x_B$."
   ]
  },
  {
   "cell_type": "markdown",
   "metadata": {
    "slideshow": {
     "slide_type": "subslide"
    }
   },
   "source": [
    "### Using `cvxpy` for numerical optimization\n",
    "\n",
    "Calculating analytical solutions is not always possible. There are ways to compute solutions numerically. Although out of scope of our class, a large field in applied math called optimization. The tools from this area allow us to compute solutions for problems such as the one we have here. (For more information, visit the [CVXPY](https://www.cvxpy.org/) website)"
   ]
  },
  {
   "cell_type": "markdown",
   "metadata": {
    "slideshow": {
     "slide_type": "subslide"
    }
   },
   "source": [
    "### Higher dimensional portfolios\n",
    "\n",
    "In higher dimensions, the portfolio equantion is written in terms of vectors and matrices. For example, suppose we construct a portfolio consisting of $s$-assets. The portfolio allocation can be written as,\n",
    "$$\\mathbf{1}^\\intercal x = 1,$$\n",
    "where $x$ is an $s$-vector whose sum adds up to 1: i.e., $x_1 + x_2 + \\cdots + x_s = 1$.\n",
    "\n",
    "The portfolio volatility in matrix-vector form looks like:\n",
    "$$\n",
    "\\begin{pmatrix}x_1 & x_2 & \\cdots & x_s\\end{pmatrix}\n",
    "\\begin{pmatrix}\n",
    "\\sigma_1^2 & \\sigma_{12} & \\cdots & \\sigma_{1s}\\\\\n",
    "\\sigma_{21} & \\sigma_2^2 & \\cdots & \\sigma_{2s}\\\\\n",
    "\\vdots & \\vdots & & \\vdots \\\\\n",
    "\\sigma_{s1} & \\sigma_{s2} & \\cdots & \\sigma_s^2\\\\\n",
    "\\end{pmatrix}\n",
    "\\begin{pmatrix}x_1 \\\\ x_2 \\\\ \\vdots \\\\ x_s\\end{pmatrix}.\n",
    "$$\n",
    "To verify the two stock example result, we check $\\sigma_p^2$:\n",
    "$$\n",
    "\\sigma_p^2 = \\begin{pmatrix}x_1 & x_2\\end{pmatrix}\n",
    "\\begin{pmatrix}\n",
    "\\sigma_1^2 & \\sigma_{12}\\\\\n",
    "\\sigma_{21} & \\sigma_2^2\\\\\n",
    "\\end{pmatrix}\n",
    "\\begin{pmatrix}x_1 \\\\ x_2\\end{pmatrix} = \n",
    "\\begin{pmatrix}x_1 & x_2\\end{pmatrix}\n",
    "\\begin{pmatrix}\n",
    "\\sigma_1^2 x_1 + \\sigma_{12} x_2\\\\\n",
    "\\sigma_{21} x_1 + \\sigma_2^2 x_2\\\\\n",
    "\\end{pmatrix} = \n",
    "\\sigma_1^2 x_1^2 + \\sigma_2^2 x_2^2 + \\sigma_{12} x_1 x_2,\n",
    "$$\n",
    "which matches the result from before.\n",
    "\n",
    "With this notation, we can re-write the problem.\n",
    "\n",
    "$$ \\min_{x\\in\\mathbb{R}^s}\\ \\ x^\\intercal \\Sigma x\\\\\n",
    "\\text{subject to }\\mathbf{1}^\\intercal x = 1,$$\n",
    "\n",
    "It can be shown that the optimal solution to this problem is,\n",
    "$$\n",
    "x^* = (\\mathbf{1}^\\intercal\\Sigma^{-1}\\mathbf{1})^{-1}\\Sigma^{-1}\\mathbf{1}\n",
    "$$."
   ]
  },
  {
   "cell_type": "markdown",
   "metadata": {
    "slideshow": {
     "slide_type": "subslide"
    }
   },
   "source": [
    "There are many variations of this problem. In fact the minimum variance portfolio is special case of a more general problem\n",
    "\n",
    "$$ \\min_{x\\in\\mathbb{R}^s}\\ \\ x^\\intercal \\Sigma x\\\\\n",
    "\\text{subject to }\\mu^\\intercal x\\geq \\mu^* \\text{, and } \\mathbf{1}^\\intercal x = 1,$$\n",
    "\n",
    "Note that in all of the above problems, the measure of $\\mu^*$, expected returns, and covariance matrix have to be provided. In practice, these quantities are estimated from data."
   ]
  },
  {
   "cell_type": "markdown",
   "metadata": {
    "slideshow": {
     "slide_type": "slide"
    }
   },
   "source": [
    "## Portfolio Allocation: Dow Jones component stocks\n",
    "\n",
    "Stock data can have irregularities such as missing data due to stocks being added and removed from the index. Some examples are\n",
    "* Alcoa Corp. (AA) was removed in 2013\n",
    "* Apple (AAPL) was added in 2015\n",
    "* E.I. du Pont de Nemours & Company (DD) was removed and replaced with Dow du Pont (DWDP) as a continuation in 2017\n",
    "\n",
    "For simplicity the stocks we will use are based on the most recent DJIA constituent companies "
   ]
  },
  {
   "cell_type": "code",
   "execution_count": 35,
   "metadata": {
    "slideshow": {
     "slide_type": "subslide"
    },
    "tags": []
   },
   "outputs": [
    {
     "name": "stderr",
     "output_type": "stream",
     "text": [
      "[*********************100%%**********************]  27 of 27 completed\n"
     ]
    },
    {
     "data": {
      "text/html": [
       "<div>\n",
       "<style scoped>\n",
       "    .dataframe tbody tr th:only-of-type {\n",
       "        vertical-align: middle;\n",
       "    }\n",
       "\n",
       "    .dataframe tbody tr th {\n",
       "        vertical-align: top;\n",
       "    }\n",
       "\n",
       "    .dataframe thead tr th {\n",
       "        text-align: left;\n",
       "    }\n",
       "\n",
       "    .dataframe thead tr:last-of-type th {\n",
       "        text-align: right;\n",
       "    }\n",
       "</style>\n",
       "<table border=\"1\" class=\"dataframe\">\n",
       "  <thead>\n",
       "    <tr>\n",
       "      <th>Price</th>\n",
       "      <th colspan=\"10\" halign=\"left\">Adj Close</th>\n",
       "      <th>...</th>\n",
       "      <th colspan=\"10\" halign=\"left\">Volume</th>\n",
       "    </tr>\n",
       "    <tr>\n",
       "      <th>Ticker</th>\n",
       "      <th>AAPL</th>\n",
       "      <th>AXP</th>\n",
       "      <th>BA</th>\n",
       "      <th>BAC</th>\n",
       "      <th>CAT</th>\n",
       "      <th>CSCO</th>\n",
       "      <th>CVX</th>\n",
       "      <th>DD</th>\n",
       "      <th>DIS</th>\n",
       "      <th>GE</th>\n",
       "      <th>...</th>\n",
       "      <th>MMM</th>\n",
       "      <th>MRK</th>\n",
       "      <th>MSFT</th>\n",
       "      <th>PFE</th>\n",
       "      <th>PG</th>\n",
       "      <th>T</th>\n",
       "      <th>TRV</th>\n",
       "      <th>VZ</th>\n",
       "      <th>WMT</th>\n",
       "      <th>XOM</th>\n",
       "    </tr>\n",
       "    <tr>\n",
       "      <th>Date</th>\n",
       "      <th></th>\n",
       "      <th></th>\n",
       "      <th></th>\n",
       "      <th></th>\n",
       "      <th></th>\n",
       "      <th></th>\n",
       "      <th></th>\n",
       "      <th></th>\n",
       "      <th></th>\n",
       "      <th></th>\n",
       "      <th></th>\n",
       "      <th></th>\n",
       "      <th></th>\n",
       "      <th></th>\n",
       "      <th></th>\n",
       "      <th></th>\n",
       "      <th></th>\n",
       "      <th></th>\n",
       "      <th></th>\n",
       "      <th></th>\n",
       "      <th></th>\n",
       "    </tr>\n",
       "  </thead>\n",
       "  <tbody>\n",
       "    <tr>\n",
       "      <th>2000-01-03</th>\n",
       "      <td>0.844981</td>\n",
       "      <td>32.854733</td>\n",
       "      <td>25.940289</td>\n",
       "      <td>12.946366</td>\n",
       "      <td>12.861952</td>\n",
       "      <td>36.641254</td>\n",
       "      <td>17.139811</td>\n",
       "      <td>29.194963</td>\n",
       "      <td>23.040167</td>\n",
       "      <td>112.386337</td>\n",
       "      <td>...</td>\n",
       "      <td>2599386</td>\n",
       "      <td>6265782</td>\n",
       "      <td>53228400</td>\n",
       "      <td>12873345</td>\n",
       "      <td>4275000</td>\n",
       "      <td>7668476</td>\n",
       "      <td>336400</td>\n",
       "      <td>4663843</td>\n",
       "      <td>25109700</td>\n",
       "      <td>13458200</td>\n",
       "    </tr>\n",
       "    <tr>\n",
       "      <th>2000-01-04</th>\n",
       "      <td>0.773740</td>\n",
       "      <td>31.614206</td>\n",
       "      <td>25.899946</td>\n",
       "      <td>12.177940</td>\n",
       "      <td>12.696634</td>\n",
       "      <td>34.585606</td>\n",
       "      <td>17.139811</td>\n",
       "      <td>28.396984</td>\n",
       "      <td>24.389799</td>\n",
       "      <td>107.890823</td>\n",
       "      <td>...</td>\n",
       "      <td>3245705</td>\n",
       "      <td>7894689</td>\n",
       "      <td>54119000</td>\n",
       "      <td>14208974</td>\n",
       "      <td>4270800</td>\n",
       "      <td>9497846</td>\n",
       "      <td>494400</td>\n",
       "      <td>5005878</td>\n",
       "      <td>20235300</td>\n",
       "      <td>14510800</td>\n",
       "    </tr>\n",
       "    <tr>\n",
       "      <th>2000-01-05</th>\n",
       "      <td>0.785063</td>\n",
       "      <td>30.811222</td>\n",
       "      <td>27.513645</td>\n",
       "      <td>12.311582</td>\n",
       "      <td>12.994211</td>\n",
       "      <td>34.479656</td>\n",
       "      <td>17.447252</td>\n",
       "      <td>29.318794</td>\n",
       "      <td>25.402020</td>\n",
       "      <td>107.703522</td>\n",
       "      <td>...</td>\n",
       "      <td>4424482</td>\n",
       "      <td>7963018</td>\n",
       "      <td>64059600</td>\n",
       "      <td>12981591</td>\n",
       "      <td>5098400</td>\n",
       "      <td>12035160</td>\n",
       "      <td>736000</td>\n",
       "      <td>6368681</td>\n",
       "      <td>21056100</td>\n",
       "      <td>17485000</td>\n",
       "    </tr>\n",
       "    <tr>\n",
       "      <th>2000-01-06</th>\n",
       "      <td>0.717125</td>\n",
       "      <td>31.438969</td>\n",
       "      <td>27.796049</td>\n",
       "      <td>13.363992</td>\n",
       "      <td>13.655502</td>\n",
       "      <td>33.907463</td>\n",
       "      <td>18.190229</td>\n",
       "      <td>30.144287</td>\n",
       "      <td>24.389799</td>\n",
       "      <td>109.143494</td>\n",
       "      <td>...</td>\n",
       "      <td>7147057</td>\n",
       "      <td>4989004</td>\n",
       "      <td>54976600</td>\n",
       "      <td>11115273</td>\n",
       "      <td>6524200</td>\n",
       "      <td>9471366</td>\n",
       "      <td>660400</td>\n",
       "      <td>4705763</td>\n",
       "      <td>19633500</td>\n",
       "      <td>19461600</td>\n",
       "    </tr>\n",
       "    <tr>\n",
       "      <th>2000-01-07</th>\n",
       "      <td>0.751094</td>\n",
       "      <td>31.896685</td>\n",
       "      <td>28.602894</td>\n",
       "      <td>13.013184</td>\n",
       "      <td>14.101857</td>\n",
       "      <td>35.899529</td>\n",
       "      <td>18.510487</td>\n",
       "      <td>30.818439</td>\n",
       "      <td>24.004185</td>\n",
       "      <td>113.369652</td>\n",
       "      <td>...</td>\n",
       "      <td>4905035</td>\n",
       "      <td>10871218</td>\n",
       "      <td>62013600</td>\n",
       "      <td>17962163</td>\n",
       "      <td>9832000</td>\n",
       "      <td>7792534</td>\n",
       "      <td>594700</td>\n",
       "      <td>5043907</td>\n",
       "      <td>23930700</td>\n",
       "      <td>16603800</td>\n",
       "    </tr>\n",
       "  </tbody>\n",
       "</table>\n",
       "<p>5 rows × 162 columns</p>\n",
       "</div>"
      ],
      "text/plain": [
       "Price      Adj Close                                                         \\\n",
       "Ticker          AAPL        AXP         BA        BAC        CAT       CSCO   \n",
       "Date                                                                          \n",
       "2000-01-03  0.844981  32.854733  25.940289  12.946366  12.861952  36.641254   \n",
       "2000-01-04  0.773740  31.614206  25.899946  12.177940  12.696634  34.585606   \n",
       "2000-01-05  0.785063  30.811222  27.513645  12.311582  12.994211  34.479656   \n",
       "2000-01-06  0.717125  31.438969  27.796049  13.363992  13.655502  33.907463   \n",
       "2000-01-07  0.751094  31.896685  28.602894  13.013184  14.101857  35.899529   \n",
       "\n",
       "Price                                                    ...   Volume  \\\n",
       "Ticker            CVX         DD        DIS          GE  ...      MMM   \n",
       "Date                                                     ...            \n",
       "2000-01-03  17.139811  29.194963  23.040167  112.386337  ...  2599386   \n",
       "2000-01-04  17.139811  28.396984  24.389799  107.890823  ...  3245705   \n",
       "2000-01-05  17.447252  29.318794  25.402020  107.703522  ...  4424482   \n",
       "2000-01-06  18.190229  30.144287  24.389799  109.143494  ...  7147057   \n",
       "2000-01-07  18.510487  30.818439  24.004185  113.369652  ...  4905035   \n",
       "\n",
       "Price                                                                         \\\n",
       "Ticker           MRK      MSFT       PFE       PG         T     TRV       VZ   \n",
       "Date                                                                           \n",
       "2000-01-03   6265782  53228400  12873345  4275000   7668476  336400  4663843   \n",
       "2000-01-04   7894689  54119000  14208974  4270800   9497846  494400  5005878   \n",
       "2000-01-05   7963018  64059600  12981591  5098400  12035160  736000  6368681   \n",
       "2000-01-06   4989004  54976600  11115273  6524200   9471366  660400  4705763   \n",
       "2000-01-07  10871218  62013600  17962163  9832000   7792534  594700  5043907   \n",
       "\n",
       "Price                           \n",
       "Ticker           WMT       XOM  \n",
       "Date                            \n",
       "2000-01-03  25109700  13458200  \n",
       "2000-01-04  20235300  14510800  \n",
       "2000-01-05  21056100  17485000  \n",
       "2000-01-06  19633500  19461600  \n",
       "2000-01-07  23930700  16603800  \n",
       "\n",
       "[5 rows x 162 columns]"
      ]
     },
     "execution_count": 35,
     "metadata": {},
     "output_type": "execute_result"
    }
   ],
   "source": [
    "dowjones_components = [\n",
    "    'AAPL','AXP','BA','BAC','CAT',\n",
    "    'CSCO','CVX','DD','DIS','GE',\n",
    "    'HD','IBM','INTC','JNJ',\n",
    "    'JPM','KO','MCD','MMM',\n",
    "    'MRK','MSFT','PFE','PG','T',\n",
    "    'TRV','VZ','WMT','XOM'\n",
    "]\n",
    "\n",
    "symbols = pd.read_csv('data/tickers.csv').set_index('code')\n",
    "\n",
    "import yfinance as yf\n",
    "rawdata = yf.download(dowjones_components, start=\"2000-01-01\", end=\"2023-04-30\")\n",
    "rawdata.head()"
   ]
  },
  {
   "cell_type": "code",
   "execution_count": 36,
   "metadata": {
    "tags": []
   },
   "outputs": [
    {
     "data": {
      "text/html": [
       "<div>\n",
       "<style scoped>\n",
       "    .dataframe tbody tr th:only-of-type {\n",
       "        vertical-align: middle;\n",
       "    }\n",
       "\n",
       "    .dataframe tbody tr th {\n",
       "        vertical-align: top;\n",
       "    }\n",
       "\n",
       "    .dataframe thead tr th {\n",
       "        text-align: left;\n",
       "    }\n",
       "\n",
       "    .dataframe thead tr:last-of-type th {\n",
       "        text-align: right;\n",
       "    }\n",
       "</style>\n",
       "<table border=\"1\" class=\"dataframe\">\n",
       "  <thead>\n",
       "    <tr>\n",
       "      <th>Price</th>\n",
       "      <th colspan=\"10\" halign=\"left\">Adj Close</th>\n",
       "      <th>...</th>\n",
       "      <th colspan=\"10\" halign=\"left\">Volume</th>\n",
       "    </tr>\n",
       "    <tr>\n",
       "      <th>Ticker</th>\n",
       "      <th>AAPL</th>\n",
       "      <th>AXP</th>\n",
       "      <th>BA</th>\n",
       "      <th>BAC</th>\n",
       "      <th>CAT</th>\n",
       "      <th>CSCO</th>\n",
       "      <th>CVX</th>\n",
       "      <th>DD</th>\n",
       "      <th>DIS</th>\n",
       "      <th>GE</th>\n",
       "      <th>...</th>\n",
       "      <th>MMM</th>\n",
       "      <th>MRK</th>\n",
       "      <th>MSFT</th>\n",
       "      <th>PFE</th>\n",
       "      <th>PG</th>\n",
       "      <th>T</th>\n",
       "      <th>TRV</th>\n",
       "      <th>VZ</th>\n",
       "      <th>WMT</th>\n",
       "      <th>XOM</th>\n",
       "    </tr>\n",
       "    <tr>\n",
       "      <th>Date</th>\n",
       "      <th></th>\n",
       "      <th></th>\n",
       "      <th></th>\n",
       "      <th></th>\n",
       "      <th></th>\n",
       "      <th></th>\n",
       "      <th></th>\n",
       "      <th></th>\n",
       "      <th></th>\n",
       "      <th></th>\n",
       "      <th></th>\n",
       "      <th></th>\n",
       "      <th></th>\n",
       "      <th></th>\n",
       "      <th></th>\n",
       "      <th></th>\n",
       "      <th></th>\n",
       "      <th></th>\n",
       "      <th></th>\n",
       "      <th></th>\n",
       "      <th></th>\n",
       "    </tr>\n",
       "  </thead>\n",
       "  <tbody>\n",
       "    <tr>\n",
       "      <th>2023-04-24</th>\n",
       "      <td>164.229462</td>\n",
       "      <td>158.382339</td>\n",
       "      <td>205.770004</td>\n",
       "      <td>28.845356</td>\n",
       "      <td>219.366409</td>\n",
       "      <td>45.960049</td>\n",
       "      <td>164.658997</td>\n",
       "      <td>69.117455</td>\n",
       "      <td>99.356186</td>\n",
       "      <td>79.577919</td>\n",
       "      <td>...</td>\n",
       "      <td>4229056</td>\n",
       "      <td>4299100</td>\n",
       "      <td>26611000</td>\n",
       "      <td>17633700</td>\n",
       "      <td>8109800</td>\n",
       "      <td>60001400</td>\n",
       "      <td>1015700</td>\n",
       "      <td>20362500</td>\n",
       "      <td>13579500</td>\n",
       "      <td>15831300</td>\n",
       "    </tr>\n",
       "    <tr>\n",
       "      <th>2023-04-25</th>\n",
       "      <td>162.679825</td>\n",
       "      <td>153.973801</td>\n",
       "      <td>202.190002</td>\n",
       "      <td>27.953632</td>\n",
       "      <td>214.653732</td>\n",
       "      <td>45.669102</td>\n",
       "      <td>162.268066</td>\n",
       "      <td>66.609436</td>\n",
       "      <td>97.691612</td>\n",
       "      <td>78.219177</td>\n",
       "      <td>...</td>\n",
       "      <td>6065394</td>\n",
       "      <td>5662800</td>\n",
       "      <td>45772200</td>\n",
       "      <td>24492400</td>\n",
       "      <td>8341800</td>\n",
       "      <td>46691800</td>\n",
       "      <td>1208700</td>\n",
       "      <td>24959400</td>\n",
       "      <td>17246700</td>\n",
       "      <td>12179800</td>\n",
       "    </tr>\n",
       "    <tr>\n",
       "      <th>2023-04-26</th>\n",
       "      <td>162.669891</td>\n",
       "      <td>153.579285</td>\n",
       "      <td>203.029999</td>\n",
       "      <td>27.565928</td>\n",
       "      <td>212.258102</td>\n",
       "      <td>45.135696</td>\n",
       "      <td>159.377777</td>\n",
       "      <td>66.002029</td>\n",
       "      <td>96.296165</td>\n",
       "      <td>76.447243</td>\n",
       "      <td>...</td>\n",
       "      <td>3795386</td>\n",
       "      <td>6607900</td>\n",
       "      <td>64599200</td>\n",
       "      <td>22401400</td>\n",
       "      <td>4843700</td>\n",
       "      <td>42482900</td>\n",
       "      <td>1168200</td>\n",
       "      <td>21499300</td>\n",
       "      <td>12910200</td>\n",
       "      <td>15566100</td>\n",
       "    </tr>\n",
       "    <tr>\n",
       "      <th>2023-04-27</th>\n",
       "      <td>167.288971</td>\n",
       "      <td>156.271759</td>\n",
       "      <td>206.039993</td>\n",
       "      <td>28.002098</td>\n",
       "      <td>210.431915</td>\n",
       "      <td>45.155090</td>\n",
       "      <td>160.309189</td>\n",
       "      <td>67.305008</td>\n",
       "      <td>99.605377</td>\n",
       "      <td>77.917236</td>\n",
       "      <td>...</td>\n",
       "      <td>2862148</td>\n",
       "      <td>9975200</td>\n",
       "      <td>46462600</td>\n",
       "      <td>22434000</td>\n",
       "      <td>4805600</td>\n",
       "      <td>36926900</td>\n",
       "      <td>1573700</td>\n",
       "      <td>28841000</td>\n",
       "      <td>12861000</td>\n",
       "      <td>16279200</td>\n",
       "    </tr>\n",
       "    <tr>\n",
       "      <th>2023-04-28</th>\n",
       "      <td>168.550491</td>\n",
       "      <td>159.122009</td>\n",
       "      <td>206.779999</td>\n",
       "      <td>28.380110</td>\n",
       "      <td>214.820633</td>\n",
       "      <td>45.824272</td>\n",
       "      <td>161.874374</td>\n",
       "      <td>68.304306</td>\n",
       "      <td>102.167030</td>\n",
       "      <td>78.640305</td>\n",
       "      <td>...</td>\n",
       "      <td>4764505</td>\n",
       "      <td>8049900</td>\n",
       "      <td>36446700</td>\n",
       "      <td>21003600</td>\n",
       "      <td>5754000</td>\n",
       "      <td>40664000</td>\n",
       "      <td>1052700</td>\n",
       "      <td>19194400</td>\n",
       "      <td>14088600</td>\n",
       "      <td>24374000</td>\n",
       "    </tr>\n",
       "  </tbody>\n",
       "</table>\n",
       "<p>5 rows × 162 columns</p>\n",
       "</div>"
      ],
      "text/plain": [
       "Price        Adj Close                                                 \\\n",
       "Ticker            AAPL         AXP          BA        BAC         CAT   \n",
       "Date                                                                    \n",
       "2023-04-24  164.229462  158.382339  205.770004  28.845356  219.366409   \n",
       "2023-04-25  162.679825  153.973801  202.190002  27.953632  214.653732   \n",
       "2023-04-26  162.669891  153.579285  203.029999  27.565928  212.258102   \n",
       "2023-04-27  167.288971  156.271759  206.039993  28.002098  210.431915   \n",
       "2023-04-28  168.550491  159.122009  206.779999  28.380110  214.820633   \n",
       "\n",
       "Price                                                                ...  \\\n",
       "Ticker           CSCO         CVX         DD         DIS         GE  ...   \n",
       "Date                                                                 ...   \n",
       "2023-04-24  45.960049  164.658997  69.117455   99.356186  79.577919  ...   \n",
       "2023-04-25  45.669102  162.268066  66.609436   97.691612  78.219177  ...   \n",
       "2023-04-26  45.135696  159.377777  66.002029   96.296165  76.447243  ...   \n",
       "2023-04-27  45.155090  160.309189  67.305008   99.605377  77.917236  ...   \n",
       "2023-04-28  45.824272  161.874374  68.304306  102.167030  78.640305  ...   \n",
       "\n",
       "Price        Volume                                                           \\\n",
       "Ticker          MMM      MRK      MSFT       PFE       PG         T      TRV   \n",
       "Date                                                                           \n",
       "2023-04-24  4229056  4299100  26611000  17633700  8109800  60001400  1015700   \n",
       "2023-04-25  6065394  5662800  45772200  24492400  8341800  46691800  1208700   \n",
       "2023-04-26  3795386  6607900  64599200  22401400  4843700  42482900  1168200   \n",
       "2023-04-27  2862148  9975200  46462600  22434000  4805600  36926900  1573700   \n",
       "2023-04-28  4764505  8049900  36446700  21003600  5754000  40664000  1052700   \n",
       "\n",
       "Price                                     \n",
       "Ticker            VZ       WMT       XOM  \n",
       "Date                                      \n",
       "2023-04-24  20362500  13579500  15831300  \n",
       "2023-04-25  24959400  17246700  12179800  \n",
       "2023-04-26  21499300  12910200  15566100  \n",
       "2023-04-27  28841000  12861000  16279200  \n",
       "2023-04-28  19194400  14088600  24374000  \n",
       "\n",
       "[5 rows x 162 columns]"
      ]
     },
     "execution_count": 36,
     "metadata": {},
     "output_type": "execute_result"
    }
   ],
   "source": [
    "rawdata.tail()"
   ]
  },
  {
   "cell_type": "code",
   "execution_count": 37,
   "metadata": {
    "slideshow": {
     "slide_type": "subslide"
    },
    "tags": []
   },
   "outputs": [
    {
     "data": {
      "text/html": [
       "<div>\n",
       "<style scoped>\n",
       "    .dataframe tbody tr th:only-of-type {\n",
       "        vertical-align: middle;\n",
       "    }\n",
       "\n",
       "    .dataframe tbody tr th {\n",
       "        vertical-align: top;\n",
       "    }\n",
       "\n",
       "    .dataframe thead th {\n",
       "        text-align: right;\n",
       "    }\n",
       "</style>\n",
       "<table border=\"1\" class=\"dataframe\">\n",
       "  <thead>\n",
       "    <tr style=\"text-align: right;\">\n",
       "      <th></th>\n",
       "      <th>name</th>\n",
       "    </tr>\n",
       "    <tr>\n",
       "      <th>code</th>\n",
       "      <th></th>\n",
       "    </tr>\n",
       "  </thead>\n",
       "  <tbody>\n",
       "    <tr>\n",
       "      <th>AAPL</th>\n",
       "      <td>Apple Inc (AAPL)</td>\n",
       "    </tr>\n",
       "    <tr>\n",
       "      <th>AXP</th>\n",
       "      <td>American Express Co. (AXP)</td>\n",
       "    </tr>\n",
       "    <tr>\n",
       "      <th>BA</th>\n",
       "      <td>The Boeing Co. (BA)</td>\n",
       "    </tr>\n",
       "    <tr>\n",
       "      <th>BAC</th>\n",
       "      <td>Bank of America Corp. (BAC)</td>\n",
       "    </tr>\n",
       "    <tr>\n",
       "      <th>CAT</th>\n",
       "      <td>Caterpillar Inc. (CAT)</td>\n",
       "    </tr>\n",
       "    <tr>\n",
       "      <th>CSCO</th>\n",
       "      <td>Cisco Systems Inc. (CSCO)</td>\n",
       "    </tr>\n",
       "    <tr>\n",
       "      <th>CVX</th>\n",
       "      <td>Chevron Corporation (CVX)</td>\n",
       "    </tr>\n",
       "    <tr>\n",
       "      <th>DD</th>\n",
       "      <td>E.I. du Pont de Nemours and Co. (DD)</td>\n",
       "    </tr>\n",
       "    <tr>\n",
       "      <th>DIS</th>\n",
       "      <td>Disney (Walt) Co. (The) (DIS)</td>\n",
       "    </tr>\n",
       "    <tr>\n",
       "      <th>GE</th>\n",
       "      <td>General Electric Co (GE)</td>\n",
       "    </tr>\n",
       "    <tr>\n",
       "      <th>HD</th>\n",
       "      <td>Home Depot Inc (HD)</td>\n",
       "    </tr>\n",
       "    <tr>\n",
       "      <th>HPQ</th>\n",
       "      <td>Hewlett-Packard Co (HPQ)</td>\n",
       "    </tr>\n",
       "    <tr>\n",
       "      <th>IBM</th>\n",
       "      <td>International Business Machines Corp (IBM)</td>\n",
       "    </tr>\n",
       "    <tr>\n",
       "      <th>INTC</th>\n",
       "      <td>Intel Corp (INTC)</td>\n",
       "    </tr>\n",
       "    <tr>\n",
       "      <th>JNJ</th>\n",
       "      <td>Johnson &amp; Johnson (JNJ)</td>\n",
       "    </tr>\n",
       "    <tr>\n",
       "      <th>JPM</th>\n",
       "      <td>JP Morgan Chase (JPM)</td>\n",
       "    </tr>\n",
       "    <tr>\n",
       "      <th>KO</th>\n",
       "      <td>Coca-Cola Co (The) (KO)</td>\n",
       "    </tr>\n",
       "    <tr>\n",
       "      <th>MCD</th>\n",
       "      <td>McDonald's Corp (MCD)</td>\n",
       "    </tr>\n",
       "    <tr>\n",
       "      <th>MMM</th>\n",
       "      <td>3M Co (MMM)</td>\n",
       "    </tr>\n",
       "    <tr>\n",
       "      <th>MRK</th>\n",
       "      <td>Merck &amp; Co. Inc (MRK)</td>\n",
       "    </tr>\n",
       "    <tr>\n",
       "      <th>MSFT</th>\n",
       "      <td>Microsoft Corporation (MSFT)</td>\n",
       "    </tr>\n",
       "    <tr>\n",
       "      <th>PFE</th>\n",
       "      <td>Pfizer Inc (PFE)</td>\n",
       "    </tr>\n",
       "    <tr>\n",
       "      <th>PG</th>\n",
       "      <td>Procter &amp; Gamble Co. (PG)</td>\n",
       "    </tr>\n",
       "    <tr>\n",
       "      <th>T</th>\n",
       "      <td>AT&amp;T Inc (T)</td>\n",
       "    </tr>\n",
       "    <tr>\n",
       "      <th>TRV</th>\n",
       "      <td>Travelers Companies Inc (The) (TRV)</td>\n",
       "    </tr>\n",
       "    <tr>\n",
       "      <th>UTX</th>\n",
       "      <td>United Technologies Corp. (UTX)</td>\n",
       "    </tr>\n",
       "    <tr>\n",
       "      <th>VZ</th>\n",
       "      <td>Verizon Communications Inc (VZ)</td>\n",
       "    </tr>\n",
       "    <tr>\n",
       "      <th>WMT</th>\n",
       "      <td>Wal-Mart Stores (WMT)</td>\n",
       "    </tr>\n",
       "    <tr>\n",
       "      <th>XOM</th>\n",
       "      <td>Exxon Mobil Corp. (XOM)</td>\n",
       "    </tr>\n",
       "  </tbody>\n",
       "</table>\n",
       "</div>"
      ],
      "text/plain": [
       "                                            name\n",
       "code                                            \n",
       "AAPL                            Apple Inc (AAPL)\n",
       "AXP                   American Express Co. (AXP)\n",
       "BA                           The Boeing Co. (BA)\n",
       "BAC                  Bank of America Corp. (BAC)\n",
       "CAT                       Caterpillar Inc. (CAT)\n",
       "CSCO                   Cisco Systems Inc. (CSCO)\n",
       "CVX                    Chevron Corporation (CVX)\n",
       "DD          E.I. du Pont de Nemours and Co. (DD)\n",
       "DIS                Disney (Walt) Co. (The) (DIS)\n",
       "GE                      General Electric Co (GE)\n",
       "HD                           Home Depot Inc (HD)\n",
       "HPQ                     Hewlett-Packard Co (HPQ)\n",
       "IBM   International Business Machines Corp (IBM)\n",
       "INTC                           Intel Corp (INTC)\n",
       "JNJ                      Johnson & Johnson (JNJ)\n",
       "JPM                        JP Morgan Chase (JPM)\n",
       "KO                       Coca-Cola Co (The) (KO)\n",
       "MCD                        McDonald's Corp (MCD)\n",
       "MMM                                  3M Co (MMM)\n",
       "MRK                        Merck & Co. Inc (MRK)\n",
       "MSFT                Microsoft Corporation (MSFT)\n",
       "PFE                             Pfizer Inc (PFE)\n",
       "PG                     Procter & Gamble Co. (PG)\n",
       "T                                   AT&T Inc (T)\n",
       "TRV          Travelers Companies Inc (The) (TRV)\n",
       "UTX              United Technologies Corp. (UTX)\n",
       "VZ               Verizon Communications Inc (VZ)\n",
       "WMT                        Wal-Mart Stores (WMT)\n",
       "XOM                      Exxon Mobil Corp. (XOM)"
      ]
     },
     "execution_count": 37,
     "metadata": {},
     "output_type": "execute_result"
    }
   ],
   "source": [
    "symbols # full company names"
   ]
  },
  {
   "cell_type": "markdown",
   "metadata": {
    "slideshow": {
     "slide_type": "subslide"
    }
   },
   "source": [
    "## Data Format\n",
    "\n",
    "### Hierarchical Indexing\n",
    "\n",
    "* Column indexing is hierarchical\n",
    "* Adjusted close, close, high, low, open, and volume are given for each stock symbol"
   ]
  },
  {
   "cell_type": "code",
   "execution_count": 38,
   "metadata": {
    "slideshow": {
     "slide_type": "-"
    },
    "tags": []
   },
   "outputs": [
    {
     "data": {
      "text/plain": [
       "FrozenList([['Adj Close', 'Close', 'High', 'Low', 'Open', 'Volume'], ['AAPL', 'AXP', 'BA', 'BAC', 'CAT', 'CSCO', 'CVX', 'DD', 'DIS', 'GE', 'HD', 'IBM', 'INTC', 'JNJ', 'JPM', 'KO', 'MCD', 'MMM', 'MRK', 'MSFT', 'PFE', 'PG', 'T', 'TRV', 'VZ', 'WMT', 'XOM']])"
      ]
     },
     "execution_count": 38,
     "metadata": {},
     "output_type": "execute_result"
    }
   ],
   "source": [
    "rawdata.columns.levels"
   ]
  },
  {
   "cell_type": "markdown",
   "metadata": {
    "slideshow": {
     "slide_type": "subslide"
    }
   },
   "source": [
    "* Column levels can be named:"
   ]
  },
  {
   "cell_type": "code",
   "execution_count": 39,
   "metadata": {
    "slideshow": {
     "slide_type": "-"
    },
    "tags": []
   },
   "outputs": [
    {
     "data": {
      "text/html": [
       "<div>\n",
       "<style scoped>\n",
       "    .dataframe tbody tr th:only-of-type {\n",
       "        vertical-align: middle;\n",
       "    }\n",
       "\n",
       "    .dataframe tbody tr th {\n",
       "        vertical-align: top;\n",
       "    }\n",
       "\n",
       "    .dataframe thead tr th {\n",
       "        text-align: left;\n",
       "    }\n",
       "\n",
       "    .dataframe thead tr:last-of-type th {\n",
       "        text-align: right;\n",
       "    }\n",
       "</style>\n",
       "<table border=\"1\" class=\"dataframe\">\n",
       "  <thead>\n",
       "    <tr>\n",
       "      <th>Value</th>\n",
       "      <th colspan=\"10\" halign=\"left\">Adj Close</th>\n",
       "      <th>...</th>\n",
       "      <th colspan=\"10\" halign=\"left\">Volume</th>\n",
       "    </tr>\n",
       "    <tr>\n",
       "      <th>Symbol</th>\n",
       "      <th>AAPL</th>\n",
       "      <th>AXP</th>\n",
       "      <th>BA</th>\n",
       "      <th>BAC</th>\n",
       "      <th>CAT</th>\n",
       "      <th>CSCO</th>\n",
       "      <th>CVX</th>\n",
       "      <th>DD</th>\n",
       "      <th>DIS</th>\n",
       "      <th>GE</th>\n",
       "      <th>...</th>\n",
       "      <th>MMM</th>\n",
       "      <th>MRK</th>\n",
       "      <th>MSFT</th>\n",
       "      <th>PFE</th>\n",
       "      <th>PG</th>\n",
       "      <th>T</th>\n",
       "      <th>TRV</th>\n",
       "      <th>VZ</th>\n",
       "      <th>WMT</th>\n",
       "      <th>XOM</th>\n",
       "    </tr>\n",
       "    <tr>\n",
       "      <th>Date</th>\n",
       "      <th></th>\n",
       "      <th></th>\n",
       "      <th></th>\n",
       "      <th></th>\n",
       "      <th></th>\n",
       "      <th></th>\n",
       "      <th></th>\n",
       "      <th></th>\n",
       "      <th></th>\n",
       "      <th></th>\n",
       "      <th></th>\n",
       "      <th></th>\n",
       "      <th></th>\n",
       "      <th></th>\n",
       "      <th></th>\n",
       "      <th></th>\n",
       "      <th></th>\n",
       "      <th></th>\n",
       "      <th></th>\n",
       "      <th></th>\n",
       "      <th></th>\n",
       "    </tr>\n",
       "  </thead>\n",
       "  <tbody>\n",
       "    <tr>\n",
       "      <th>2000-01-03</th>\n",
       "      <td>0.844981</td>\n",
       "      <td>32.854733</td>\n",
       "      <td>25.940289</td>\n",
       "      <td>12.946366</td>\n",
       "      <td>12.861952</td>\n",
       "      <td>36.641254</td>\n",
       "      <td>17.139811</td>\n",
       "      <td>29.194963</td>\n",
       "      <td>23.040167</td>\n",
       "      <td>112.386337</td>\n",
       "      <td>...</td>\n",
       "      <td>2599386</td>\n",
       "      <td>6265782</td>\n",
       "      <td>53228400</td>\n",
       "      <td>12873345</td>\n",
       "      <td>4275000</td>\n",
       "      <td>7668476</td>\n",
       "      <td>336400</td>\n",
       "      <td>4663843</td>\n",
       "      <td>25109700</td>\n",
       "      <td>13458200</td>\n",
       "    </tr>\n",
       "    <tr>\n",
       "      <th>2000-01-04</th>\n",
       "      <td>0.773740</td>\n",
       "      <td>31.614206</td>\n",
       "      <td>25.899946</td>\n",
       "      <td>12.177940</td>\n",
       "      <td>12.696634</td>\n",
       "      <td>34.585606</td>\n",
       "      <td>17.139811</td>\n",
       "      <td>28.396984</td>\n",
       "      <td>24.389799</td>\n",
       "      <td>107.890823</td>\n",
       "      <td>...</td>\n",
       "      <td>3245705</td>\n",
       "      <td>7894689</td>\n",
       "      <td>54119000</td>\n",
       "      <td>14208974</td>\n",
       "      <td>4270800</td>\n",
       "      <td>9497846</td>\n",
       "      <td>494400</td>\n",
       "      <td>5005878</td>\n",
       "      <td>20235300</td>\n",
       "      <td>14510800</td>\n",
       "    </tr>\n",
       "    <tr>\n",
       "      <th>2000-01-05</th>\n",
       "      <td>0.785063</td>\n",
       "      <td>30.811222</td>\n",
       "      <td>27.513645</td>\n",
       "      <td>12.311582</td>\n",
       "      <td>12.994211</td>\n",
       "      <td>34.479656</td>\n",
       "      <td>17.447252</td>\n",
       "      <td>29.318794</td>\n",
       "      <td>25.402020</td>\n",
       "      <td>107.703522</td>\n",
       "      <td>...</td>\n",
       "      <td>4424482</td>\n",
       "      <td>7963018</td>\n",
       "      <td>64059600</td>\n",
       "      <td>12981591</td>\n",
       "      <td>5098400</td>\n",
       "      <td>12035160</td>\n",
       "      <td>736000</td>\n",
       "      <td>6368681</td>\n",
       "      <td>21056100</td>\n",
       "      <td>17485000</td>\n",
       "    </tr>\n",
       "    <tr>\n",
       "      <th>2000-01-06</th>\n",
       "      <td>0.717125</td>\n",
       "      <td>31.438969</td>\n",
       "      <td>27.796049</td>\n",
       "      <td>13.363992</td>\n",
       "      <td>13.655502</td>\n",
       "      <td>33.907463</td>\n",
       "      <td>18.190229</td>\n",
       "      <td>30.144287</td>\n",
       "      <td>24.389799</td>\n",
       "      <td>109.143494</td>\n",
       "      <td>...</td>\n",
       "      <td>7147057</td>\n",
       "      <td>4989004</td>\n",
       "      <td>54976600</td>\n",
       "      <td>11115273</td>\n",
       "      <td>6524200</td>\n",
       "      <td>9471366</td>\n",
       "      <td>660400</td>\n",
       "      <td>4705763</td>\n",
       "      <td>19633500</td>\n",
       "      <td>19461600</td>\n",
       "    </tr>\n",
       "    <tr>\n",
       "      <th>2000-01-07</th>\n",
       "      <td>0.751094</td>\n",
       "      <td>31.896685</td>\n",
       "      <td>28.602894</td>\n",
       "      <td>13.013184</td>\n",
       "      <td>14.101857</td>\n",
       "      <td>35.899529</td>\n",
       "      <td>18.510487</td>\n",
       "      <td>30.818439</td>\n",
       "      <td>24.004185</td>\n",
       "      <td>113.369652</td>\n",
       "      <td>...</td>\n",
       "      <td>4905035</td>\n",
       "      <td>10871218</td>\n",
       "      <td>62013600</td>\n",
       "      <td>17962163</td>\n",
       "      <td>9832000</td>\n",
       "      <td>7792534</td>\n",
       "      <td>594700</td>\n",
       "      <td>5043907</td>\n",
       "      <td>23930700</td>\n",
       "      <td>16603800</td>\n",
       "    </tr>\n",
       "  </tbody>\n",
       "</table>\n",
       "<p>5 rows × 162 columns</p>\n",
       "</div>"
      ],
      "text/plain": [
       "Value      Adj Close                                                         \\\n",
       "Symbol          AAPL        AXP         BA        BAC        CAT       CSCO   \n",
       "Date                                                                          \n",
       "2000-01-03  0.844981  32.854733  25.940289  12.946366  12.861952  36.641254   \n",
       "2000-01-04  0.773740  31.614206  25.899946  12.177940  12.696634  34.585606   \n",
       "2000-01-05  0.785063  30.811222  27.513645  12.311582  12.994211  34.479656   \n",
       "2000-01-06  0.717125  31.438969  27.796049  13.363992  13.655502  33.907463   \n",
       "2000-01-07  0.751094  31.896685  28.602894  13.013184  14.101857  35.899529   \n",
       "\n",
       "Value                                                    ...   Volume  \\\n",
       "Symbol            CVX         DD        DIS          GE  ...      MMM   \n",
       "Date                                                     ...            \n",
       "2000-01-03  17.139811  29.194963  23.040167  112.386337  ...  2599386   \n",
       "2000-01-04  17.139811  28.396984  24.389799  107.890823  ...  3245705   \n",
       "2000-01-05  17.447252  29.318794  25.402020  107.703522  ...  4424482   \n",
       "2000-01-06  18.190229  30.144287  24.389799  109.143494  ...  7147057   \n",
       "2000-01-07  18.510487  30.818439  24.004185  113.369652  ...  4905035   \n",
       "\n",
       "Value                                                                         \\\n",
       "Symbol           MRK      MSFT       PFE       PG         T     TRV       VZ   \n",
       "Date                                                                           \n",
       "2000-01-03   6265782  53228400  12873345  4275000   7668476  336400  4663843   \n",
       "2000-01-04   7894689  54119000  14208974  4270800   9497846  494400  5005878   \n",
       "2000-01-05   7963018  64059600  12981591  5098400  12035160  736000  6368681   \n",
       "2000-01-06   4989004  54976600  11115273  6524200   9471366  660400  4705763   \n",
       "2000-01-07  10871218  62013600  17962163  9832000   7792534  594700  5043907   \n",
       "\n",
       "Value                           \n",
       "Symbol           WMT       XOM  \n",
       "Date                            \n",
       "2000-01-03  25109700  13458200  \n",
       "2000-01-04  20235300  14510800  \n",
       "2000-01-05  21056100  17485000  \n",
       "2000-01-06  19633500  19461600  \n",
       "2000-01-07  23930700  16603800  \n",
       "\n",
       "[5 rows x 162 columns]"
      ]
     },
     "execution_count": 39,
     "metadata": {},
     "output_type": "execute_result"
    }
   ],
   "source": [
    "rawdata.columns = rawdata.columns.set_names(['Value', 'Symbol'])\n",
    "rawdata.head()"
   ]
  },
  {
   "cell_type": "markdown",
   "metadata": {
    "slideshow": {
     "slide_type": "subslide"
    }
   },
   "source": [
    "* Subsetting first level of hierarchical indexing: `Adj Close`"
   ]
  },
  {
   "cell_type": "code",
   "execution_count": 40,
   "metadata": {
    "slideshow": {
     "slide_type": "-"
    },
    "tags": []
   },
   "outputs": [
    {
     "data": {
      "text/html": [
       "<div>\n",
       "<style scoped>\n",
       "    .dataframe tbody tr th:only-of-type {\n",
       "        vertical-align: middle;\n",
       "    }\n",
       "\n",
       "    .dataframe tbody tr th {\n",
       "        vertical-align: top;\n",
       "    }\n",
       "\n",
       "    .dataframe thead th {\n",
       "        text-align: right;\n",
       "    }\n",
       "</style>\n",
       "<table border=\"1\" class=\"dataframe\">\n",
       "  <thead>\n",
       "    <tr style=\"text-align: right;\">\n",
       "      <th>Symbol</th>\n",
       "      <th>AAPL</th>\n",
       "      <th>AXP</th>\n",
       "      <th>BA</th>\n",
       "      <th>BAC</th>\n",
       "      <th>CAT</th>\n",
       "      <th>CSCO</th>\n",
       "      <th>CVX</th>\n",
       "      <th>DD</th>\n",
       "      <th>DIS</th>\n",
       "      <th>GE</th>\n",
       "      <th>...</th>\n",
       "      <th>MMM</th>\n",
       "      <th>MRK</th>\n",
       "      <th>MSFT</th>\n",
       "      <th>PFE</th>\n",
       "      <th>PG</th>\n",
       "      <th>T</th>\n",
       "      <th>TRV</th>\n",
       "      <th>VZ</th>\n",
       "      <th>WMT</th>\n",
       "      <th>XOM</th>\n",
       "    </tr>\n",
       "    <tr>\n",
       "      <th>Date</th>\n",
       "      <th></th>\n",
       "      <th></th>\n",
       "      <th></th>\n",
       "      <th></th>\n",
       "      <th></th>\n",
       "      <th></th>\n",
       "      <th></th>\n",
       "      <th></th>\n",
       "      <th></th>\n",
       "      <th></th>\n",
       "      <th></th>\n",
       "      <th></th>\n",
       "      <th></th>\n",
       "      <th></th>\n",
       "      <th></th>\n",
       "      <th></th>\n",
       "      <th></th>\n",
       "      <th></th>\n",
       "      <th></th>\n",
       "      <th></th>\n",
       "      <th></th>\n",
       "    </tr>\n",
       "  </thead>\n",
       "  <tbody>\n",
       "    <tr>\n",
       "      <th>2000-01-03</th>\n",
       "      <td>0.844981</td>\n",
       "      <td>32.854733</td>\n",
       "      <td>25.940289</td>\n",
       "      <td>12.946366</td>\n",
       "      <td>12.861952</td>\n",
       "      <td>36.641254</td>\n",
       "      <td>17.139811</td>\n",
       "      <td>29.194963</td>\n",
       "      <td>23.040167</td>\n",
       "      <td>112.386337</td>\n",
       "      <td>...</td>\n",
       "      <td>17.557301</td>\n",
       "      <td>26.704506</td>\n",
       "      <td>36.065563</td>\n",
       "      <td>13.061065</td>\n",
       "      <td>28.069090</td>\n",
       "      <td>6.792761</td>\n",
       "      <td>17.910801</td>\n",
       "      <td>17.185566</td>\n",
       "      <td>14.469358</td>\n",
       "      <td>18.328695</td>\n",
       "    </tr>\n",
       "    <tr>\n",
       "      <th>2000-01-04</th>\n",
       "      <td>0.773740</td>\n",
       "      <td>31.614206</td>\n",
       "      <td>25.899946</td>\n",
       "      <td>12.177940</td>\n",
       "      <td>12.696634</td>\n",
       "      <td>34.585606</td>\n",
       "      <td>17.139811</td>\n",
       "      <td>28.396984</td>\n",
       "      <td>24.389799</td>\n",
       "      <td>107.890823</td>\n",
       "      <td>...</td>\n",
       "      <td>16.859659</td>\n",
       "      <td>25.766645</td>\n",
       "      <td>34.847271</td>\n",
       "      <td>12.574481</td>\n",
       "      <td>27.528994</td>\n",
       "      <td>6.395309</td>\n",
       "      <td>17.673359</td>\n",
       "      <td>16.630033</td>\n",
       "      <td>13.927945</td>\n",
       "      <td>17.977631</td>\n",
       "    </tr>\n",
       "    <tr>\n",
       "      <th>2000-01-05</th>\n",
       "      <td>0.785063</td>\n",
       "      <td>30.811222</td>\n",
       "      <td>27.513645</td>\n",
       "      <td>12.311582</td>\n",
       "      <td>12.994211</td>\n",
       "      <td>34.479656</td>\n",
       "      <td>17.447252</td>\n",
       "      <td>29.318794</td>\n",
       "      <td>25.402020</td>\n",
       "      <td>107.703522</td>\n",
       "      <td>...</td>\n",
       "      <td>17.348009</td>\n",
       "      <td>26.778534</td>\n",
       "      <td>35.214680</td>\n",
       "      <td>12.779357</td>\n",
       "      <td>27.005247</td>\n",
       "      <td>6.494676</td>\n",
       "      <td>17.537663</td>\n",
       "      <td>17.185566</td>\n",
       "      <td>13.643696</td>\n",
       "      <td>18.957682</td>\n",
       "    </tr>\n",
       "    <tr>\n",
       "      <th>2000-01-06</th>\n",
       "      <td>0.717125</td>\n",
       "      <td>31.438969</td>\n",
       "      <td>27.796049</td>\n",
       "      <td>13.363992</td>\n",
       "      <td>13.655502</td>\n",
       "      <td>33.907463</td>\n",
       "      <td>18.190229</td>\n",
       "      <td>30.144287</td>\n",
       "      <td>24.389799</td>\n",
       "      <td>109.143494</td>\n",
       "      <td>...</td>\n",
       "      <td>18.743286</td>\n",
       "      <td>27.000677</td>\n",
       "      <td>34.035080</td>\n",
       "      <td>13.240336</td>\n",
       "      <td>28.249134</td>\n",
       "      <td>6.368837</td>\n",
       "      <td>17.876890</td>\n",
       "      <td>17.098272</td>\n",
       "      <td>13.792586</td>\n",
       "      <td>19.937765</td>\n",
       "    </tr>\n",
       "    <tr>\n",
       "      <th>2000-01-07</th>\n",
       "      <td>0.751094</td>\n",
       "      <td>31.896685</td>\n",
       "      <td>28.602894</td>\n",
       "      <td>13.013184</td>\n",
       "      <td>14.101857</td>\n",
       "      <td>35.899529</td>\n",
       "      <td>18.510487</td>\n",
       "      <td>30.818439</td>\n",
       "      <td>24.004185</td>\n",
       "      <td>113.369652</td>\n",
       "      <td>...</td>\n",
       "      <td>19.115368</td>\n",
       "      <td>29.592155</td>\n",
       "      <td>34.479843</td>\n",
       "      <td>14.136687</td>\n",
       "      <td>30.507763</td>\n",
       "      <td>6.423426</td>\n",
       "      <td>18.589251</td>\n",
       "      <td>16.972017</td>\n",
       "      <td>14.834812</td>\n",
       "      <td>19.879250</td>\n",
       "    </tr>\n",
       "  </tbody>\n",
       "</table>\n",
       "<p>5 rows × 27 columns</p>\n",
       "</div>"
      ],
      "text/plain": [
       "Symbol          AAPL        AXP         BA        BAC        CAT       CSCO  \\\n",
       "Date                                                                          \n",
       "2000-01-03  0.844981  32.854733  25.940289  12.946366  12.861952  36.641254   \n",
       "2000-01-04  0.773740  31.614206  25.899946  12.177940  12.696634  34.585606   \n",
       "2000-01-05  0.785063  30.811222  27.513645  12.311582  12.994211  34.479656   \n",
       "2000-01-06  0.717125  31.438969  27.796049  13.363992  13.655502  33.907463   \n",
       "2000-01-07  0.751094  31.896685  28.602894  13.013184  14.101857  35.899529   \n",
       "\n",
       "Symbol            CVX         DD        DIS          GE  ...        MMM  \\\n",
       "Date                                                     ...              \n",
       "2000-01-03  17.139811  29.194963  23.040167  112.386337  ...  17.557301   \n",
       "2000-01-04  17.139811  28.396984  24.389799  107.890823  ...  16.859659   \n",
       "2000-01-05  17.447252  29.318794  25.402020  107.703522  ...  17.348009   \n",
       "2000-01-06  18.190229  30.144287  24.389799  109.143494  ...  18.743286   \n",
       "2000-01-07  18.510487  30.818439  24.004185  113.369652  ...  19.115368   \n",
       "\n",
       "Symbol            MRK       MSFT        PFE         PG         T        TRV  \\\n",
       "Date                                                                          \n",
       "2000-01-03  26.704506  36.065563  13.061065  28.069090  6.792761  17.910801   \n",
       "2000-01-04  25.766645  34.847271  12.574481  27.528994  6.395309  17.673359   \n",
       "2000-01-05  26.778534  35.214680  12.779357  27.005247  6.494676  17.537663   \n",
       "2000-01-06  27.000677  34.035080  13.240336  28.249134  6.368837  17.876890   \n",
       "2000-01-07  29.592155  34.479843  14.136687  30.507763  6.423426  18.589251   \n",
       "\n",
       "Symbol             VZ        WMT        XOM  \n",
       "Date                                         \n",
       "2000-01-03  17.185566  14.469358  18.328695  \n",
       "2000-01-04  16.630033  13.927945  17.977631  \n",
       "2000-01-05  17.185566  13.643696  18.957682  \n",
       "2000-01-06  17.098272  13.792586  19.937765  \n",
       "2000-01-07  16.972017  14.834812  19.879250  \n",
       "\n",
       "[5 rows x 27 columns]"
      ]
     },
     "execution_count": 40,
     "metadata": {},
     "output_type": "execute_result"
    }
   ],
   "source": [
    "rawdata['Adj Close'].head()"
   ]
  },
  {
   "cell_type": "markdown",
   "metadata": {
    "slideshow": {
     "slide_type": "subslide"
    }
   },
   "source": [
    "* Subsetting first level of hierarchical indexing: `Volume`"
   ]
  },
  {
   "cell_type": "code",
   "execution_count": 53,
   "metadata": {
    "slideshow": {
     "slide_type": "-"
    },
    "tags": []
   },
   "outputs": [
    {
     "data": {
      "text/html": [
       "<div>\n",
       "<style scoped>\n",
       "    .dataframe tbody tr th:only-of-type {\n",
       "        vertical-align: middle;\n",
       "    }\n",
       "\n",
       "    .dataframe tbody tr th {\n",
       "        vertical-align: top;\n",
       "    }\n",
       "\n",
       "    .dataframe thead th {\n",
       "        text-align: right;\n",
       "    }\n",
       "</style>\n",
       "<table border=\"1\" class=\"dataframe\">\n",
       "  <thead>\n",
       "    <tr style=\"text-align: right;\">\n",
       "      <th>Symbol</th>\n",
       "      <th>AAPL</th>\n",
       "      <th>AXP</th>\n",
       "      <th>BA</th>\n",
       "      <th>BAC</th>\n",
       "      <th>CAT</th>\n",
       "      <th>CSCO</th>\n",
       "      <th>CVX</th>\n",
       "      <th>DD</th>\n",
       "      <th>DIS</th>\n",
       "      <th>GE</th>\n",
       "      <th>...</th>\n",
       "      <th>MMM</th>\n",
       "      <th>MRK</th>\n",
       "      <th>MSFT</th>\n",
       "      <th>PFE</th>\n",
       "      <th>PG</th>\n",
       "      <th>T</th>\n",
       "      <th>TRV</th>\n",
       "      <th>VZ</th>\n",
       "      <th>WMT</th>\n",
       "      <th>XOM</th>\n",
       "    </tr>\n",
       "    <tr>\n",
       "      <th>Date</th>\n",
       "      <th></th>\n",
       "      <th></th>\n",
       "      <th></th>\n",
       "      <th></th>\n",
       "      <th></th>\n",
       "      <th></th>\n",
       "      <th></th>\n",
       "      <th></th>\n",
       "      <th></th>\n",
       "      <th></th>\n",
       "      <th></th>\n",
       "      <th></th>\n",
       "      <th></th>\n",
       "      <th></th>\n",
       "      <th></th>\n",
       "      <th></th>\n",
       "      <th></th>\n",
       "      <th></th>\n",
       "      <th></th>\n",
       "      <th></th>\n",
       "      <th></th>\n",
       "    </tr>\n",
       "  </thead>\n",
       "  <tbody>\n",
       "    <tr>\n",
       "      <th>2000-01-03</th>\n",
       "      <td>535796800</td>\n",
       "      <td>6471267</td>\n",
       "      <td>2638200</td>\n",
       "      <td>13705800</td>\n",
       "      <td>5055000</td>\n",
       "      <td>53076000</td>\n",
       "      <td>4387600</td>\n",
       "      <td>1296100</td>\n",
       "      <td>8402230</td>\n",
       "      <td>4605131</td>\n",
       "      <td>...</td>\n",
       "      <td>2599386</td>\n",
       "      <td>6265782</td>\n",
       "      <td>53228400</td>\n",
       "      <td>12873345</td>\n",
       "      <td>4275000</td>\n",
       "      <td>7668476</td>\n",
       "      <td>336400</td>\n",
       "      <td>4663843</td>\n",
       "      <td>25109700</td>\n",
       "      <td>13458200</td>\n",
       "    </tr>\n",
       "    <tr>\n",
       "      <th>2000-01-04</th>\n",
       "      <td>512377600</td>\n",
       "      <td>10440877</td>\n",
       "      <td>3592100</td>\n",
       "      <td>27293400</td>\n",
       "      <td>6181400</td>\n",
       "      <td>50805600</td>\n",
       "      <td>3702400</td>\n",
       "      <td>2073676</td>\n",
       "      <td>16051191</td>\n",
       "      <td>4615898</td>\n",
       "      <td>...</td>\n",
       "      <td>3245705</td>\n",
       "      <td>7894689</td>\n",
       "      <td>54119000</td>\n",
       "      <td>14208974</td>\n",
       "      <td>4270800</td>\n",
       "      <td>9497846</td>\n",
       "      <td>494400</td>\n",
       "      <td>5005878</td>\n",
       "      <td>20235300</td>\n",
       "      <td>14510800</td>\n",
       "    </tr>\n",
       "    <tr>\n",
       "      <th>2000-01-05</th>\n",
       "      <td>778321600</td>\n",
       "      <td>8646293</td>\n",
       "      <td>7631700</td>\n",
       "      <td>22855600</td>\n",
       "      <td>6398600</td>\n",
       "      <td>68524000</td>\n",
       "      <td>5567600</td>\n",
       "      <td>3653278</td>\n",
       "      <td>19823822</td>\n",
       "      <td>5694973</td>\n",
       "      <td>...</td>\n",
       "      <td>4424482</td>\n",
       "      <td>7963018</td>\n",
       "      <td>64059600</td>\n",
       "      <td>12981591</td>\n",
       "      <td>5098400</td>\n",
       "      <td>12035160</td>\n",
       "      <td>736000</td>\n",
       "      <td>6368681</td>\n",
       "      <td>21056100</td>\n",
       "      <td>17485000</td>\n",
       "    </tr>\n",
       "    <tr>\n",
       "      <th>2000-01-06</th>\n",
       "      <td>767972800</td>\n",
       "      <td>10990975</td>\n",
       "      <td>4922200</td>\n",
       "      <td>17307000</td>\n",
       "      <td>5140600</td>\n",
       "      <td>48242600</td>\n",
       "      <td>4353400</td>\n",
       "      <td>4885511</td>\n",
       "      <td>7903193</td>\n",
       "      <td>4146783</td>\n",
       "      <td>...</td>\n",
       "      <td>7147057</td>\n",
       "      <td>4989004</td>\n",
       "      <td>54976600</td>\n",
       "      <td>11115273</td>\n",
       "      <td>6524200</td>\n",
       "      <td>9471366</td>\n",
       "      <td>660400</td>\n",
       "      <td>4705763</td>\n",
       "      <td>19633500</td>\n",
       "      <td>19461600</td>\n",
       "    </tr>\n",
       "    <tr>\n",
       "      <th>2000-01-07</th>\n",
       "      <td>460734400</td>\n",
       "      <td>6016452</td>\n",
       "      <td>6008300</td>\n",
       "      <td>11632800</td>\n",
       "      <td>6360200</td>\n",
       "      <td>62260600</td>\n",
       "      <td>4487400</td>\n",
       "      <td>3469265</td>\n",
       "      <td>6773543</td>\n",
       "      <td>4202747</td>\n",
       "      <td>...</td>\n",
       "      <td>4905035</td>\n",
       "      <td>10871218</td>\n",
       "      <td>62013600</td>\n",
       "      <td>17962163</td>\n",
       "      <td>9832000</td>\n",
       "      <td>7792534</td>\n",
       "      <td>594700</td>\n",
       "      <td>5043907</td>\n",
       "      <td>23930700</td>\n",
       "      <td>16603800</td>\n",
       "    </tr>\n",
       "  </tbody>\n",
       "</table>\n",
       "<p>5 rows × 27 columns</p>\n",
       "</div>"
      ],
      "text/plain": [
       "Symbol           AAPL       AXP       BA       BAC      CAT      CSCO  \\\n",
       "Date                                                                    \n",
       "2000-01-03  535796800   6471267  2638200  13705800  5055000  53076000   \n",
       "2000-01-04  512377600  10440877  3592100  27293400  6181400  50805600   \n",
       "2000-01-05  778321600   8646293  7631700  22855600  6398600  68524000   \n",
       "2000-01-06  767972800  10990975  4922200  17307000  5140600  48242600   \n",
       "2000-01-07  460734400   6016452  6008300  11632800  6360200  62260600   \n",
       "\n",
       "Symbol          CVX       DD       DIS       GE  ...      MMM       MRK  \\\n",
       "Date                                             ...                      \n",
       "2000-01-03  4387600  1296100   8402230  4605131  ...  2599386   6265782   \n",
       "2000-01-04  3702400  2073676  16051191  4615898  ...  3245705   7894689   \n",
       "2000-01-05  5567600  3653278  19823822  5694973  ...  4424482   7963018   \n",
       "2000-01-06  4353400  4885511   7903193  4146783  ...  7147057   4989004   \n",
       "2000-01-07  4487400  3469265   6773543  4202747  ...  4905035  10871218   \n",
       "\n",
       "Symbol          MSFT       PFE       PG         T     TRV       VZ       WMT  \\\n",
       "Date                                                                           \n",
       "2000-01-03  53228400  12873345  4275000   7668476  336400  4663843  25109700   \n",
       "2000-01-04  54119000  14208974  4270800   9497846  494400  5005878  20235300   \n",
       "2000-01-05  64059600  12981591  5098400  12035160  736000  6368681  21056100   \n",
       "2000-01-06  54976600  11115273  6524200   9471366  660400  4705763  19633500   \n",
       "2000-01-07  62013600  17962163  9832000   7792534  594700  5043907  23930700   \n",
       "\n",
       "Symbol           XOM  \n",
       "Date                  \n",
       "2000-01-03  13458200  \n",
       "2000-01-04  14510800  \n",
       "2000-01-05  17485000  \n",
       "2000-01-06  19461600  \n",
       "2000-01-07  16603800  \n",
       "\n",
       "[5 rows x 27 columns]"
      ]
     },
     "execution_count": 53,
     "metadata": {},
     "output_type": "execute_result"
    }
   ],
   "source": [
    "rawdata.loc[:, 'Volume'].head()"
   ]
  },
  {
   "cell_type": "markdown",
   "metadata": {
    "slideshow": {
     "slide_type": "subslide"
    }
   },
   "source": [
    "* Subsetting second level is slightly harder: `AAPL`"
   ]
  },
  {
   "cell_type": "code",
   "execution_count": 54,
   "metadata": {
    "slideshow": {
     "slide_type": "-"
    },
    "tags": []
   },
   "outputs": [
    {
     "data": {
      "text/html": [
       "<div>\n",
       "<style scoped>\n",
       "    .dataframe tbody tr th:only-of-type {\n",
       "        vertical-align: middle;\n",
       "    }\n",
       "\n",
       "    .dataframe tbody tr th {\n",
       "        vertical-align: top;\n",
       "    }\n",
       "\n",
       "    .dataframe thead tr th {\n",
       "        text-align: left;\n",
       "    }\n",
       "\n",
       "    .dataframe thead tr:last-of-type th {\n",
       "        text-align: right;\n",
       "    }\n",
       "</style>\n",
       "<table border=\"1\" class=\"dataframe\">\n",
       "  <thead>\n",
       "    <tr>\n",
       "      <th>Value</th>\n",
       "      <th>Adj Close</th>\n",
       "      <th>Close</th>\n",
       "      <th>High</th>\n",
       "      <th>Low</th>\n",
       "      <th>Open</th>\n",
       "      <th>Volume</th>\n",
       "    </tr>\n",
       "    <tr>\n",
       "      <th>Symbol</th>\n",
       "      <th>AAPL</th>\n",
       "      <th>AAPL</th>\n",
       "      <th>AAPL</th>\n",
       "      <th>AAPL</th>\n",
       "      <th>AAPL</th>\n",
       "      <th>AAPL</th>\n",
       "    </tr>\n",
       "    <tr>\n",
       "      <th>Date</th>\n",
       "      <th></th>\n",
       "      <th></th>\n",
       "      <th></th>\n",
       "      <th></th>\n",
       "      <th></th>\n",
       "      <th></th>\n",
       "    </tr>\n",
       "  </thead>\n",
       "  <tbody>\n",
       "    <tr>\n",
       "      <th>2000-01-03</th>\n",
       "      <td>0.844981</td>\n",
       "      <td>0.999442</td>\n",
       "      <td>1.004464</td>\n",
       "      <td>0.907924</td>\n",
       "      <td>0.936384</td>\n",
       "      <td>535796800</td>\n",
       "    </tr>\n",
       "    <tr>\n",
       "      <th>2000-01-04</th>\n",
       "      <td>0.773740</td>\n",
       "      <td>0.915179</td>\n",
       "      <td>0.987723</td>\n",
       "      <td>0.903460</td>\n",
       "      <td>0.966518</td>\n",
       "      <td>512377600</td>\n",
       "    </tr>\n",
       "    <tr>\n",
       "      <th>2000-01-05</th>\n",
       "      <td>0.785063</td>\n",
       "      <td>0.928571</td>\n",
       "      <td>0.987165</td>\n",
       "      <td>0.919643</td>\n",
       "      <td>0.926339</td>\n",
       "      <td>778321600</td>\n",
       "    </tr>\n",
       "    <tr>\n",
       "      <th>2000-01-06</th>\n",
       "      <td>0.717125</td>\n",
       "      <td>0.848214</td>\n",
       "      <td>0.955357</td>\n",
       "      <td>0.848214</td>\n",
       "      <td>0.947545</td>\n",
       "      <td>767972800</td>\n",
       "    </tr>\n",
       "    <tr>\n",
       "      <th>2000-01-07</th>\n",
       "      <td>0.751094</td>\n",
       "      <td>0.888393</td>\n",
       "      <td>0.901786</td>\n",
       "      <td>0.852679</td>\n",
       "      <td>0.861607</td>\n",
       "      <td>460734400</td>\n",
       "    </tr>\n",
       "  </tbody>\n",
       "</table>\n",
       "</div>"
      ],
      "text/plain": [
       "Value      Adj Close     Close      High       Low      Open     Volume\n",
       "Symbol          AAPL      AAPL      AAPL      AAPL      AAPL       AAPL\n",
       "Date                                                                   \n",
       "2000-01-03  0.844981  0.999442  1.004464  0.907924  0.936384  535796800\n",
       "2000-01-04  0.773740  0.915179  0.987723  0.903460  0.966518  512377600\n",
       "2000-01-05  0.785063  0.928571  0.987165  0.919643  0.926339  778321600\n",
       "2000-01-06  0.717125  0.848214  0.955357  0.848214  0.947545  767972800\n",
       "2000-01-07  0.751094  0.888393  0.901786  0.852679  0.861607  460734400"
      ]
     },
     "execution_count": 54,
     "metadata": {},
     "output_type": "execute_result"
    }
   ],
   "source": [
    "idx = pd.IndexSlice\n",
    "rawdata.loc[:, idx[:, 'AAPL']].head()"
   ]
  },
  {
   "cell_type": "markdown",
   "metadata": {
    "slideshow": {
     "slide_type": "subslide"
    }
   },
   "source": [
    "* Subsetting `Open`, `High`, `Low`, and `Close` (OHLC) for `AAPL`:"
   ]
  },
  {
   "cell_type": "code",
   "execution_count": 55,
   "metadata": {
    "slideshow": {
     "slide_type": "-"
    },
    "tags": []
   },
   "outputs": [
    {
     "data": {
      "text/html": [
       "<div>\n",
       "<style scoped>\n",
       "    .dataframe tbody tr th:only-of-type {\n",
       "        vertical-align: middle;\n",
       "    }\n",
       "\n",
       "    .dataframe tbody tr th {\n",
       "        vertical-align: top;\n",
       "    }\n",
       "\n",
       "    .dataframe thead tr th {\n",
       "        text-align: left;\n",
       "    }\n",
       "\n",
       "    .dataframe thead tr:last-of-type th {\n",
       "        text-align: right;\n",
       "    }\n",
       "</style>\n",
       "<table border=\"1\" class=\"dataframe\">\n",
       "  <thead>\n",
       "    <tr>\n",
       "      <th>Value</th>\n",
       "      <th>Close</th>\n",
       "      <th>High</th>\n",
       "      <th>Low</th>\n",
       "      <th>Open</th>\n",
       "    </tr>\n",
       "    <tr>\n",
       "      <th>Symbol</th>\n",
       "      <th>AAPL</th>\n",
       "      <th>AAPL</th>\n",
       "      <th>AAPL</th>\n",
       "      <th>AAPL</th>\n",
       "    </tr>\n",
       "    <tr>\n",
       "      <th>Date</th>\n",
       "      <th></th>\n",
       "      <th></th>\n",
       "      <th></th>\n",
       "      <th></th>\n",
       "    </tr>\n",
       "  </thead>\n",
       "  <tbody>\n",
       "    <tr>\n",
       "      <th>2000-01-03</th>\n",
       "      <td>0.999442</td>\n",
       "      <td>1.004464</td>\n",
       "      <td>0.907924</td>\n",
       "      <td>0.936384</td>\n",
       "    </tr>\n",
       "    <tr>\n",
       "      <th>2000-01-04</th>\n",
       "      <td>0.915179</td>\n",
       "      <td>0.987723</td>\n",
       "      <td>0.903460</td>\n",
       "      <td>0.966518</td>\n",
       "    </tr>\n",
       "    <tr>\n",
       "      <th>2000-01-05</th>\n",
       "      <td>0.928571</td>\n",
       "      <td>0.987165</td>\n",
       "      <td>0.919643</td>\n",
       "      <td>0.926339</td>\n",
       "    </tr>\n",
       "    <tr>\n",
       "      <th>2000-01-06</th>\n",
       "      <td>0.848214</td>\n",
       "      <td>0.955357</td>\n",
       "      <td>0.848214</td>\n",
       "      <td>0.947545</td>\n",
       "    </tr>\n",
       "    <tr>\n",
       "      <th>2000-01-07</th>\n",
       "      <td>0.888393</td>\n",
       "      <td>0.901786</td>\n",
       "      <td>0.852679</td>\n",
       "      <td>0.861607</td>\n",
       "    </tr>\n",
       "  </tbody>\n",
       "</table>\n",
       "</div>"
      ],
      "text/plain": [
       "Value          Close      High       Low      Open\n",
       "Symbol          AAPL      AAPL      AAPL      AAPL\n",
       "Date                                              \n",
       "2000-01-03  0.999442  1.004464  0.907924  0.936384\n",
       "2000-01-04  0.915179  0.987723  0.903460  0.966518\n",
       "2000-01-05  0.928571  0.987165  0.919643  0.926339\n",
       "2000-01-06  0.848214  0.955357  0.848214  0.947545\n",
       "2000-01-07  0.888393  0.901786  0.852679  0.861607"
      ]
     },
     "execution_count": 55,
     "metadata": {},
     "output_type": "execute_result"
    }
   ],
   "source": [
    "aapl = rawdata.loc[:, idx['Close':'Open', 'AAPL']]\n",
    "aapl.head()"
   ]
  },
  {
   "cell_type": "markdown",
   "metadata": {
    "slideshow": {
     "slide_type": "subslide"
    }
   },
   "source": [
    "* Drop redudant index level, `AAPL`:"
   ]
  },
  {
   "cell_type": "code",
   "execution_count": 56,
   "metadata": {
    "slideshow": {
     "slide_type": "-"
    },
    "tags": []
   },
   "outputs": [
    {
     "data": {
      "text/html": [
       "<div>\n",
       "<style scoped>\n",
       "    .dataframe tbody tr th:only-of-type {\n",
       "        vertical-align: middle;\n",
       "    }\n",
       "\n",
       "    .dataframe tbody tr th {\n",
       "        vertical-align: top;\n",
       "    }\n",
       "\n",
       "    .dataframe thead th {\n",
       "        text-align: right;\n",
       "    }\n",
       "</style>\n",
       "<table border=\"1\" class=\"dataframe\">\n",
       "  <thead>\n",
       "    <tr style=\"text-align: right;\">\n",
       "      <th>Value</th>\n",
       "      <th>Close</th>\n",
       "      <th>High</th>\n",
       "      <th>Low</th>\n",
       "      <th>Open</th>\n",
       "    </tr>\n",
       "    <tr>\n",
       "      <th>Date</th>\n",
       "      <th></th>\n",
       "      <th></th>\n",
       "      <th></th>\n",
       "      <th></th>\n",
       "    </tr>\n",
       "  </thead>\n",
       "  <tbody>\n",
       "    <tr>\n",
       "      <th>2023-02-02</th>\n",
       "      <td>150.820007</td>\n",
       "      <td>151.179993</td>\n",
       "      <td>148.169998</td>\n",
       "      <td>148.899994</td>\n",
       "    </tr>\n",
       "    <tr>\n",
       "      <th>2023-02-03</th>\n",
       "      <td>154.500000</td>\n",
       "      <td>157.380005</td>\n",
       "      <td>147.830002</td>\n",
       "      <td>148.029999</td>\n",
       "    </tr>\n",
       "    <tr>\n",
       "      <th>2023-02-06</th>\n",
       "      <td>151.729996</td>\n",
       "      <td>153.100006</td>\n",
       "      <td>150.779999</td>\n",
       "      <td>152.570007</td>\n",
       "    </tr>\n",
       "    <tr>\n",
       "      <th>2023-02-07</th>\n",
       "      <td>154.649994</td>\n",
       "      <td>155.229996</td>\n",
       "      <td>150.639999</td>\n",
       "      <td>150.639999</td>\n",
       "    </tr>\n",
       "    <tr>\n",
       "      <th>2023-02-08</th>\n",
       "      <td>151.919998</td>\n",
       "      <td>154.580002</td>\n",
       "      <td>151.169998</td>\n",
       "      <td>153.880005</td>\n",
       "    </tr>\n",
       "  </tbody>\n",
       "</table>\n",
       "</div>"
      ],
      "text/plain": [
       "Value            Close        High         Low        Open\n",
       "Date                                                      \n",
       "2023-02-02  150.820007  151.179993  148.169998  148.899994\n",
       "2023-02-03  154.500000  157.380005  147.830002  148.029999\n",
       "2023-02-06  151.729996  153.100006  150.779999  152.570007\n",
       "2023-02-07  154.649994  155.229996  150.639999  150.639999\n",
       "2023-02-08  151.919998  154.580002  151.169998  153.880005"
      ]
     },
     "execution_count": 56,
     "metadata": {},
     "output_type": "execute_result"
    }
   ],
   "source": [
    "aapl = rawdata.loc[:, idx['Close':'Open', 'AAPL']].droplevel('Symbol', axis=1).tail(60)\n",
    "aapl.head()"
   ]
  },
  {
   "cell_type": "markdown",
   "metadata": {
    "slideshow": {
     "slide_type": "slide"
    }
   },
   "source": [
    "### Example Figure: Candlestick Chart for 3M"
   ]
  },
  {
   "cell_type": "code",
   "execution_count": 57,
   "metadata": {
    "slideshow": {
     "slide_type": "-"
    },
    "tags": []
   },
   "outputs": [
    {
     "data": {
      "text/html": [
       "\n",
       "<style>\n",
       "  #altair-viz-ceb1fb8c180f462eb010366582d4aac7.vega-embed {\n",
       "    width: 100%;\n",
       "    display: flex;\n",
       "  }\n",
       "\n",
       "  #altair-viz-ceb1fb8c180f462eb010366582d4aac7.vega-embed details,\n",
       "  #altair-viz-ceb1fb8c180f462eb010366582d4aac7.vega-embed details summary {\n",
       "    position: relative;\n",
       "  }\n",
       "</style>\n",
       "<div id=\"altair-viz-ceb1fb8c180f462eb010366582d4aac7\"></div>\n",
       "<script type=\"text/javascript\">\n",
       "  var VEGA_DEBUG = (typeof VEGA_DEBUG == \"undefined\") ? {} : VEGA_DEBUG;\n",
       "  (function(spec, embedOpt){\n",
       "    let outputDiv = document.currentScript.previousElementSibling;\n",
       "    if (outputDiv.id !== \"altair-viz-ceb1fb8c180f462eb010366582d4aac7\") {\n",
       "      outputDiv = document.getElementById(\"altair-viz-ceb1fb8c180f462eb010366582d4aac7\");\n",
       "    }\n",
       "    const paths = {\n",
       "      \"vega\": \"https://cdn.jsdelivr.net/npm/vega@5?noext\",\n",
       "      \"vega-lib\": \"https://cdn.jsdelivr.net/npm/vega-lib?noext\",\n",
       "      \"vega-lite\": \"https://cdn.jsdelivr.net/npm/vega-lite@5.17.0?noext\",\n",
       "      \"vega-embed\": \"https://cdn.jsdelivr.net/npm/vega-embed@6?noext\",\n",
       "    };\n",
       "\n",
       "    function maybeLoadScript(lib, version) {\n",
       "      var key = `${lib.replace(\"-\", \"\")}_version`;\n",
       "      return (VEGA_DEBUG[key] == version) ?\n",
       "        Promise.resolve(paths[lib]) :\n",
       "        new Promise(function(resolve, reject) {\n",
       "          var s = document.createElement('script');\n",
       "          document.getElementsByTagName(\"head\")[0].appendChild(s);\n",
       "          s.async = true;\n",
       "          s.onload = () => {\n",
       "            VEGA_DEBUG[key] = version;\n",
       "            return resolve(paths[lib]);\n",
       "          };\n",
       "          s.onerror = () => reject(`Error loading script: ${paths[lib]}`);\n",
       "          s.src = paths[lib];\n",
       "        });\n",
       "    }\n",
       "\n",
       "    function showError(err) {\n",
       "      outputDiv.innerHTML = `<div class=\"error\" style=\"color:red;\">${err}</div>`;\n",
       "      throw err;\n",
       "    }\n",
       "\n",
       "    function displayChart(vegaEmbed) {\n",
       "      vegaEmbed(outputDiv, spec, embedOpt)\n",
       "        .catch(err => showError(`Javascript Error: ${err.message}<br>This usually means there's a typo in your chart specification. See the javascript console for the full traceback.`));\n",
       "    }\n",
       "\n",
       "    if(typeof define === \"function\" && define.amd) {\n",
       "      requirejs.config({paths});\n",
       "      require([\"vega-embed\"], displayChart, err => showError(`Error loading script: ${err.message}`));\n",
       "    } else {\n",
       "      maybeLoadScript(\"vega\", \"5\")\n",
       "        .then(() => maybeLoadScript(\"vega-lite\", \"5.17.0\"))\n",
       "        .then(() => maybeLoadScript(\"vega-embed\", \"6\"))\n",
       "        .catch(showError)\n",
       "        .then(() => displayChart(vegaEmbed));\n",
       "    }\n",
       "  })({\"config\": {\"view\": {\"continuousWidth\": 300, \"continuousHeight\": 300}}, \"layer\": [{\"mark\": {\"type\": \"rule\"}, \"encoding\": {\"color\": {\"condition\": {\"test\": \"datum.Open <= datum.Close\", \"value\": \"#06982d\"}, \"value\": \"#ae1325\"}, \"x\": {\"axis\": {\"format\": \"%m-%d-%Y\", \"labelAngle\": -90}, \"field\": \"Date\", \"type\": \"temporal\"}, \"y\": {\"field\": \"Low\", \"scale\": {\"zero\": false}, \"title\": \"Price\", \"type\": \"quantitative\"}, \"y2\": {\"field\": \"High\"}}}, {\"mark\": {\"type\": \"bar\"}, \"encoding\": {\"color\": {\"condition\": {\"test\": \"datum.Open <= datum.Close\", \"value\": \"#06982d\"}, \"value\": \"#ae1325\"}, \"x\": {\"axis\": {\"format\": \"%m-%d-%Y\", \"labelAngle\": -90}, \"field\": \"Date\", \"type\": \"temporal\"}, \"y\": {\"field\": \"Open\", \"type\": \"quantitative\"}, \"y2\": {\"field\": \"Close\"}}}], \"data\": {\"name\": \"data-d17995e3762a8246b975ca521f7c932c\"}, \"$schema\": \"https://vega.github.io/schema/vega-lite/v5.17.0.json\", \"datasets\": {\"data-d17995e3762a8246b975ca521f7c932c\": [{\"Date\": \"2023-02-02T00:00:00\", \"Close\": 100.57691955566406, \"High\": 101.04515075683594, \"Low\": 96.58026885986328, \"Open\": 97.06521606445312}, {\"Date\": \"2023-02-03T00:00:00\", \"Close\": 98.23578643798828, \"High\": 99.69063568115234, \"Low\": 97.65050506591797, \"Open\": 99.4397964477539}, {\"Date\": \"2023-02-06T00:00:00\", \"Close\": 97.40802764892578, \"High\": 98.0434799194336, \"Low\": 96.88963317871094, \"Open\": 97.65050506591797}, {\"Date\": \"2023-02-07T00:00:00\", \"Close\": 97.74247741699219, \"High\": 98.00167083740234, \"Low\": 95.96154022216797, \"Open\": 96.83946228027344}, {\"Date\": \"2023-02-08T00:00:00\", \"Close\": 96.36287689208984, \"High\": 97.56688690185547, \"Low\": 96.1622085571289, \"Open\": 97.13211059570312}, {\"Date\": \"2023-02-09T00:00:00\", \"Close\": 94.42308044433594, \"High\": 97.65050506591797, \"Low\": 94.03009796142578, \"Open\": 97.34949493408203}, {\"Date\": \"2023-02-10T00:00:00\", \"Close\": 95.21739196777344, \"High\": 95.50167083740234, \"Low\": 94.23076629638672, \"Open\": 94.67391204833984}, {\"Date\": \"2023-02-13T00:00:00\", \"Close\": 96.3879623413086, \"High\": 96.6722412109375, \"Low\": 95.15050506591797, \"Open\": 95.62709045410156}, {\"Date\": \"2023-02-14T00:00:00\", \"Close\": 95.4933090209961, \"High\": 96.22073364257812, \"Low\": 94.4397964477539, \"Open\": 95.97826385498047}, {\"Date\": \"2023-02-15T00:00:00\", \"Close\": 95.97826385498047, \"High\": 96.00334167480469, \"Low\": 94.6488265991211, \"Open\": 95.02508544921875}, {\"Date\": \"2023-02-16T00:00:00\", \"Close\": 93.6454849243164, \"High\": 94.76588439941406, \"Low\": 92.60869598388672, \"Open\": 94.06354522705078}, {\"Date\": \"2023-02-17T00:00:00\", \"Close\": 94.4732437133789, \"High\": 94.51505279541016, \"Low\": 92.54180908203125, \"Open\": 93.6120376586914}, {\"Date\": \"2023-02-21T00:00:00\", \"Close\": 91.34615325927734, \"High\": 93.97993469238281, \"Low\": 91.28762817382812, \"Open\": 93.6454849243164}, {\"Date\": \"2023-02-22T00:00:00\", \"Close\": 91.08695983886719, \"High\": 92.29096984863281, \"Low\": 90.72742462158203, \"Open\": 91.58026885986328}, {\"Date\": \"2023-02-23T00:00:00\", \"Close\": 91.06187438964844, \"High\": 92.2157211303711, \"Low\": 90.30936431884766, \"Open\": 91.72240447998047}, {\"Date\": \"2023-02-24T00:00:00\", \"Close\": 90.13378143310547, \"High\": 90.75251007080078, \"Low\": 89.26421356201172, \"Open\": 90.39297485351562}, {\"Date\": \"2023-02-27T00:00:00\", \"Close\": 90.5267562866211, \"High\": 92.55016326904297, \"Low\": 90.46822357177734, \"Open\": 91.02006530761719}, {\"Date\": \"2023-02-28T00:00:00\", \"Close\": 90.08361053466797, \"High\": 91.07023620605469, \"Low\": 89.67391204833984, \"Open\": 90.40133666992188}, {\"Date\": \"2023-03-01T00:00:00\", \"Close\": 92.1488265991211, \"High\": 93.92140197753906, \"Low\": 91.75585174560547, \"Open\": 92.84281158447266}, {\"Date\": \"2023-03-02T00:00:00\", \"Close\": 91.88963317871094, \"High\": 92.17391204833984, \"Low\": 90.06688690185547, \"Open\": 91.76421356201172}, {\"Date\": \"2023-03-03T00:00:00\", \"Close\": 93.0267562866211, \"High\": 93.63712310791016, \"Low\": 91.64715576171875, \"Open\": 92.62541961669922}, {\"Date\": \"2023-03-06T00:00:00\", \"Close\": 91.91471862792969, \"High\": 93.3277587890625, \"Low\": 91.7056884765625, \"Open\": 93.14381408691406}, {\"Date\": \"2023-03-07T00:00:00\", \"Close\": 89.54013061523438, \"High\": 91.98160552978516, \"Low\": 89.49832916259766, \"Open\": 91.9732437133789}, {\"Date\": \"2023-03-08T00:00:00\", \"Close\": 89.59866333007812, \"High\": 90.10869598388672, \"Low\": 88.77926635742188, \"Open\": 89.83277893066406}, {\"Date\": \"2023-03-09T00:00:00\", \"Close\": 88.22742462158203, \"High\": 90.76923370361328, \"Low\": 88.14381408691406, \"Open\": 90.0167236328125}, {\"Date\": \"2023-03-10T00:00:00\", \"Close\": 87.0066909790039, \"High\": 89.46488189697266, \"Low\": 86.73912811279297, \"Open\": 88.24414825439453}, {\"Date\": \"2023-03-13T00:00:00\", \"Close\": 86.53845977783203, \"High\": 87.52508544921875, \"Low\": 85.89464569091797, \"Open\": 86.68060302734375}, {\"Date\": \"2023-03-14T00:00:00\", \"Close\": 85.93645477294922, \"High\": 87.93478393554688, \"Low\": 84.75752258300781, \"Open\": 87.44983673095703}, {\"Date\": \"2023-03-15T00:00:00\", \"Close\": 85.93645477294922, \"High\": 85.96990203857422, \"Low\": 83.8377914428711, \"Open\": 84.7157211303711}, {\"Date\": \"2023-03-16T00:00:00\", \"Close\": 87.13211059570312, \"High\": 87.31605529785156, \"Low\": 84.84949493408203, \"Open\": 85.10033416748047}, {\"Date\": \"2023-03-17T00:00:00\", \"Close\": 86.13712310791016, \"High\": 87.34114074707031, \"Low\": 85.25919342041016, \"Open\": 87.24916076660156}, {\"Date\": \"2023-03-20T00:00:00\", \"Close\": 87.2157211303711, \"High\": 87.33277893066406, \"Low\": 86.30435180664062, \"Open\": 86.46321105957031}, {\"Date\": \"2023-03-21T00:00:00\", \"Close\": 87.1989974975586, \"High\": 88.19397735595703, \"Low\": 86.42976379394531, \"Open\": 87.9933090209961}, {\"Date\": \"2023-03-22T00:00:00\", \"Close\": 84.89966583251953, \"High\": 87.41638946533203, \"Low\": 84.86621856689453, \"Open\": 87.22408294677734}, {\"Date\": \"2023-03-23T00:00:00\", \"Close\": 84.44815826416016, \"High\": 86.06187438964844, \"Low\": 84.24748992919922, \"Open\": 85.0}, {\"Date\": \"2023-03-24T00:00:00\", \"Close\": 84.56521606445312, \"High\": 84.7324447631836, \"Low\": 83.74581909179688, \"Open\": 83.92140197753906}, {\"Date\": \"2023-03-27T00:00:00\", \"Close\": 84.85785675048828, \"High\": 85.51839447021484, \"Low\": 84.11370849609375, \"Open\": 85.46822357177734}, {\"Date\": \"2023-03-28T00:00:00\", \"Close\": 85.06688690185547, \"High\": 85.97826385498047, \"Low\": 84.70735931396484, \"Open\": 84.94147491455078}, {\"Date\": \"2023-03-29T00:00:00\", \"Close\": 86.27926635742188, \"High\": 86.3210678100586, \"Low\": 85.20066833496094, \"Open\": 85.96154022216797}, {\"Date\": \"2023-03-30T00:00:00\", \"Close\": 85.93645477294922, \"High\": 86.88963317871094, \"Low\": 85.72742462158203, \"Open\": 86.74748992919922}, {\"Date\": \"2023-03-31T00:00:00\", \"Close\": 87.88461303710938, \"High\": 87.95150756835938, \"Low\": 86.1287612915039, \"Open\": 86.53845977783203}, {\"Date\": \"2023-04-03T00:00:00\", \"Close\": 87.43311309814453, \"High\": 88.49497985839844, \"Low\": 87.10702514648438, \"Open\": 87.91806030273438}, {\"Date\": \"2023-04-04T00:00:00\", \"Close\": 85.4933090209961, \"High\": 87.70903015136719, \"Low\": 85.34281158447266, \"Open\": 87.70903015136719}, {\"Date\": \"2023-04-05T00:00:00\", \"Close\": 85.5267562866211, \"High\": 85.92809295654297, \"Low\": 85.0167236328125, \"Open\": 85.58528137207031}, {\"Date\": \"2023-04-06T00:00:00\", \"Close\": 84.91638946533203, \"High\": 85.95317840576172, \"Low\": 84.88294219970703, \"Open\": 85.57691955566406}, {\"Date\": \"2023-04-10T00:00:00\", \"Close\": 85.91973114013672, \"High\": 86.22909545898438, \"Low\": 84.4899673461914, \"Open\": 84.94983673095703}, {\"Date\": \"2023-04-11T00:00:00\", \"Close\": 87.42475128173828, \"High\": 87.60869598388672, \"Low\": 86.37960052490234, \"Open\": 86.64715576171875}, {\"Date\": \"2023-04-12T00:00:00\", \"Close\": 87.26588439941406, \"High\": 87.91806030273438, \"Low\": 86.69732666015625, \"Open\": 87.79264068603516}, {\"Date\": \"2023-04-13T00:00:00\", \"Close\": 88.75418090820312, \"High\": 88.99665832519531, \"Low\": 87.03177642822266, \"Open\": 87.65885925292969}, {\"Date\": \"2023-04-14T00:00:00\", \"Close\": 88.43645477294922, \"High\": 89.56521606445312, \"Low\": 87.8010025024414, \"Open\": 88.6287612915039}, {\"Date\": \"2023-04-17T00:00:00\", \"Close\": 89.28093719482422, \"High\": 89.54849243164062, \"Low\": 88.57859802246094, \"Open\": 88.76254272460938}, {\"Date\": \"2023-04-18T00:00:00\", \"Close\": 88.8545150756836, \"High\": 89.7157211303711, \"Low\": 88.52006530761719, \"Open\": 89.65718841552734}, {\"Date\": \"2023-04-19T00:00:00\", \"Close\": 88.69564819335938, \"High\": 88.91304016113281, \"Low\": 88.17726135253906, \"Open\": 88.3779296875}, {\"Date\": \"2023-04-20T00:00:00\", \"Close\": 87.56688690185547, \"High\": 88.28594970703125, \"Low\": 87.04849243164062, \"Open\": 88.17726135253906}, {\"Date\": \"2023-04-21T00:00:00\", \"Close\": 87.35785675048828, \"High\": 87.89297485351562, \"Low\": 87.0066909790039, \"Open\": 87.77591705322266}, {\"Date\": \"2023-04-24T00:00:00\", \"Close\": 87.84281158447266, \"High\": 88.05184173583984, \"Low\": 87.25752258300781, \"Open\": 87.8344497680664}, {\"Date\": \"2023-04-25T00:00:00\", \"Close\": 87.26588439941406, \"High\": 89.7157211303711, \"Low\": 87.09030151367188, \"Open\": 88.3612060546875}, {\"Date\": \"2023-04-26T00:00:00\", \"Close\": 86.05351257324219, \"High\": 87.95986938476562, \"Low\": 85.92809295654297, \"Open\": 86.9565200805664}, {\"Date\": \"2023-04-27T00:00:00\", \"Close\": 88.06856536865234, \"High\": 88.11872863769531, \"Low\": 86.18729400634766, \"Open\": 86.18729400634766}, {\"Date\": \"2023-04-28T00:00:00\", \"Close\": 88.81270599365234, \"High\": 88.97157287597656, \"Low\": 87.91806030273438, \"Open\": 88.05184173583984}]}}, {\"mode\": \"vega-lite\"});\n",
       "</script>"
      ],
      "text/plain": [
       "alt.LayerChart(...)"
      ]
     },
     "execution_count": 57,
     "metadata": {},
     "output_type": "execute_result"
    }
   ],
   "source": [
    "mmm = rawdata.loc[:, idx['Close':'Open', 'MMM']].droplevel('Symbol', axis=1).tail(60)\n",
    "\n",
    "import altair as alt\n",
    "\n",
    "open_close_color = alt.condition(\n",
    "    \"datum.Open <= datum.Close\",\n",
    "    alt.value(\"#06982d\"), # green for increase\n",
    "    alt.value(\"#ae1325\"), # red for decrease\n",
    ") \n",
    "\n",
    "base = alt.Chart(mmm.reset_index()).encode(\n",
    "    alt.X('Date:T',\n",
    "          axis=alt.Axis(\n",
    "              format='%m-%d-%Y',\n",
    "              labelAngle=-90)\n",
    "    ),\n",
    "    color=open_close_color\n",
    ")\n",
    "\n",
    "rule = base.mark_rule().encode(\n",
    "    alt.Y(\n",
    "        'Low:Q',\n",
    "        title='Price',\n",
    "        scale=alt.Scale(zero=False),\n",
    "    ),\n",
    "    alt.Y2('High:Q')\n",
    ")\n",
    "\n",
    "bar = base.mark_bar().encode(\n",
    "    alt.Y('Open:Q'),\n",
    "    alt.Y2('Close:Q')\n",
    ")\n",
    "\n",
    "rule + bar"
   ]
  },
  {
   "cell_type": "code",
   "execution_count": 58,
   "metadata": {},
   "outputs": [
    {
     "data": {
      "text/html": [
       "<div>\n",
       "<style scoped>\n",
       "    .dataframe tbody tr th:only-of-type {\n",
       "        vertical-align: middle;\n",
       "    }\n",
       "\n",
       "    .dataframe tbody tr th {\n",
       "        vertical-align: top;\n",
       "    }\n",
       "\n",
       "    .dataframe thead tr th {\n",
       "        text-align: left;\n",
       "    }\n",
       "\n",
       "    .dataframe thead tr:last-of-type th {\n",
       "        text-align: right;\n",
       "    }\n",
       "</style>\n",
       "<table border=\"1\" class=\"dataframe\">\n",
       "  <thead>\n",
       "    <tr>\n",
       "      <th>Value</th>\n",
       "      <th colspan=\"10\" halign=\"left\">Adj Close</th>\n",
       "      <th>...</th>\n",
       "      <th colspan=\"10\" halign=\"left\">Volume</th>\n",
       "    </tr>\n",
       "    <tr>\n",
       "      <th>Symbol</th>\n",
       "      <th>AAPL</th>\n",
       "      <th>AXP</th>\n",
       "      <th>BA</th>\n",
       "      <th>BAC</th>\n",
       "      <th>CAT</th>\n",
       "      <th>CSCO</th>\n",
       "      <th>CVX</th>\n",
       "      <th>DD</th>\n",
       "      <th>DIS</th>\n",
       "      <th>GE</th>\n",
       "      <th>...</th>\n",
       "      <th>MMM</th>\n",
       "      <th>MRK</th>\n",
       "      <th>MSFT</th>\n",
       "      <th>PFE</th>\n",
       "      <th>PG</th>\n",
       "      <th>T</th>\n",
       "      <th>TRV</th>\n",
       "      <th>VZ</th>\n",
       "      <th>WMT</th>\n",
       "      <th>XOM</th>\n",
       "    </tr>\n",
       "    <tr>\n",
       "      <th>Date</th>\n",
       "      <th></th>\n",
       "      <th></th>\n",
       "      <th></th>\n",
       "      <th></th>\n",
       "      <th></th>\n",
       "      <th></th>\n",
       "      <th></th>\n",
       "      <th></th>\n",
       "      <th></th>\n",
       "      <th></th>\n",
       "      <th></th>\n",
       "      <th></th>\n",
       "      <th></th>\n",
       "      <th></th>\n",
       "      <th></th>\n",
       "      <th></th>\n",
       "      <th></th>\n",
       "      <th></th>\n",
       "      <th></th>\n",
       "      <th></th>\n",
       "      <th></th>\n",
       "    </tr>\n",
       "  </thead>\n",
       "  <tbody>\n",
       "    <tr>\n",
       "      <th>2000-01-03</th>\n",
       "      <td>0.844981</td>\n",
       "      <td>32.854733</td>\n",
       "      <td>25.940289</td>\n",
       "      <td>12.946366</td>\n",
       "      <td>12.861952</td>\n",
       "      <td>36.641254</td>\n",
       "      <td>17.139811</td>\n",
       "      <td>29.194963</td>\n",
       "      <td>23.040167</td>\n",
       "      <td>112.386337</td>\n",
       "      <td>...</td>\n",
       "      <td>2599386</td>\n",
       "      <td>6265782</td>\n",
       "      <td>53228400</td>\n",
       "      <td>12873345</td>\n",
       "      <td>4275000</td>\n",
       "      <td>7668476</td>\n",
       "      <td>336400</td>\n",
       "      <td>4663843</td>\n",
       "      <td>25109700</td>\n",
       "      <td>13458200</td>\n",
       "    </tr>\n",
       "    <tr>\n",
       "      <th>2000-01-04</th>\n",
       "      <td>0.773740</td>\n",
       "      <td>31.614206</td>\n",
       "      <td>25.899946</td>\n",
       "      <td>12.177940</td>\n",
       "      <td>12.696634</td>\n",
       "      <td>34.585606</td>\n",
       "      <td>17.139811</td>\n",
       "      <td>28.396984</td>\n",
       "      <td>24.389799</td>\n",
       "      <td>107.890823</td>\n",
       "      <td>...</td>\n",
       "      <td>3245705</td>\n",
       "      <td>7894689</td>\n",
       "      <td>54119000</td>\n",
       "      <td>14208974</td>\n",
       "      <td>4270800</td>\n",
       "      <td>9497846</td>\n",
       "      <td>494400</td>\n",
       "      <td>5005878</td>\n",
       "      <td>20235300</td>\n",
       "      <td>14510800</td>\n",
       "    </tr>\n",
       "    <tr>\n",
       "      <th>2000-01-05</th>\n",
       "      <td>0.785063</td>\n",
       "      <td>30.811222</td>\n",
       "      <td>27.513645</td>\n",
       "      <td>12.311582</td>\n",
       "      <td>12.994211</td>\n",
       "      <td>34.479656</td>\n",
       "      <td>17.447252</td>\n",
       "      <td>29.318794</td>\n",
       "      <td>25.402020</td>\n",
       "      <td>107.703522</td>\n",
       "      <td>...</td>\n",
       "      <td>4424482</td>\n",
       "      <td>7963018</td>\n",
       "      <td>64059600</td>\n",
       "      <td>12981591</td>\n",
       "      <td>5098400</td>\n",
       "      <td>12035160</td>\n",
       "      <td>736000</td>\n",
       "      <td>6368681</td>\n",
       "      <td>21056100</td>\n",
       "      <td>17485000</td>\n",
       "    </tr>\n",
       "    <tr>\n",
       "      <th>2000-01-06</th>\n",
       "      <td>0.717125</td>\n",
       "      <td>31.438969</td>\n",
       "      <td>27.796049</td>\n",
       "      <td>13.363992</td>\n",
       "      <td>13.655502</td>\n",
       "      <td>33.907463</td>\n",
       "      <td>18.190229</td>\n",
       "      <td>30.144287</td>\n",
       "      <td>24.389799</td>\n",
       "      <td>109.143494</td>\n",
       "      <td>...</td>\n",
       "      <td>7147057</td>\n",
       "      <td>4989004</td>\n",
       "      <td>54976600</td>\n",
       "      <td>11115273</td>\n",
       "      <td>6524200</td>\n",
       "      <td>9471366</td>\n",
       "      <td>660400</td>\n",
       "      <td>4705763</td>\n",
       "      <td>19633500</td>\n",
       "      <td>19461600</td>\n",
       "    </tr>\n",
       "    <tr>\n",
       "      <th>2000-01-07</th>\n",
       "      <td>0.751094</td>\n",
       "      <td>31.896685</td>\n",
       "      <td>28.602894</td>\n",
       "      <td>13.013184</td>\n",
       "      <td>14.101857</td>\n",
       "      <td>35.899529</td>\n",
       "      <td>18.510487</td>\n",
       "      <td>30.818439</td>\n",
       "      <td>24.004185</td>\n",
       "      <td>113.369652</td>\n",
       "      <td>...</td>\n",
       "      <td>4905035</td>\n",
       "      <td>10871218</td>\n",
       "      <td>62013600</td>\n",
       "      <td>17962163</td>\n",
       "      <td>9832000</td>\n",
       "      <td>7792534</td>\n",
       "      <td>594700</td>\n",
       "      <td>5043907</td>\n",
       "      <td>23930700</td>\n",
       "      <td>16603800</td>\n",
       "    </tr>\n",
       "  </tbody>\n",
       "</table>\n",
       "<p>5 rows × 162 columns</p>\n",
       "</div>"
      ],
      "text/plain": [
       "Value      Adj Close                                                         \\\n",
       "Symbol          AAPL        AXP         BA        BAC        CAT       CSCO   \n",
       "Date                                                                          \n",
       "2000-01-03  0.844981  32.854733  25.940289  12.946366  12.861952  36.641254   \n",
       "2000-01-04  0.773740  31.614206  25.899946  12.177940  12.696634  34.585606   \n",
       "2000-01-05  0.785063  30.811222  27.513645  12.311582  12.994211  34.479656   \n",
       "2000-01-06  0.717125  31.438969  27.796049  13.363992  13.655502  33.907463   \n",
       "2000-01-07  0.751094  31.896685  28.602894  13.013184  14.101857  35.899529   \n",
       "\n",
       "Value                                                    ...   Volume  \\\n",
       "Symbol            CVX         DD        DIS          GE  ...      MMM   \n",
       "Date                                                     ...            \n",
       "2000-01-03  17.139811  29.194963  23.040167  112.386337  ...  2599386   \n",
       "2000-01-04  17.139811  28.396984  24.389799  107.890823  ...  3245705   \n",
       "2000-01-05  17.447252  29.318794  25.402020  107.703522  ...  4424482   \n",
       "2000-01-06  18.190229  30.144287  24.389799  109.143494  ...  7147057   \n",
       "2000-01-07  18.510487  30.818439  24.004185  113.369652  ...  4905035   \n",
       "\n",
       "Value                                                                         \\\n",
       "Symbol           MRK      MSFT       PFE       PG         T     TRV       VZ   \n",
       "Date                                                                           \n",
       "2000-01-03   6265782  53228400  12873345  4275000   7668476  336400  4663843   \n",
       "2000-01-04   7894689  54119000  14208974  4270800   9497846  494400  5005878   \n",
       "2000-01-05   7963018  64059600  12981591  5098400  12035160  736000  6368681   \n",
       "2000-01-06   4989004  54976600  11115273  6524200   9471366  660400  4705763   \n",
       "2000-01-07  10871218  62013600  17962163  9832000   7792534  594700  5043907   \n",
       "\n",
       "Value                           \n",
       "Symbol           WMT       XOM  \n",
       "Date                            \n",
       "2000-01-03  25109700  13458200  \n",
       "2000-01-04  20235300  14510800  \n",
       "2000-01-05  21056100  17485000  \n",
       "2000-01-06  19633500  19461600  \n",
       "2000-01-07  23930700  16603800  \n",
       "\n",
       "[5 rows x 162 columns]"
      ]
     },
     "execution_count": 58,
     "metadata": {},
     "output_type": "execute_result"
    }
   ],
   "source": [
    " rawdata.head()"
   ]
  },
  {
   "cell_type": "markdown",
   "metadata": {
    "slideshow": {
     "slide_type": "subslide"
    }
   },
   "source": [
    "### Example Figure: Adjusted close prices"
   ]
  },
  {
   "cell_type": "code",
   "execution_count": 59,
   "metadata": {
    "slideshow": {
     "slide_type": "-"
    },
    "tags": []
   },
   "outputs": [
    {
     "data": {
      "text/html": [
       "<div>\n",
       "<style scoped>\n",
       "    .dataframe tbody tr th:only-of-type {\n",
       "        vertical-align: middle;\n",
       "    }\n",
       "\n",
       "    .dataframe tbody tr th {\n",
       "        vertical-align: top;\n",
       "    }\n",
       "\n",
       "    .dataframe thead tr th {\n",
       "        text-align: left;\n",
       "    }\n",
       "\n",
       "    .dataframe thead tr:last-of-type th {\n",
       "        text-align: right;\n",
       "    }\n",
       "</style>\n",
       "<table border=\"1\" class=\"dataframe\">\n",
       "  <thead>\n",
       "    <tr>\n",
       "      <th>Value</th>\n",
       "      <th colspan=\"5\" halign=\"left\">Adj Close</th>\n",
       "    </tr>\n",
       "    <tr>\n",
       "      <th>Symbol</th>\n",
       "      <th>MMM</th>\n",
       "      <th>MRK</th>\n",
       "      <th>PFE</th>\n",
       "      <th>PG</th>\n",
       "      <th>JNJ</th>\n",
       "    </tr>\n",
       "    <tr>\n",
       "      <th>Date</th>\n",
       "      <th></th>\n",
       "      <th></th>\n",
       "      <th></th>\n",
       "      <th></th>\n",
       "      <th></th>\n",
       "    </tr>\n",
       "  </thead>\n",
       "  <tbody>\n",
       "    <tr>\n",
       "      <th>2023-02-02</th>\n",
       "      <td>91.916786</td>\n",
       "      <td>100.009537</td>\n",
       "      <td>42.170307</td>\n",
       "      <td>137.755112</td>\n",
       "      <td>159.453934</td>\n",
       "    </tr>\n",
       "    <tr>\n",
       "      <th>2023-02-03</th>\n",
       "      <td>89.777229</td>\n",
       "      <td>99.506882</td>\n",
       "      <td>41.904007</td>\n",
       "      <td>138.181458</td>\n",
       "      <td>158.558136</td>\n",
       "    </tr>\n",
       "    <tr>\n",
       "      <th>2023-02-06</th>\n",
       "      <td>89.020744</td>\n",
       "      <td>100.560516</td>\n",
       "      <td>41.618683</td>\n",
       "      <td>137.009018</td>\n",
       "      <td>157.354080</td>\n",
       "    </tr>\n",
       "    <tr>\n",
       "      <th>2023-02-07</th>\n",
       "      <td>89.326401</td>\n",
       "      <td>102.155495</td>\n",
       "      <td>41.457008</td>\n",
       "      <td>135.671860</td>\n",
       "      <td>157.392593</td>\n",
       "    </tr>\n",
       "    <tr>\n",
       "      <th>2023-02-08</th>\n",
       "      <td>88.065598</td>\n",
       "      <td>103.083481</td>\n",
       "      <td>41.827923</td>\n",
       "      <td>134.266907</td>\n",
       "      <td>157.594879</td>\n",
       "    </tr>\n",
       "  </tbody>\n",
       "</table>\n",
       "</div>"
      ],
      "text/plain": [
       "Value       Adj Close                                               \n",
       "Symbol            MMM         MRK        PFE          PG         JNJ\n",
       "Date                                                                \n",
       "2023-02-02  91.916786  100.009537  42.170307  137.755112  159.453934\n",
       "2023-02-03  89.777229   99.506882  41.904007  138.181458  158.558136\n",
       "2023-02-06  89.020744  100.560516  41.618683  137.009018  157.354080\n",
       "2023-02-07  89.326401  102.155495  41.457008  135.671860  157.392593\n",
       "2023-02-08  88.065598  103.083481  41.827923  134.266907  157.594879"
      ]
     },
     "execution_count": 59,
     "metadata": {},
     "output_type": "execute_result"
    }
   ],
   "source": [
    "first10 = rawdata.loc[:, idx['Adj Close', ['MMM', 'MRK', 'PFE', 'PG', 'JNJ']]].tail(60)\n",
    "first10.head()"
   ]
  },
  {
   "cell_type": "markdown",
   "metadata": {
    "slideshow": {
     "slide_type": "subslide"
    }
   },
   "source": [
    "* Stacking transforms data into long-format:  \n",
    "    _Note: unstack does the opposite_"
   ]
  },
  {
   "cell_type": "code",
   "execution_count": 60,
   "metadata": {
    "slideshow": {
     "slide_type": "-"
    },
    "tags": []
   },
   "outputs": [
    {
     "data": {
      "text/html": [
       "<div>\n",
       "<style scoped>\n",
       "    .dataframe tbody tr th:only-of-type {\n",
       "        vertical-align: middle;\n",
       "    }\n",
       "\n",
       "    .dataframe tbody tr th {\n",
       "        vertical-align: top;\n",
       "    }\n",
       "\n",
       "    .dataframe thead th {\n",
       "        text-align: right;\n",
       "    }\n",
       "</style>\n",
       "<table border=\"1\" class=\"dataframe\">\n",
       "  <thead>\n",
       "    <tr style=\"text-align: right;\">\n",
       "      <th></th>\n",
       "      <th>Value</th>\n",
       "      <th>Adj Close</th>\n",
       "    </tr>\n",
       "    <tr>\n",
       "      <th>Date</th>\n",
       "      <th>Symbol</th>\n",
       "      <th></th>\n",
       "    </tr>\n",
       "  </thead>\n",
       "  <tbody>\n",
       "    <tr>\n",
       "      <th rowspan=\"5\" valign=\"top\">2023-02-02</th>\n",
       "      <th>JNJ</th>\n",
       "      <td>159.453934</td>\n",
       "    </tr>\n",
       "    <tr>\n",
       "      <th>MMM</th>\n",
       "      <td>91.916786</td>\n",
       "    </tr>\n",
       "    <tr>\n",
       "      <th>MRK</th>\n",
       "      <td>100.009537</td>\n",
       "    </tr>\n",
       "    <tr>\n",
       "      <th>PFE</th>\n",
       "      <td>42.170307</td>\n",
       "    </tr>\n",
       "    <tr>\n",
       "      <th>PG</th>\n",
       "      <td>137.755112</td>\n",
       "    </tr>\n",
       "    <tr>\n",
       "      <th>...</th>\n",
       "      <th>...</th>\n",
       "      <td>...</td>\n",
       "    </tr>\n",
       "    <tr>\n",
       "      <th rowspan=\"5\" valign=\"top\">2023-04-28</th>\n",
       "      <th>JNJ</th>\n",
       "      <td>158.815689</td>\n",
       "    </tr>\n",
       "    <tr>\n",
       "      <th>MMM</th>\n",
       "      <td>82.454163</td>\n",
       "    </tr>\n",
       "    <tr>\n",
       "      <th>MRK</th>\n",
       "      <td>112.395012</td>\n",
       "    </tr>\n",
       "    <tr>\n",
       "      <th>PFE</th>\n",
       "      <td>36.986988</td>\n",
       "    </tr>\n",
       "    <tr>\n",
       "      <th>PG</th>\n",
       "      <td>152.472504</td>\n",
       "    </tr>\n",
       "  </tbody>\n",
       "</table>\n",
       "<p>300 rows × 1 columns</p>\n",
       "</div>"
      ],
      "text/plain": [
       "Value               Adj Close\n",
       "Date       Symbol            \n",
       "2023-02-02 JNJ     159.453934\n",
       "           MMM      91.916786\n",
       "           MRK     100.009537\n",
       "           PFE      42.170307\n",
       "           PG      137.755112\n",
       "...                       ...\n",
       "2023-04-28 JNJ     158.815689\n",
       "           MMM      82.454163\n",
       "           MRK     112.395012\n",
       "           PFE      36.986988\n",
       "           PG      152.472504\n",
       "\n",
       "[300 rows x 1 columns]"
      ]
     },
     "execution_count": 60,
     "metadata": {},
     "output_type": "execute_result"
    }
   ],
   "source": [
    "healthcare = first10.stack('Symbol')\n",
    "healthcare"
   ]
  },
  {
   "cell_type": "code",
   "execution_count": 61,
   "metadata": {
    "slideshow": {
     "slide_type": "subslide"
    },
    "tags": []
   },
   "outputs": [
    {
     "data": {
      "text/html": [
       "\n",
       "<style>\n",
       "  #altair-viz-005c2b8db12b4dfc8e273b39dbe40134.vega-embed {\n",
       "    width: 100%;\n",
       "    display: flex;\n",
       "  }\n",
       "\n",
       "  #altair-viz-005c2b8db12b4dfc8e273b39dbe40134.vega-embed details,\n",
       "  #altair-viz-005c2b8db12b4dfc8e273b39dbe40134.vega-embed details summary {\n",
       "    position: relative;\n",
       "  }\n",
       "</style>\n",
       "<div id=\"altair-viz-005c2b8db12b4dfc8e273b39dbe40134\"></div>\n",
       "<script type=\"text/javascript\">\n",
       "  var VEGA_DEBUG = (typeof VEGA_DEBUG == \"undefined\") ? {} : VEGA_DEBUG;\n",
       "  (function(spec, embedOpt){\n",
       "    let outputDiv = document.currentScript.previousElementSibling;\n",
       "    if (outputDiv.id !== \"altair-viz-005c2b8db12b4dfc8e273b39dbe40134\") {\n",
       "      outputDiv = document.getElementById(\"altair-viz-005c2b8db12b4dfc8e273b39dbe40134\");\n",
       "    }\n",
       "    const paths = {\n",
       "      \"vega\": \"https://cdn.jsdelivr.net/npm/vega@5?noext\",\n",
       "      \"vega-lib\": \"https://cdn.jsdelivr.net/npm/vega-lib?noext\",\n",
       "      \"vega-lite\": \"https://cdn.jsdelivr.net/npm/vega-lite@5.17.0?noext\",\n",
       "      \"vega-embed\": \"https://cdn.jsdelivr.net/npm/vega-embed@6?noext\",\n",
       "    };\n",
       "\n",
       "    function maybeLoadScript(lib, version) {\n",
       "      var key = `${lib.replace(\"-\", \"\")}_version`;\n",
       "      return (VEGA_DEBUG[key] == version) ?\n",
       "        Promise.resolve(paths[lib]) :\n",
       "        new Promise(function(resolve, reject) {\n",
       "          var s = document.createElement('script');\n",
       "          document.getElementsByTagName(\"head\")[0].appendChild(s);\n",
       "          s.async = true;\n",
       "          s.onload = () => {\n",
       "            VEGA_DEBUG[key] = version;\n",
       "            return resolve(paths[lib]);\n",
       "          };\n",
       "          s.onerror = () => reject(`Error loading script: ${paths[lib]}`);\n",
       "          s.src = paths[lib];\n",
       "        });\n",
       "    }\n",
       "\n",
       "    function showError(err) {\n",
       "      outputDiv.innerHTML = `<div class=\"error\" style=\"color:red;\">${err}</div>`;\n",
       "      throw err;\n",
       "    }\n",
       "\n",
       "    function displayChart(vegaEmbed) {\n",
       "      vegaEmbed(outputDiv, spec, embedOpt)\n",
       "        .catch(err => showError(`Javascript Error: ${err.message}<br>This usually means there's a typo in your chart specification. See the javascript console for the full traceback.`));\n",
       "    }\n",
       "\n",
       "    if(typeof define === \"function\" && define.amd) {\n",
       "      requirejs.config({paths});\n",
       "      require([\"vega-embed\"], displayChart, err => showError(`Error loading script: ${err.message}`));\n",
       "    } else {\n",
       "      maybeLoadScript(\"vega\", \"5\")\n",
       "        .then(() => maybeLoadScript(\"vega-lite\", \"5.17.0\"))\n",
       "        .then(() => maybeLoadScript(\"vega-embed\", \"6\"))\n",
       "        .catch(showError)\n",
       "        .then(() => displayChart(vegaEmbed));\n",
       "    }\n",
       "  })({\"config\": {\"view\": {\"continuousWidth\": 300, \"continuousHeight\": 300}}, \"data\": {\"name\": \"data-4947b57b356f126e661862a8e0298522\"}, \"mark\": {\"type\": \"line\"}, \"encoding\": {\"color\": {\"field\": \"Symbol\", \"type\": \"nominal\"}, \"x\": {\"axis\": {\"format\": \"%m-%d-%Y\", \"labelAngle\": -90}, \"field\": \"Date\", \"type\": \"temporal\"}, \"y\": {\"field\": \"Adj Close\", \"type\": \"quantitative\"}}, \"$schema\": \"https://vega.github.io/schema/vega-lite/v5.17.0.json\", \"datasets\": {\"data-4947b57b356f126e661862a8e0298522\": [{\"Date\": \"2023-02-02T00:00:00\", \"Symbol\": \"JNJ\", \"Adj Close\": 159.4539337158203}, {\"Date\": \"2023-02-02T00:00:00\", \"Symbol\": \"MMM\", \"Adj Close\": 91.91678619384766}, {\"Date\": \"2023-02-02T00:00:00\", \"Symbol\": \"MRK\", \"Adj Close\": 100.00953674316406}, {\"Date\": \"2023-02-02T00:00:00\", \"Symbol\": \"PFE\", \"Adj Close\": 42.17030715942383}, {\"Date\": \"2023-02-02T00:00:00\", \"Symbol\": \"PG\", \"Adj Close\": 137.75511169433594}, {\"Date\": \"2023-02-03T00:00:00\", \"Symbol\": \"JNJ\", \"Adj Close\": 158.55813598632812}, {\"Date\": \"2023-02-03T00:00:00\", \"Symbol\": \"MMM\", \"Adj Close\": 89.77722930908203}, {\"Date\": \"2023-02-03T00:00:00\", \"Symbol\": \"MRK\", \"Adj Close\": 99.50688171386719}, {\"Date\": \"2023-02-03T00:00:00\", \"Symbol\": \"PFE\", \"Adj Close\": 41.90400695800781}, {\"Date\": \"2023-02-03T00:00:00\", \"Symbol\": \"PG\", \"Adj Close\": 138.18145751953125}, {\"Date\": \"2023-02-06T00:00:00\", \"Symbol\": \"JNJ\", \"Adj Close\": 157.3540802001953}, {\"Date\": \"2023-02-06T00:00:00\", \"Symbol\": \"MMM\", \"Adj Close\": 89.02074432373047}, {\"Date\": \"2023-02-06T00:00:00\", \"Symbol\": \"MRK\", \"Adj Close\": 100.56051635742188}, {\"Date\": \"2023-02-06T00:00:00\", \"Symbol\": \"PFE\", \"Adj Close\": 41.618682861328125}, {\"Date\": \"2023-02-06T00:00:00\", \"Symbol\": \"PG\", \"Adj Close\": 137.00901794433594}, {\"Date\": \"2023-02-07T00:00:00\", \"Symbol\": \"JNJ\", \"Adj Close\": 157.39259338378906}, {\"Date\": \"2023-02-07T00:00:00\", \"Symbol\": \"MMM\", \"Adj Close\": 89.32640075683594}, {\"Date\": \"2023-02-07T00:00:00\", \"Symbol\": \"MRK\", \"Adj Close\": 102.1554946899414}, {\"Date\": \"2023-02-07T00:00:00\", \"Symbol\": \"PFE\", \"Adj Close\": 41.457008361816406}, {\"Date\": \"2023-02-07T00:00:00\", \"Symbol\": \"PG\", \"Adj Close\": 135.67185974121094}, {\"Date\": \"2023-02-08T00:00:00\", \"Symbol\": \"JNJ\", \"Adj Close\": 157.59487915039062}, {\"Date\": \"2023-02-08T00:00:00\", \"Symbol\": \"MMM\", \"Adj Close\": 88.06559753417969}, {\"Date\": \"2023-02-08T00:00:00\", \"Symbol\": \"MRK\", \"Adj Close\": 103.08348083496094}, {\"Date\": \"2023-02-08T00:00:00\", \"Symbol\": \"PFE\", \"Adj Close\": 41.82792282104492}, {\"Date\": \"2023-02-08T00:00:00\", \"Symbol\": \"PG\", \"Adj Close\": 134.26690673828125}, {\"Date\": \"2023-02-09T00:00:00\", \"Symbol\": \"JNJ\", \"Adj Close\": 155.46612548828125}, {\"Date\": \"2023-02-09T00:00:00\", \"Symbol\": \"MMM\", \"Adj Close\": 86.29281616210938}, {\"Date\": \"2023-02-09T00:00:00\", \"Symbol\": \"MRK\", \"Adj Close\": 103.16082000732422}, {\"Date\": \"2023-02-09T00:00:00\", \"Symbol\": \"PFE\", \"Adj Close\": 41.219242095947266}, {\"Date\": \"2023-02-09T00:00:00\", \"Symbol\": \"PG\", \"Adj Close\": 132.79409790039062}, {\"Date\": \"2023-02-10T00:00:00\", \"Symbol\": \"JNJ\", \"Adj Close\": 156.18856811523438}, {\"Date\": \"2023-02-10T00:00:00\", \"Symbol\": \"MMM\", \"Adj Close\": 87.01873016357422}, {\"Date\": \"2023-02-10T00:00:00\", \"Symbol\": \"MRK\", \"Adj Close\": 104.9491195678711}, {\"Date\": \"2023-02-10T00:00:00\", \"Symbol\": \"PFE\", \"Adj Close\": 41.73281478881836}, {\"Date\": \"2023-02-10T00:00:00\", \"Symbol\": \"PG\", \"Adj Close\": 133.96652221679688}, {\"Date\": \"2023-02-13T00:00:00\", \"Symbol\": \"JNJ\", \"Adj Close\": 156.76649475097656}, {\"Date\": \"2023-02-13T00:00:00\", \"Symbol\": \"MMM\", \"Adj Close\": 88.08851623535156}, {\"Date\": \"2023-02-13T00:00:00\", \"Symbol\": \"MRK\", \"Adj Close\": 105.89643859863281}, {\"Date\": \"2023-02-13T00:00:00\", \"Symbol\": \"PFE\", \"Adj Close\": 41.837432861328125}, {\"Date\": \"2023-02-13T00:00:00\", \"Symbol\": \"PG\", \"Adj Close\": 135.72032165527344}, {\"Date\": \"2023-02-14T00:00:00\", \"Symbol\": \"JNJ\", \"Adj Close\": 156.0825958251953}, {\"Date\": \"2023-02-14T00:00:00\", \"Symbol\": \"MMM\", \"Adj Close\": 87.27090454101562}, {\"Date\": \"2023-02-14T00:00:00\", \"Symbol\": \"MRK\", \"Adj Close\": 105.11344146728516}, {\"Date\": \"2023-02-14T00:00:00\", \"Symbol\": \"PFE\", \"Adj Close\": 41.58064270019531}, {\"Date\": \"2023-02-14T00:00:00\", \"Symbol\": \"PG\", \"Adj Close\": 134.95486450195312}, {\"Date\": \"2023-02-15T00:00:00\", \"Symbol\": \"JNJ\", \"Adj Close\": 153.51075744628906}, {\"Date\": \"2023-02-15T00:00:00\", \"Symbol\": \"MMM\", \"Adj Close\": 87.71409606933594}, {\"Date\": \"2023-02-15T00:00:00\", \"Symbol\": \"MRK\", \"Adj Close\": 104.08879852294922}, {\"Date\": \"2023-02-15T00:00:00\", \"Symbol\": \"PFE\", \"Adj Close\": 41.20021438598633}, {\"Date\": \"2023-02-15T00:00:00\", \"Symbol\": \"PG\", \"Adj Close\": 134.64480590820312}, {\"Date\": \"2023-02-16T00:00:00\", \"Symbol\": \"JNJ\", \"Adj Close\": 152.42233276367188}, {\"Date\": \"2023-02-16T00:00:00\", \"Symbol\": \"MMM\", \"Adj Close\": 86.9409408569336}, {\"Date\": \"2023-02-16T00:00:00\", \"Symbol\": \"MRK\", \"Adj Close\": 102.95781707763672}, {\"Date\": \"2023-02-16T00:00:00\", \"Symbol\": \"PFE\", \"Adj Close\": 40.848323822021484}, {\"Date\": \"2023-02-16T00:00:00\", \"Symbol\": \"PG\", \"Adj Close\": 132.88131713867188}, {\"Date\": \"2023-02-17T00:00:00\", \"Symbol\": \"JNJ\", \"Adj Close\": 155.6044464111328}, {\"Date\": \"2023-02-17T00:00:00\", \"Symbol\": \"MMM\", \"Adj Close\": 87.70943450927734}, {\"Date\": \"2023-02-17T00:00:00\", \"Symbol\": \"MRK\", \"Adj Close\": 105.86741638183594}, {\"Date\": \"2023-02-17T00:00:00\", \"Symbol\": \"PFE\", \"Adj Close\": 41.09559631347656}, {\"Date\": \"2023-02-17T00:00:00\", \"Symbol\": \"PG\", \"Adj Close\": 135.66217041015625}, {\"Date\": \"2023-02-21T00:00:00\", \"Symbol\": \"JNJ\", \"Adj Close\": 153.2857666015625}, {\"Date\": \"2023-02-21T00:00:00\", \"Symbol\": \"MMM\", \"Adj Close\": 84.80622863769531}, {\"Date\": \"2023-02-21T00:00:00\", \"Symbol\": \"MRK\", \"Adj Close\": 105.43244171142578}, {\"Date\": \"2023-02-21T00:00:00\", \"Symbol\": \"PFE\", \"Adj Close\": 40.61055374145508}, {\"Date\": \"2023-02-21T00:00:00\", \"Symbol\": \"PG\", \"Adj Close\": 135.56529235839844}, {\"Date\": \"2023-02-22T00:00:00\", \"Symbol\": \"JNJ\", \"Adj Close\": 153.07232666015625}, {\"Date\": \"2023-02-22T00:00:00\", \"Symbol\": \"MMM\", \"Adj Close\": 84.56558227539062}, {\"Date\": \"2023-02-22T00:00:00\", \"Symbol\": \"MRK\", \"Adj Close\": 105.51943969726562}, {\"Date\": \"2023-02-22T00:00:00\", \"Symbol\": \"PFE\", \"Adj Close\": 40.30621337890625}, {\"Date\": \"2023-02-22T00:00:00\", \"Symbol\": \"PG\", \"Adj Close\": 136.13699340820312}, {\"Date\": \"2023-02-23T00:00:00\", \"Symbol\": \"JNJ\", \"Adj Close\": 153.02381896972656}, {\"Date\": \"2023-02-23T00:00:00\", \"Symbol\": \"MMM\", \"Adj Close\": 84.54229736328125}, {\"Date\": \"2023-02-23T00:00:00\", \"Symbol\": \"MRK\", \"Adj Close\": 106.90174102783203}, {\"Date\": \"2023-02-23T00:00:00\", \"Symbol\": \"PFE\", \"Adj Close\": 40.23012924194336}, {\"Date\": \"2023-02-23T00:00:00\", \"Symbol\": \"PG\", \"Adj Close\": 135.700927734375}, {\"Date\": \"2023-02-24T00:00:00\", \"Symbol\": \"JNJ\", \"Adj Close\": 151.3163299560547}, {\"Date\": \"2023-02-24T00:00:00\", \"Symbol\": \"MMM\", \"Adj Close\": 83.68064880371094}, {\"Date\": \"2023-02-24T00:00:00\", \"Symbol\": \"MRK\", \"Adj Close\": 106.22509765625}, {\"Date\": \"2023-02-24T00:00:00\", \"Symbol\": \"PFE\", \"Adj Close\": 39.70703887939453}, {\"Date\": \"2023-02-24T00:00:00\", \"Symbol\": \"PG\", \"Adj Close\": 134.9354705810547}, {\"Date\": \"2023-02-27T00:00:00\", \"Symbol\": \"JNJ\", \"Adj Close\": 150.98648071289062}, {\"Date\": \"2023-02-27T00:00:00\", \"Symbol\": \"MMM\", \"Adj Close\": 84.04550170898438}, {\"Date\": \"2023-02-27T00:00:00\", \"Symbol\": \"MRK\", \"Adj Close\": 105.7127685546875}, {\"Date\": \"2023-02-27T00:00:00\", \"Symbol\": \"PFE\", \"Adj Close\": 38.784507751464844}, {\"Date\": \"2023-02-27T00:00:00\", \"Symbol\": \"PG\", \"Adj Close\": 134.81919860839844}, {\"Date\": \"2023-02-28T00:00:00\", \"Symbol\": \"JNJ\", \"Adj Close\": 148.6871795654297}, {\"Date\": \"2023-02-28T00:00:00\", \"Symbol\": \"MMM\", \"Adj Close\": 83.63407897949219}, {\"Date\": \"2023-02-28T00:00:00\", \"Symbol\": \"MRK\", \"Adj Close\": 102.69681549072266}, {\"Date\": \"2023-02-28T00:00:00\", \"Symbol\": \"PFE\", \"Adj Close\": 38.58477783203125}, {\"Date\": \"2023-02-28T00:00:00\", \"Symbol\": \"PG\", \"Adj Close\": 133.28823852539062}, {\"Date\": \"2023-03-01T00:00:00\", \"Symbol\": \"JNJ\", \"Adj Close\": 148.0177764892578}, {\"Date\": \"2023-03-01T00:00:00\", \"Symbol\": \"MMM\", \"Adj Close\": 85.55142974853516}, {\"Date\": \"2023-03-01T00:00:00\", \"Symbol\": \"MRK\", \"Adj Close\": 103.0931396484375}, {\"Date\": \"2023-03-01T00:00:00\", \"Symbol\": \"PFE\", \"Adj Close\": 38.2138671875}, {\"Date\": \"2023-03-01T00:00:00\", \"Symbol\": \"PG\", \"Adj Close\": 133.3851776123047}, {\"Date\": \"2023-03-02T00:00:00\", \"Symbol\": \"JNJ\", \"Adj Close\": 147.90135192871094}, {\"Date\": \"2023-03-02T00:00:00\", \"Symbol\": \"MMM\", \"Adj Close\": 85.31079864501953}, {\"Date\": \"2023-03-02T00:00:00\", \"Symbol\": \"MRK\", \"Adj Close\": 103.4411392211914}, {\"Date\": \"2023-03-02T00:00:00\", \"Symbol\": \"PFE\", \"Adj Close\": 38.6323356628418}, {\"Date\": \"2023-03-02T00:00:00\", \"Symbol\": \"PG\", \"Adj Close\": 135.5846405029297}, {\"Date\": \"2023-03-03T00:00:00\", \"Symbol\": \"JNJ\", \"Adj Close\": 149.4245147705078}, {\"Date\": \"2023-03-03T00:00:00\", \"Symbol\": \"MMM\", \"Adj Close\": 86.36650085449219}, {\"Date\": \"2023-03-03T00:00:00\", \"Symbol\": \"MRK\", \"Adj Close\": 103.31547546386719}, {\"Date\": \"2023-03-03T00:00:00\", \"Symbol\": \"PFE\", \"Adj Close\": 39.13640594482422}, {\"Date\": \"2023-03-03T00:00:00\", \"Symbol\": \"PG\", \"Adj Close\": 136.572998046875}, {\"Date\": \"2023-03-06T00:00:00\", \"Symbol\": \"JNJ\", \"Adj Close\": 150.9185791015625}, {\"Date\": \"2023-03-06T00:00:00\", \"Symbol\": \"MMM\", \"Adj Close\": 85.33409118652344}, {\"Date\": \"2023-03-06T00:00:00\", \"Symbol\": \"MRK\", \"Adj Close\": 107.39473724365234}, {\"Date\": \"2023-03-06T00:00:00\", \"Symbol\": \"PFE\", \"Adj Close\": 39.09836196899414}, {\"Date\": \"2023-03-06T00:00:00\", \"Symbol\": \"PG\", \"Adj Close\": 135.9916229248047}, {\"Date\": \"2023-03-07T00:00:00\", \"Symbol\": \"JNJ\", \"Adj Close\": 149.492431640625}, {\"Date\": \"2023-03-07T00:00:00\", \"Symbol\": \"MMM\", \"Adj Close\": 83.12950897216797}, {\"Date\": \"2023-03-07T00:00:00\", \"Symbol\": \"MRK\", \"Adj Close\": 107.55906677246094}, {\"Date\": \"2023-03-07T00:00:00\", \"Symbol\": \"PFE\", \"Adj Close\": 38.36603546142578}, {\"Date\": \"2023-03-07T00:00:00\", \"Symbol\": \"PG\", \"Adj Close\": 133.28823852539062}, {\"Date\": \"2023-03-08T00:00:00\", \"Symbol\": \"JNJ\", \"Adj Close\": 148.39614868164062}, {\"Date\": \"2023-03-08T00:00:00\", \"Symbol\": \"MMM\", \"Adj Close\": 83.18385314941406}, {\"Date\": \"2023-03-08T00:00:00\", \"Symbol\": \"MRK\", \"Adj Close\": 104.66878509521484}, {\"Date\": \"2023-03-08T00:00:00\", \"Symbol\": \"PFE\", \"Adj Close\": 38.15679931640625}, {\"Date\": \"2023-03-08T00:00:00\", \"Symbol\": \"PG\", \"Adj Close\": 133.30763244628906}, {\"Date\": \"2023-03-09T00:00:00\", \"Symbol\": \"JNJ\", \"Adj Close\": 146.7274627685547}, {\"Date\": \"2023-03-09T00:00:00\", \"Symbol\": \"MMM\", \"Adj Close\": 81.91078186035156}, {\"Date\": \"2023-03-09T00:00:00\", \"Symbol\": \"MRK\", \"Adj Close\": 104.01146697998047}, {\"Date\": \"2023-03-09T00:00:00\", \"Symbol\": \"PFE\", \"Adj Close\": 37.52909851074219}, {\"Date\": \"2023-03-09T00:00:00\", \"Symbol\": \"PG\", \"Adj Close\": 132.3290252685547}, {\"Date\": \"2023-03-10T00:00:00\", \"Symbol\": \"JNJ\", \"Adj Close\": 147.08642578125}, {\"Date\": \"2023-03-10T00:00:00\", \"Symbol\": \"MMM\", \"Adj Close\": 80.7774429321289}, {\"Date\": \"2023-03-10T00:00:00\", \"Symbol\": \"MRK\", \"Adj Close\": 104.09846496582031}, {\"Date\": \"2023-03-10T00:00:00\", \"Symbol\": \"PFE\", \"Adj Close\": 37.462520599365234}, {\"Date\": \"2023-03-10T00:00:00\", \"Symbol\": \"PG\", \"Adj Close\": 132.92974853515625}, {\"Date\": \"2023-03-13T00:00:00\", \"Symbol\": \"JNJ\", \"Adj Close\": 148.49314880371094}, {\"Date\": \"2023-03-13T00:00:00\", \"Symbol\": \"MMM\", \"Adj Close\": 80.34273529052734}, {\"Date\": \"2023-03-13T00:00:00\", \"Symbol\": \"MRK\", \"Adj Close\": 102.2038345336914}, {\"Date\": \"2023-03-13T00:00:00\", \"Symbol\": \"PFE\", \"Adj Close\": 37.90952682495117}, {\"Date\": \"2023-03-13T00:00:00\", \"Symbol\": \"PG\", \"Adj Close\": 133.85025024414062}, {\"Date\": \"2023-03-14T00:00:00\", \"Symbol\": \"JNJ\", \"Adj Close\": 149.32749938964844}, {\"Date\": \"2023-03-14T00:00:00\", \"Symbol\": \"MMM\", \"Adj Close\": 79.7838363647461}, {\"Date\": \"2023-03-14T00:00:00\", \"Symbol\": \"MRK\", \"Adj Close\": 104.1213607788086}, {\"Date\": \"2023-03-14T00:00:00\", \"Symbol\": \"PFE\", \"Adj Close\": 37.947566986083984}, {\"Date\": \"2023-03-14T00:00:00\", \"Symbol\": \"PG\", \"Adj Close\": 135.50717163085938}, {\"Date\": \"2023-03-15T00:00:00\", \"Symbol\": \"JNJ\", \"Adj Close\": 149.7446746826172}, {\"Date\": \"2023-03-15T00:00:00\", \"Symbol\": \"MMM\", \"Adj Close\": 79.7838363647461}, {\"Date\": \"2023-03-15T00:00:00\", \"Symbol\": \"MRK\", \"Adj Close\": 104.76377868652344}, {\"Date\": \"2023-03-15T00:00:00\", \"Symbol\": \"PFE\", \"Adj Close\": 38.3089714050293}, {\"Date\": \"2023-03-15T00:00:00\", \"Symbol\": \"PG\", \"Adj Close\": 137.4256591796875}, {\"Date\": \"2023-03-16T00:00:00\", \"Symbol\": \"JNJ\", \"Adj Close\": 149.43421936035156}, {\"Date\": \"2023-03-16T00:00:00\", \"Symbol\": \"MMM\", \"Adj Close\": 80.89388275146484}, {\"Date\": \"2023-03-16T00:00:00\", \"Symbol\": \"MRK\", \"Adj Close\": 104.48151397705078}, {\"Date\": \"2023-03-16T00:00:00\", \"Symbol\": \"PFE\", \"Adj Close\": 38.394569396972656}, {\"Date\": \"2023-03-16T00:00:00\", \"Symbol\": \"PG\", \"Adj Close\": 138.45274353027344}, {\"Date\": \"2023-03-17T00:00:00\", \"Symbol\": \"JNJ\", \"Adj Close\": 147.8334503173828}, {\"Date\": \"2023-03-17T00:00:00\", \"Symbol\": \"MMM\", \"Adj Close\": 79.97013854980469}, {\"Date\": \"2023-03-17T00:00:00\", \"Symbol\": \"MRK\", \"Adj Close\": 101.32779693603516}, {\"Date\": \"2023-03-17T00:00:00\", \"Symbol\": \"PFE\", \"Adj Close\": 38.137779235839844}, {\"Date\": \"2023-03-17T00:00:00\", \"Symbol\": \"PG\", \"Adj Close\": 138.4915008544922}, {\"Date\": \"2023-03-20T00:00:00\", \"Symbol\": \"JNJ\", \"Adj Close\": 149.29840087890625}, {\"Date\": \"2023-03-20T00:00:00\", \"Symbol\": \"MMM\", \"Adj Close\": 80.97151184082031}, {\"Date\": \"2023-03-20T00:00:00\", \"Symbol\": \"MRK\", \"Adj Close\": 103.03118896484375}, {\"Date\": \"2023-03-20T00:00:00\", \"Symbol\": \"PFE\", \"Adj Close\": 38.81304168701172}, {\"Date\": \"2023-03-20T00:00:00\", \"Symbol\": \"PG\", \"Adj Close\": 140.62318420410156}, {\"Date\": \"2023-03-21T00:00:00\", \"Symbol\": \"JNJ\", \"Adj Close\": 149.29840087890625}, {\"Date\": \"2023-03-21T00:00:00\", \"Symbol\": \"MMM\", \"Adj Close\": 80.95598602294922}, {\"Date\": \"2023-03-21T00:00:00\", \"Symbol\": \"MRK\", \"Adj Close\": 102.72944641113281}, {\"Date\": \"2023-03-21T00:00:00\", \"Symbol\": \"PFE\", \"Adj Close\": 38.670379638671875}, {\"Date\": \"2023-03-21T00:00:00\", \"Symbol\": \"PG\", \"Adj Close\": 139.60580444335938}, {\"Date\": \"2023-03-22T00:00:00\", \"Symbol\": \"JNJ\", \"Adj Close\": 146.5431365966797}, {\"Date\": \"2023-03-22T00:00:00\", \"Symbol\": \"MMM\", \"Adj Close\": 78.82127380371094}, {\"Date\": \"2023-03-22T00:00:00\", \"Symbol\": \"MRK\", \"Adj Close\": 101.61981201171875}, {\"Date\": \"2023-03-22T00:00:00\", \"Symbol\": \"PFE\", \"Adj Close\": 38.05218505859375}, {\"Date\": \"2023-03-22T00:00:00\", \"Symbol\": \"PG\", \"Adj Close\": 139.51858520507812}, {\"Date\": \"2023-03-23T00:00:00\", \"Symbol\": \"JNJ\", \"Adj Close\": 146.62075805664062}, {\"Date\": \"2023-03-23T00:00:00\", \"Symbol\": \"MMM\", \"Adj Close\": 78.40209197998047}, {\"Date\": \"2023-03-23T00:00:00\", \"Symbol\": \"MRK\", \"Adj Close\": 101.45433807373047}, {\"Date\": \"2023-03-23T00:00:00\", \"Symbol\": \"PFE\", \"Adj Close\": 38.2138671875}, {\"Date\": \"2023-03-23T00:00:00\", \"Symbol\": \"PG\", \"Adj Close\": 139.32479858398438}, {\"Date\": \"2023-03-24T00:00:00\", \"Symbol\": \"JNJ\", \"Adj Close\": 148.09539794921875}, {\"Date\": \"2023-03-24T00:00:00\", \"Symbol\": \"MMM\", \"Adj Close\": 78.51077270507812}, {\"Date\": \"2023-03-24T00:00:00\", \"Symbol\": \"MRK\", \"Adj Close\": 102.0091552734375}, {\"Date\": \"2023-03-24T00:00:00\", \"Symbol\": \"PFE\", \"Adj Close\": 38.41359329223633}, {\"Date\": \"2023-03-24T00:00:00\", \"Symbol\": \"PG\", \"Adj Close\": 142.16383361816406}, {\"Date\": \"2023-03-27T00:00:00\", \"Symbol\": \"JNJ\", \"Adj Close\": 148.7259979248047}, {\"Date\": \"2023-03-27T00:00:00\", \"Symbol\": \"MMM\", \"Adj Close\": 78.78246307373047}, {\"Date\": \"2023-03-27T00:00:00\", \"Symbol\": \"MRK\", \"Adj Close\": 104.08242797851562}, {\"Date\": \"2023-03-27T00:00:00\", \"Symbol\": \"PFE\", \"Adj Close\": 38.251914978027344}, {\"Date\": \"2023-03-27T00:00:00\", \"Symbol\": \"PG\", \"Adj Close\": 141.417724609375}, {\"Date\": \"2023-03-28T00:00:00\", \"Symbol\": \"JNJ\", \"Adj Close\": 147.2901611328125}, {\"Date\": \"2023-03-28T00:00:00\", \"Symbol\": \"MMM\", \"Adj Close\": 78.97652435302734}, {\"Date\": \"2023-03-28T00:00:00\", \"Symbol\": \"MRK\", \"Adj Close\": 102.71971130371094}, {\"Date\": \"2023-03-28T00:00:00\", \"Symbol\": \"PFE\", \"Adj Close\": 38.033164978027344}, {\"Date\": \"2023-03-28T00:00:00\", \"Symbol\": \"PG\", \"Adj Close\": 141.81500244140625}, {\"Date\": \"2023-03-29T00:00:00\", \"Symbol\": \"JNJ\", \"Adj Close\": 148.73570251464844}, {\"Date\": \"2023-03-29T00:00:00\", \"Symbol\": \"MMM\", \"Adj Close\": 80.10210418701172}, {\"Date\": \"2023-03-29T00:00:00\", \"Symbol\": \"MRK\", \"Adj Close\": 102.1259536743164}, {\"Date\": \"2023-03-29T00:00:00\", \"Symbol\": \"PFE\", \"Adj Close\": 38.28044509887695}, {\"Date\": \"2023-03-29T00:00:00\", \"Symbol\": \"PG\", \"Adj Close\": 142.2510223388672}, {\"Date\": \"2023-03-30T00:00:00\", \"Symbol\": \"JNJ\", \"Adj Close\": 148.85211181640625}, {\"Date\": \"2023-03-30T00:00:00\", \"Symbol\": \"MMM\", \"Adj Close\": 79.7838363647461}, {\"Date\": \"2023-03-30T00:00:00\", \"Symbol\": \"MRK\", \"Adj Close\": 103.09932708740234}, {\"Date\": \"2023-03-30T00:00:00\", \"Symbol\": \"PFE\", \"Adj Close\": 38.404083251953125}, {\"Date\": \"2023-03-30T00:00:00\", \"Symbol\": \"PG\", \"Adj Close\": 142.8711395263672}, {\"Date\": \"2023-03-31T00:00:00\", \"Symbol\": \"JNJ\", \"Adj Close\": 150.37525939941406}, {\"Date\": \"2023-03-31T00:00:00\", \"Symbol\": \"MMM\", \"Adj Close\": 81.59251403808594}, {\"Date\": \"2023-03-31T00:00:00\", \"Symbol\": \"MRK\", \"Adj Close\": 103.55680847167969}, {\"Date\": \"2023-03-31T00:00:00\", \"Symbol\": \"PFE\", \"Adj Close\": 38.80352783203125}, {\"Date\": \"2023-03-31T00:00:00\", \"Symbol\": \"PG\", \"Adj Close\": 144.0726318359375}, {\"Date\": \"2023-04-03T00:00:00\", \"Symbol\": \"JNJ\", \"Adj Close\": 152.17007446289062}, {\"Date\": \"2023-04-03T00:00:00\", \"Symbol\": \"MMM\", \"Adj Close\": 81.17333221435547}, {\"Date\": \"2023-04-03T00:00:00\", \"Symbol\": \"MRK\", \"Adj Close\": 105.97077941894531}, {\"Date\": \"2023-04-03T00:00:00\", \"Symbol\": \"PFE\", \"Adj Close\": 39.32661056518555}, {\"Date\": \"2023-04-03T00:00:00\", \"Symbol\": \"PG\", \"Adj Close\": 144.86715698242188}, {\"Date\": \"2023-04-04T00:00:00\", \"Symbol\": \"JNJ\", \"Adj Close\": 153.7611541748047}, {\"Date\": \"2023-04-04T00:00:00\", \"Symbol\": \"MMM\", \"Adj Close\": 79.37242126464844}, {\"Date\": \"2023-04-04T00:00:00\", \"Symbol\": \"MRK\", \"Adj Close\": 105.93183898925781}, {\"Date\": \"2023-04-04T00:00:00\", \"Symbol\": \"PFE\", \"Adj Close\": 38.89863586425781}, {\"Date\": \"2023-04-04T00:00:00\", \"Symbol\": \"PG\", \"Adj Close\": 145.56480407714844}, {\"Date\": \"2023-04-05T00:00:00\", \"Symbol\": \"JNJ\", \"Adj Close\": 160.668701171875}, {\"Date\": \"2023-04-05T00:00:00\", \"Symbol\": \"MMM\", \"Adj Close\": 79.40347290039062}, {\"Date\": \"2023-04-05T00:00:00\", \"Symbol\": \"MRK\", \"Adj Close\": 108.92981719970703}, {\"Date\": \"2023-04-05T00:00:00\", \"Symbol\": \"PFE\", \"Adj Close\": 39.51683044433594}, {\"Date\": \"2023-04-05T00:00:00\", \"Symbol\": \"PG\", \"Adj Close\": 146.56283569335938}, {\"Date\": \"2023-04-06T00:00:00\", \"Symbol\": \"JNJ\", \"Adj Close\": 160.222412109375}, {\"Date\": \"2023-04-06T00:00:00\", \"Symbol\": \"MMM\", \"Adj Close\": 78.83680725097656}, {\"Date\": \"2023-04-06T00:00:00\", \"Symbol\": \"MRK\", \"Adj Close\": 109.33863067626953}, {\"Date\": \"2023-04-06T00:00:00\", \"Symbol\": \"PFE\", \"Adj Close\": 39.46927261352539}, {\"Date\": \"2023-04-06T00:00:00\", \"Symbol\": \"PG\", \"Adj Close\": 147.49301147460938}, {\"Date\": \"2023-04-10T00:00:00\", \"Symbol\": \"JNJ\", \"Adj Close\": 159.4171905517578}, {\"Date\": \"2023-04-10T00:00:00\", \"Symbol\": \"MMM\", \"Adj Close\": 79.76831817626953}, {\"Date\": \"2023-04-10T00:00:00\", \"Symbol\": \"MRK\", \"Adj Close\": 109.61117553710938}, {\"Date\": \"2023-04-10T00:00:00\", \"Symbol\": \"PFE\", \"Adj Close\": 39.688018798828125}, {\"Date\": \"2023-04-10T00:00:00\", \"Symbol\": \"PG\", \"Adj Close\": 146.27215576171875}, {\"Date\": \"2023-04-11T00:00:00\", \"Symbol\": \"JNJ\", \"Adj Close\": 159.36868286132812}, {\"Date\": \"2023-04-11T00:00:00\", \"Symbol\": \"MMM\", \"Adj Close\": 81.16557312011719}, {\"Date\": \"2023-04-11T00:00:00\", \"Symbol\": \"MRK\", \"Adj Close\": 109.4943618774414}, {\"Date\": \"2023-04-11T00:00:00\", \"Symbol\": \"PFE\", \"Adj Close\": 39.745086669921875}, {\"Date\": \"2023-04-11T00:00:00\", \"Symbol\": \"PG\", \"Adj Close\": 145.98146057128906}, {\"Date\": \"2023-04-12T00:00:00\", \"Symbol\": \"JNJ\", \"Adj Close\": 159.0291290283203}, {\"Date\": \"2023-04-12T00:00:00\", \"Symbol\": \"MMM\", \"Adj Close\": 81.01808166503906}, {\"Date\": \"2023-04-12T00:00:00\", \"Symbol\": \"MRK\", \"Adj Close\": 110.72081756591797}, {\"Date\": \"2023-04-12T00:00:00\", \"Symbol\": \"PFE\", \"Adj Close\": 39.34563446044922}, {\"Date\": \"2023-04-12T00:00:00\", \"Symbol\": \"PG\", \"Adj Close\": 146.3787384033203}, {\"Date\": \"2023-04-13T00:00:00\", \"Symbol\": \"JNJ\", \"Adj Close\": 161.15377807617188}, {\"Date\": \"2023-04-13T00:00:00\", \"Symbol\": \"MMM\", \"Adj Close\": 82.39981842041016}, {\"Date\": \"2023-04-13T00:00:00\", \"Symbol\": \"MRK\", \"Adj Close\": 112.50208282470703}, {\"Date\": \"2023-04-13T00:00:00\", \"Symbol\": \"PFE\", \"Adj Close\": 39.44074249267578}, {\"Date\": \"2023-04-13T00:00:00\", \"Symbol\": \"PG\", \"Adj Close\": 147.05699157714844}, {\"Date\": \"2023-04-14T00:00:00\", \"Symbol\": \"JNJ\", \"Adj Close\": 160.89183044433594}, {\"Date\": \"2023-04-14T00:00:00\", \"Symbol\": \"MMM\", \"Adj Close\": 82.10485076904297}, {\"Date\": \"2023-04-14T00:00:00\", \"Symbol\": \"MRK\", \"Adj Close\": 112.23927307128906}, {\"Date\": \"2023-04-14T00:00:00\", \"Symbol\": \"PFE\", \"Adj Close\": 39.174442291259766}, {\"Date\": \"2023-04-14T00:00:00\", \"Symbol\": \"PG\", \"Adj Close\": 146.3109130859375}, {\"Date\": \"2023-04-17T00:00:00\", \"Symbol\": \"JNJ\", \"Adj Close\": 160.72689819335938}, {\"Date\": \"2023-04-17T00:00:00\", \"Symbol\": \"MMM\", \"Adj Close\": 82.88887023925781}, {\"Date\": \"2023-04-17T00:00:00\", \"Symbol\": \"MRK\", \"Adj Close\": 111.947265625}, {\"Date\": \"2023-04-17T00:00:00\", \"Symbol\": \"PFE\", \"Adj Close\": 39.16493225097656}, {\"Date\": \"2023-04-17T00:00:00\", \"Symbol\": \"PG\", \"Adj Close\": 146.35934448242188}, {\"Date\": \"2023-04-18T00:00:00\", \"Symbol\": \"JNJ\", \"Adj Close\": 156.20594787597656}, {\"Date\": \"2023-04-18T00:00:00\", \"Symbol\": \"MMM\", \"Adj Close\": 82.49297332763672}, {\"Date\": \"2023-04-18T00:00:00\", \"Symbol\": \"MRK\", \"Adj Close\": 111.77205657958984}, {\"Date\": \"2023-04-18T00:00:00\", \"Symbol\": \"PFE\", \"Adj Close\": 38.565757751464844}, {\"Date\": \"2023-04-18T00:00:00\", \"Symbol\": \"PG\", \"Adj Close\": 146.51438903808594}, {\"Date\": \"2023-04-19T00:00:00\", \"Symbol\": \"JNJ\", \"Adj Close\": 157.68060302734375}, {\"Date\": \"2023-04-19T00:00:00\", \"Symbol\": \"MMM\", \"Adj Close\": 82.34548950195312}, {\"Date\": \"2023-04-19T00:00:00\", \"Symbol\": \"MRK\", \"Adj Close\": 111.09069061279297}, {\"Date\": \"2023-04-19T00:00:00\", \"Symbol\": \"PFE\", \"Adj Close\": 38.27093505859375}, {\"Date\": \"2023-04-19T00:00:00\", \"Symbol\": \"PG\", \"Adj Close\": 146.54345703125}, {\"Date\": \"2023-04-20T00:00:00\", \"Symbol\": \"JNJ\", \"Adj Close\": 158.6992645263672}, {\"Date\": \"2023-04-20T00:00:00\", \"Symbol\": \"MMM\", \"Adj Close\": 81.29753112792969}, {\"Date\": \"2023-04-20T00:00:00\", \"Symbol\": \"MRK\", \"Adj Close\": 111.12962341308594}, {\"Date\": \"2023-04-20T00:00:00\", \"Symbol\": \"PFE\", \"Adj Close\": 37.90001678466797}, {\"Date\": \"2023-04-20T00:00:00\", \"Symbol\": \"PG\", \"Adj Close\": 147.08067321777344}, {\"Date\": \"2023-04-21T00:00:00\", \"Symbol\": \"JNJ\", \"Adj Close\": 157.83583068847656}, {\"Date\": \"2023-04-21T00:00:00\", \"Symbol\": \"MMM\", \"Adj Close\": 81.10346984863281}, {\"Date\": \"2023-04-21T00:00:00\", \"Symbol\": \"MRK\", \"Adj Close\": 112.29767608642578}, {\"Date\": \"2023-04-21T00:00:00\", \"Symbol\": \"PFE\", \"Adj Close\": 38.24239730834961}, {\"Date\": \"2023-04-21T00:00:00\", \"Symbol\": \"PG\", \"Adj Close\": 152.17025756835938}, {\"Date\": \"2023-04-24T00:00:00\", \"Symbol\": \"JNJ\", \"Adj Close\": 158.7962646484375}, {\"Date\": \"2023-04-24T00:00:00\", \"Symbol\": \"MMM\", \"Adj Close\": 81.55370330810547}, {\"Date\": \"2023-04-24T00:00:00\", \"Symbol\": \"MRK\", \"Adj Close\": 112.85250091552734}, {\"Date\": \"2023-04-24T00:00:00\", \"Symbol\": \"PFE\", \"Adj Close\": 37.95707702636719}, {\"Date\": \"2023-04-24T00:00:00\", \"Symbol\": \"PG\", \"Adj Close\": 152.44326782226562}, {\"Date\": \"2023-04-25T00:00:00\", \"Symbol\": \"JNJ\", \"Adj Close\": 160.25152587890625}, {\"Date\": \"2023-04-25T00:00:00\", \"Symbol\": \"MMM\", \"Adj Close\": 81.01808166503906}, {\"Date\": \"2023-04-25T00:00:00\", \"Symbol\": \"MRK\", \"Adj Close\": 113.4267807006836}, {\"Date\": \"2023-04-25T00:00:00\", \"Symbol\": \"PFE\", \"Adj Close\": 37.405460357666016}, {\"Date\": \"2023-04-25T00:00:00\", \"Symbol\": \"PG\", \"Adj Close\": 152.4822540283203}, {\"Date\": \"2023-04-26T00:00:00\", \"Symbol\": \"JNJ\", \"Adj Close\": 157.76791381835938}, {\"Date\": \"2023-04-26T00:00:00\", \"Symbol\": \"MMM\", \"Adj Close\": 79.89250946044922}, {\"Date\": \"2023-04-26T00:00:00\", \"Symbol\": \"MRK\", \"Adj Close\": 110.40933227539062}, {\"Date\": \"2023-04-26T00:00:00\", \"Symbol\": \"PFE\", \"Adj Close\": 36.73971176147461}, {\"Date\": \"2023-04-26T00:00:00\", \"Symbol\": \"PG\", \"Adj Close\": 150.7174835205078}, {\"Date\": \"2023-04-27T00:00:00\", \"Symbol\": \"JNJ\", \"Adj Close\": 158.13656616210938}, {\"Date\": \"2023-04-27T00:00:00\", \"Symbol\": \"MMM\", \"Adj Close\": 81.76329803466797}, {\"Date\": \"2023-04-27T00:00:00\", \"Symbol\": \"MRK\", \"Adj Close\": 112.09326171875}, {\"Date\": \"2023-04-27T00:00:00\", \"Symbol\": \"PFE\", \"Adj Close\": 36.84432601928711}, {\"Date\": \"2023-04-27T00:00:00\", \"Symbol\": \"PG\", \"Adj Close\": 152.5602569580078}, {\"Date\": \"2023-04-28T00:00:00\", \"Symbol\": \"JNJ\", \"Adj Close\": 158.81568908691406}, {\"Date\": \"2023-04-28T00:00:00\", \"Symbol\": \"MMM\", \"Adj Close\": 82.45416259765625}, {\"Date\": \"2023-04-28T00:00:00\", \"Symbol\": \"MRK\", \"Adj Close\": 112.39501190185547}, {\"Date\": \"2023-04-28T00:00:00\", \"Symbol\": \"PFE\", \"Adj Close\": 36.98698806762695}, {\"Date\": \"2023-04-28T00:00:00\", \"Symbol\": \"PG\", \"Adj Close\": 152.47250366210938}]}}, {\"mode\": \"vega-lite\"});\n",
       "</script>"
      ],
      "text/plain": [
       "alt.Chart(...)"
      ]
     },
     "execution_count": 61,
     "metadata": {},
     "output_type": "execute_result"
    }
   ],
   "source": [
    "base = alt.Chart(healthcare.reset_index()).mark_line().encode(\n",
    "    x=alt.X('Date:T',\n",
    "            axis=alt.Axis(\n",
    "                format='%m-%d-%Y',\n",
    "                labelAngle=-90)\n",
    "    ),\n",
    "    y='Adj Close:Q',\n",
    "    color='Symbol:N'\n",
    ")\n",
    "base"
   ]
  },
  {
   "cell_type": "markdown",
   "metadata": {
    "slideshow": {
     "slide_type": "subslide"
    }
   },
   "source": [
    "* Inspect missing values:  "
   ]
  },
  {
   "cell_type": "code",
   "execution_count": 62,
   "metadata": {
    "slideshow": {
     "slide_type": "-"
    },
    "tags": []
   },
   "outputs": [
    {
     "data": {
      "text/plain": [
       "Symbol\n",
       "AAPL    0\n",
       "AXP     0\n",
       "BA      0\n",
       "BAC     0\n",
       "CAT     0\n",
       "CSCO    0\n",
       "CVX     0\n",
       "DD      0\n",
       "DIS     0\n",
       "GE      0\n",
       "HD      0\n",
       "IBM     0\n",
       "INTC    0\n",
       "JNJ     0\n",
       "JPM     0\n",
       "KO      0\n",
       "MCD     0\n",
       "MMM     0\n",
       "MRK     0\n",
       "MSFT    0\n",
       "PFE     0\n",
       "PG      0\n",
       "T       0\n",
       "TRV     0\n",
       "VZ      0\n",
       "WMT     0\n",
       "XOM     0\n",
       "dtype: int64"
      ]
     },
     "execution_count": 62,
     "metadata": {},
     "output_type": "execute_result"
    }
   ],
   "source": [
    "rawdata['Adj Close'].isna().sum(axis=0)"
   ]
  },
  {
   "cell_type": "code",
   "execution_count": 63,
   "metadata": {
    "slideshow": {
     "slide_type": "subslide"
    },
    "tags": []
   },
   "outputs": [
    {
     "data": {
      "text/html": [
       "<div>\n",
       "<style scoped>\n",
       "    .dataframe tbody tr th:only-of-type {\n",
       "        vertical-align: middle;\n",
       "    }\n",
       "\n",
       "    .dataframe tbody tr th {\n",
       "        vertical-align: top;\n",
       "    }\n",
       "\n",
       "    .dataframe thead tr th {\n",
       "        text-align: left;\n",
       "    }\n",
       "\n",
       "    .dataframe thead tr:last-of-type th {\n",
       "        text-align: right;\n",
       "    }\n",
       "</style>\n",
       "<table border=\"1\" class=\"dataframe\">\n",
       "  <thead>\n",
       "    <tr>\n",
       "      <th>Value</th>\n",
       "      <th colspan=\"10\" halign=\"left\">Adj Close</th>\n",
       "      <th>...</th>\n",
       "      <th colspan=\"10\" halign=\"left\">Volume</th>\n",
       "    </tr>\n",
       "    <tr>\n",
       "      <th>Symbol</th>\n",
       "      <th>AAPL</th>\n",
       "      <th>AXP</th>\n",
       "      <th>BA</th>\n",
       "      <th>BAC</th>\n",
       "      <th>CAT</th>\n",
       "      <th>CSCO</th>\n",
       "      <th>CVX</th>\n",
       "      <th>DD</th>\n",
       "      <th>DIS</th>\n",
       "      <th>GE</th>\n",
       "      <th>...</th>\n",
       "      <th>MMM</th>\n",
       "      <th>MRK</th>\n",
       "      <th>MSFT</th>\n",
       "      <th>PFE</th>\n",
       "      <th>PG</th>\n",
       "      <th>T</th>\n",
       "      <th>TRV</th>\n",
       "      <th>VZ</th>\n",
       "      <th>WMT</th>\n",
       "      <th>XOM</th>\n",
       "    </tr>\n",
       "    <tr>\n",
       "      <th>Date</th>\n",
       "      <th></th>\n",
       "      <th></th>\n",
       "      <th></th>\n",
       "      <th></th>\n",
       "      <th></th>\n",
       "      <th></th>\n",
       "      <th></th>\n",
       "      <th></th>\n",
       "      <th></th>\n",
       "      <th></th>\n",
       "      <th></th>\n",
       "      <th></th>\n",
       "      <th></th>\n",
       "      <th></th>\n",
       "      <th></th>\n",
       "      <th></th>\n",
       "      <th></th>\n",
       "      <th></th>\n",
       "      <th></th>\n",
       "      <th></th>\n",
       "      <th></th>\n",
       "    </tr>\n",
       "  </thead>\n",
       "  <tbody>\n",
       "  </tbody>\n",
       "</table>\n",
       "<p>0 rows × 162 columns</p>\n",
       "</div>"
      ],
      "text/plain": [
       "Empty DataFrame\n",
       "Columns: [(Adj Close, AAPL), (Adj Close, AXP), (Adj Close, BA), (Adj Close, BAC), (Adj Close, CAT), (Adj Close, CSCO), (Adj Close, CVX), (Adj Close, DD), (Adj Close, DIS), (Adj Close, GE), (Adj Close, HD), (Adj Close, IBM), (Adj Close, INTC), (Adj Close, JNJ), (Adj Close, JPM), (Adj Close, KO), (Adj Close, MCD), (Adj Close, MMM), (Adj Close, MRK), (Adj Close, MSFT), (Adj Close, PFE), (Adj Close, PG), (Adj Close, T), (Adj Close, TRV), (Adj Close, VZ), (Adj Close, WMT), (Adj Close, XOM), (Close, AAPL), (Close, AXP), (Close, BA), (Close, BAC), (Close, CAT), (Close, CSCO), (Close, CVX), (Close, DD), (Close, DIS), (Close, GE), (Close, HD), (Close, IBM), (Close, INTC), (Close, JNJ), (Close, JPM), (Close, KO), (Close, MCD), (Close, MMM), (Close, MRK), (Close, MSFT), (Close, PFE), (Close, PG), (Close, T), (Close, TRV), (Close, VZ), (Close, WMT), (Close, XOM), (High, AAPL), (High, AXP), (High, BA), (High, BAC), (High, CAT), (High, CSCO), (High, CVX), (High, DD), (High, DIS), (High, GE), (High, HD), (High, IBM), (High, INTC), (High, JNJ), (High, JPM), (High, KO), (High, MCD), (High, MMM), (High, MRK), (High, MSFT), (High, PFE), (High, PG), (High, T), (High, TRV), (High, VZ), (High, WMT), (High, XOM), (Low, AAPL), (Low, AXP), (Low, BA), (Low, BAC), (Low, CAT), (Low, CSCO), (Low, CVX), (Low, DD), (Low, DIS), (Low, GE), (Low, HD), (Low, IBM), (Low, INTC), (Low, JNJ), (Low, JPM), (Low, KO), (Low, MCD), (Low, MMM), (Low, MRK), ...]\n",
       "Index: []\n",
       "\n",
       "[0 rows x 162 columns]"
      ]
     },
     "execution_count": 63,
     "metadata": {},
     "output_type": "execute_result"
    }
   ],
   "source": [
    "anymissing = rawdata['Adj Close'].isna().any(axis=1)\n",
    "rawdata.loc[anymissing]"
   ]
  },
  {
   "cell_type": "markdown",
   "metadata": {
    "slideshow": {
     "slide_type": "subslide"
    }
   },
   "source": [
    "* Double check: did we remove all missing values?"
   ]
  },
  {
   "cell_type": "code",
   "execution_count": 64,
   "metadata": {
    "slideshow": {
     "slide_type": "-"
    },
    "tags": []
   },
   "outputs": [
    {
     "data": {
      "text/plain": [
       "False"
      ]
     },
     "execution_count": 64,
     "metadata": {},
     "output_type": "execute_result"
    }
   ],
   "source": [
    "(rawdata.isna().sum(axis=None)>0).any()"
   ]
  },
  {
   "cell_type": "markdown",
   "metadata": {
    "slideshow": {
     "slide_type": "subslide"
    }
   },
   "source": [
    "* Reset symbols to what is in `data` variable"
   ]
  },
  {
   "cell_type": "code",
   "execution_count": 65,
   "metadata": {
    "slideshow": {
     "slide_type": "-"
    },
    "tags": []
   },
   "outputs": [
    {
     "data": {
      "text/html": [
       "<div>\n",
       "<style scoped>\n",
       "    .dataframe tbody tr th:only-of-type {\n",
       "        vertical-align: middle;\n",
       "    }\n",
       "\n",
       "    .dataframe tbody tr th {\n",
       "        vertical-align: top;\n",
       "    }\n",
       "\n",
       "    .dataframe thead th {\n",
       "        text-align: right;\n",
       "    }\n",
       "</style>\n",
       "<table border=\"1\" class=\"dataframe\">\n",
       "  <thead>\n",
       "    <tr style=\"text-align: right;\">\n",
       "      <th></th>\n",
       "      <th>name</th>\n",
       "    </tr>\n",
       "    <tr>\n",
       "      <th>code</th>\n",
       "      <th></th>\n",
       "    </tr>\n",
       "  </thead>\n",
       "  <tbody>\n",
       "    <tr>\n",
       "      <th>AAPL</th>\n",
       "      <td>Apple Inc (AAPL)</td>\n",
       "    </tr>\n",
       "    <tr>\n",
       "      <th>AXP</th>\n",
       "      <td>American Express Co. (AXP)</td>\n",
       "    </tr>\n",
       "    <tr>\n",
       "      <th>BA</th>\n",
       "      <td>The Boeing Co. (BA)</td>\n",
       "    </tr>\n",
       "    <tr>\n",
       "      <th>BAC</th>\n",
       "      <td>Bank of America Corp. (BAC)</td>\n",
       "    </tr>\n",
       "    <tr>\n",
       "      <th>CAT</th>\n",
       "      <td>Caterpillar Inc. (CAT)</td>\n",
       "    </tr>\n",
       "    <tr>\n",
       "      <th>CSCO</th>\n",
       "      <td>Cisco Systems Inc. (CSCO)</td>\n",
       "    </tr>\n",
       "    <tr>\n",
       "      <th>CVX</th>\n",
       "      <td>Chevron Corporation (CVX)</td>\n",
       "    </tr>\n",
       "    <tr>\n",
       "      <th>DD</th>\n",
       "      <td>E.I. du Pont de Nemours and Co. (DD)</td>\n",
       "    </tr>\n",
       "    <tr>\n",
       "      <th>DIS</th>\n",
       "      <td>Disney (Walt) Co. (The) (DIS)</td>\n",
       "    </tr>\n",
       "    <tr>\n",
       "      <th>GE</th>\n",
       "      <td>General Electric Co (GE)</td>\n",
       "    </tr>\n",
       "    <tr>\n",
       "      <th>HD</th>\n",
       "      <td>Home Depot Inc (HD)</td>\n",
       "    </tr>\n",
       "    <tr>\n",
       "      <th>IBM</th>\n",
       "      <td>International Business Machines Corp (IBM)</td>\n",
       "    </tr>\n",
       "    <tr>\n",
       "      <th>INTC</th>\n",
       "      <td>Intel Corp (INTC)</td>\n",
       "    </tr>\n",
       "    <tr>\n",
       "      <th>JNJ</th>\n",
       "      <td>Johnson &amp; Johnson (JNJ)</td>\n",
       "    </tr>\n",
       "    <tr>\n",
       "      <th>JPM</th>\n",
       "      <td>JP Morgan Chase (JPM)</td>\n",
       "    </tr>\n",
       "    <tr>\n",
       "      <th>KO</th>\n",
       "      <td>Coca-Cola Co (The) (KO)</td>\n",
       "    </tr>\n",
       "    <tr>\n",
       "      <th>MCD</th>\n",
       "      <td>McDonald's Corp (MCD)</td>\n",
       "    </tr>\n",
       "    <tr>\n",
       "      <th>MMM</th>\n",
       "      <td>3M Co (MMM)</td>\n",
       "    </tr>\n",
       "    <tr>\n",
       "      <th>MRK</th>\n",
       "      <td>Merck &amp; Co. Inc (MRK)</td>\n",
       "    </tr>\n",
       "    <tr>\n",
       "      <th>MSFT</th>\n",
       "      <td>Microsoft Corporation (MSFT)</td>\n",
       "    </tr>\n",
       "    <tr>\n",
       "      <th>PFE</th>\n",
       "      <td>Pfizer Inc (PFE)</td>\n",
       "    </tr>\n",
       "    <tr>\n",
       "      <th>PG</th>\n",
       "      <td>Procter &amp; Gamble Co. (PG)</td>\n",
       "    </tr>\n",
       "    <tr>\n",
       "      <th>T</th>\n",
       "      <td>AT&amp;T Inc (T)</td>\n",
       "    </tr>\n",
       "    <tr>\n",
       "      <th>TRV</th>\n",
       "      <td>Travelers Companies Inc (The) (TRV)</td>\n",
       "    </tr>\n",
       "    <tr>\n",
       "      <th>VZ</th>\n",
       "      <td>Verizon Communications Inc (VZ)</td>\n",
       "    </tr>\n",
       "    <tr>\n",
       "      <th>WMT</th>\n",
       "      <td>Wal-Mart Stores (WMT)</td>\n",
       "    </tr>\n",
       "    <tr>\n",
       "      <th>XOM</th>\n",
       "      <td>Exxon Mobil Corp. (XOM)</td>\n",
       "    </tr>\n",
       "  </tbody>\n",
       "</table>\n",
       "</div>"
      ],
      "text/plain": [
       "                                            name\n",
       "code                                            \n",
       "AAPL                            Apple Inc (AAPL)\n",
       "AXP                   American Express Co. (AXP)\n",
       "BA                           The Boeing Co. (BA)\n",
       "BAC                  Bank of America Corp. (BAC)\n",
       "CAT                       Caterpillar Inc. (CAT)\n",
       "CSCO                   Cisco Systems Inc. (CSCO)\n",
       "CVX                    Chevron Corporation (CVX)\n",
       "DD          E.I. du Pont de Nemours and Co. (DD)\n",
       "DIS                Disney (Walt) Co. (The) (DIS)\n",
       "GE                      General Electric Co (GE)\n",
       "HD                           Home Depot Inc (HD)\n",
       "IBM   International Business Machines Corp (IBM)\n",
       "INTC                           Intel Corp (INTC)\n",
       "JNJ                      Johnson & Johnson (JNJ)\n",
       "JPM                        JP Morgan Chase (JPM)\n",
       "KO                       Coca-Cola Co (The) (KO)\n",
       "MCD                        McDonald's Corp (MCD)\n",
       "MMM                                  3M Co (MMM)\n",
       "MRK                        Merck & Co. Inc (MRK)\n",
       "MSFT                Microsoft Corporation (MSFT)\n",
       "PFE                             Pfizer Inc (PFE)\n",
       "PG                     Procter & Gamble Co. (PG)\n",
       "T                                   AT&T Inc (T)\n",
       "TRV          Travelers Companies Inc (The) (TRV)\n",
       "VZ               Verizon Communications Inc (VZ)\n",
       "WMT                        Wal-Mart Stores (WMT)\n",
       "XOM                      Exxon Mobil Corp. (XOM)"
      ]
     },
     "execution_count": 65,
     "metadata": {},
     "output_type": "execute_result"
    }
   ],
   "source": [
    "symbols = symbols.loc[rawdata.columns.levels[1].to_list()]\n",
    "symbols"
   ]
  },
  {
   "cell_type": "code",
   "execution_count": 66,
   "metadata": {
    "slideshow": {
     "slide_type": "subslide"
    },
    "tags": []
   },
   "outputs": [
    {
     "data": {
      "text/html": [
       "<div>\n",
       "<style scoped>\n",
       "    .dataframe tbody tr th:only-of-type {\n",
       "        vertical-align: middle;\n",
       "    }\n",
       "\n",
       "    .dataframe tbody tr th {\n",
       "        vertical-align: top;\n",
       "    }\n",
       "\n",
       "    .dataframe thead tr th {\n",
       "        text-align: left;\n",
       "    }\n",
       "\n",
       "    .dataframe thead tr:last-of-type th {\n",
       "        text-align: right;\n",
       "    }\n",
       "</style>\n",
       "<table border=\"1\" class=\"dataframe\">\n",
       "  <thead>\n",
       "    <tr>\n",
       "      <th>Value</th>\n",
       "      <th colspan=\"10\" halign=\"left\">Adj Close</th>\n",
       "      <th>...</th>\n",
       "      <th colspan=\"10\" halign=\"left\">Volume</th>\n",
       "    </tr>\n",
       "    <tr>\n",
       "      <th>Symbol</th>\n",
       "      <th>AAPL</th>\n",
       "      <th>AXP</th>\n",
       "      <th>BA</th>\n",
       "      <th>BAC</th>\n",
       "      <th>CAT</th>\n",
       "      <th>CSCO</th>\n",
       "      <th>CVX</th>\n",
       "      <th>DD</th>\n",
       "      <th>DIS</th>\n",
       "      <th>GE</th>\n",
       "      <th>...</th>\n",
       "      <th>MMM</th>\n",
       "      <th>MRK</th>\n",
       "      <th>MSFT</th>\n",
       "      <th>PFE</th>\n",
       "      <th>PG</th>\n",
       "      <th>T</th>\n",
       "      <th>TRV</th>\n",
       "      <th>VZ</th>\n",
       "      <th>WMT</th>\n",
       "      <th>XOM</th>\n",
       "    </tr>\n",
       "    <tr>\n",
       "      <th>Date</th>\n",
       "      <th></th>\n",
       "      <th></th>\n",
       "      <th></th>\n",
       "      <th></th>\n",
       "      <th></th>\n",
       "      <th></th>\n",
       "      <th></th>\n",
       "      <th></th>\n",
       "      <th></th>\n",
       "      <th></th>\n",
       "      <th></th>\n",
       "      <th></th>\n",
       "      <th></th>\n",
       "      <th></th>\n",
       "      <th></th>\n",
       "      <th></th>\n",
       "      <th></th>\n",
       "      <th></th>\n",
       "      <th></th>\n",
       "      <th></th>\n",
       "      <th></th>\n",
       "    </tr>\n",
       "  </thead>\n",
       "  <tbody>\n",
       "    <tr>\n",
       "      <th>2000-01-03</th>\n",
       "      <td>0.844981</td>\n",
       "      <td>32.854733</td>\n",
       "      <td>25.940289</td>\n",
       "      <td>12.946366</td>\n",
       "      <td>12.861952</td>\n",
       "      <td>36.641254</td>\n",
       "      <td>17.139811</td>\n",
       "      <td>29.194963</td>\n",
       "      <td>23.040167</td>\n",
       "      <td>112.386337</td>\n",
       "      <td>...</td>\n",
       "      <td>2599386</td>\n",
       "      <td>6265782</td>\n",
       "      <td>53228400</td>\n",
       "      <td>12873345</td>\n",
       "      <td>4275000</td>\n",
       "      <td>7668476</td>\n",
       "      <td>336400</td>\n",
       "      <td>4663843</td>\n",
       "      <td>25109700</td>\n",
       "      <td>13458200</td>\n",
       "    </tr>\n",
       "    <tr>\n",
       "      <th>2000-01-04</th>\n",
       "      <td>0.773740</td>\n",
       "      <td>31.614206</td>\n",
       "      <td>25.899946</td>\n",
       "      <td>12.177940</td>\n",
       "      <td>12.696634</td>\n",
       "      <td>34.585606</td>\n",
       "      <td>17.139811</td>\n",
       "      <td>28.396984</td>\n",
       "      <td>24.389799</td>\n",
       "      <td>107.890823</td>\n",
       "      <td>...</td>\n",
       "      <td>3245705</td>\n",
       "      <td>7894689</td>\n",
       "      <td>54119000</td>\n",
       "      <td>14208974</td>\n",
       "      <td>4270800</td>\n",
       "      <td>9497846</td>\n",
       "      <td>494400</td>\n",
       "      <td>5005878</td>\n",
       "      <td>20235300</td>\n",
       "      <td>14510800</td>\n",
       "    </tr>\n",
       "    <tr>\n",
       "      <th>2000-01-05</th>\n",
       "      <td>0.785063</td>\n",
       "      <td>30.811222</td>\n",
       "      <td>27.513645</td>\n",
       "      <td>12.311582</td>\n",
       "      <td>12.994211</td>\n",
       "      <td>34.479656</td>\n",
       "      <td>17.447252</td>\n",
       "      <td>29.318794</td>\n",
       "      <td>25.402020</td>\n",
       "      <td>107.703522</td>\n",
       "      <td>...</td>\n",
       "      <td>4424482</td>\n",
       "      <td>7963018</td>\n",
       "      <td>64059600</td>\n",
       "      <td>12981591</td>\n",
       "      <td>5098400</td>\n",
       "      <td>12035160</td>\n",
       "      <td>736000</td>\n",
       "      <td>6368681</td>\n",
       "      <td>21056100</td>\n",
       "      <td>17485000</td>\n",
       "    </tr>\n",
       "    <tr>\n",
       "      <th>2000-01-06</th>\n",
       "      <td>0.717125</td>\n",
       "      <td>31.438969</td>\n",
       "      <td>27.796049</td>\n",
       "      <td>13.363992</td>\n",
       "      <td>13.655502</td>\n",
       "      <td>33.907463</td>\n",
       "      <td>18.190229</td>\n",
       "      <td>30.144287</td>\n",
       "      <td>24.389799</td>\n",
       "      <td>109.143494</td>\n",
       "      <td>...</td>\n",
       "      <td>7147057</td>\n",
       "      <td>4989004</td>\n",
       "      <td>54976600</td>\n",
       "      <td>11115273</td>\n",
       "      <td>6524200</td>\n",
       "      <td>9471366</td>\n",
       "      <td>660400</td>\n",
       "      <td>4705763</td>\n",
       "      <td>19633500</td>\n",
       "      <td>19461600</td>\n",
       "    </tr>\n",
       "    <tr>\n",
       "      <th>2000-01-07</th>\n",
       "      <td>0.751094</td>\n",
       "      <td>31.896685</td>\n",
       "      <td>28.602894</td>\n",
       "      <td>13.013184</td>\n",
       "      <td>14.101857</td>\n",
       "      <td>35.899529</td>\n",
       "      <td>18.510487</td>\n",
       "      <td>30.818439</td>\n",
       "      <td>24.004185</td>\n",
       "      <td>113.369652</td>\n",
       "      <td>...</td>\n",
       "      <td>4905035</td>\n",
       "      <td>10871218</td>\n",
       "      <td>62013600</td>\n",
       "      <td>17962163</td>\n",
       "      <td>9832000</td>\n",
       "      <td>7792534</td>\n",
       "      <td>594700</td>\n",
       "      <td>5043907</td>\n",
       "      <td>23930700</td>\n",
       "      <td>16603800</td>\n",
       "    </tr>\n",
       "  </tbody>\n",
       "</table>\n",
       "<p>5 rows × 162 columns</p>\n",
       "</div>"
      ],
      "text/plain": [
       "Value      Adj Close                                                         \\\n",
       "Symbol          AAPL        AXP         BA        BAC        CAT       CSCO   \n",
       "Date                                                                          \n",
       "2000-01-03  0.844981  32.854733  25.940289  12.946366  12.861952  36.641254   \n",
       "2000-01-04  0.773740  31.614206  25.899946  12.177940  12.696634  34.585606   \n",
       "2000-01-05  0.785063  30.811222  27.513645  12.311582  12.994211  34.479656   \n",
       "2000-01-06  0.717125  31.438969  27.796049  13.363992  13.655502  33.907463   \n",
       "2000-01-07  0.751094  31.896685  28.602894  13.013184  14.101857  35.899529   \n",
       "\n",
       "Value                                                    ...   Volume  \\\n",
       "Symbol            CVX         DD        DIS          GE  ...      MMM   \n",
       "Date                                                     ...            \n",
       "2000-01-03  17.139811  29.194963  23.040167  112.386337  ...  2599386   \n",
       "2000-01-04  17.139811  28.396984  24.389799  107.890823  ...  3245705   \n",
       "2000-01-05  17.447252  29.318794  25.402020  107.703522  ...  4424482   \n",
       "2000-01-06  18.190229  30.144287  24.389799  109.143494  ...  7147057   \n",
       "2000-01-07  18.510487  30.818439  24.004185  113.369652  ...  4905035   \n",
       "\n",
       "Value                                                                         \\\n",
       "Symbol           MRK      MSFT       PFE       PG         T     TRV       VZ   \n",
       "Date                                                                           \n",
       "2000-01-03   6265782  53228400  12873345  4275000   7668476  336400  4663843   \n",
       "2000-01-04   7894689  54119000  14208974  4270800   9497846  494400  5005878   \n",
       "2000-01-05   7963018  64059600  12981591  5098400  12035160  736000  6368681   \n",
       "2000-01-06   4989004  54976600  11115273  6524200   9471366  660400  4705763   \n",
       "2000-01-07  10871218  62013600  17962163  9832000   7792534  594700  5043907   \n",
       "\n",
       "Value                           \n",
       "Symbol           WMT       XOM  \n",
       "Date                            \n",
       "2000-01-03  25109700  13458200  \n",
       "2000-01-04  20235300  14510800  \n",
       "2000-01-05  21056100  17485000  \n",
       "2000-01-06  19633500  19461600  \n",
       "2000-01-07  23930700  16603800  \n",
       "\n",
       "[5 rows x 162 columns]"
      ]
     },
     "execution_count": 66,
     "metadata": {},
     "output_type": "execute_result"
    }
   ],
   "source": [
    "rawdata.head()"
   ]
  },
  {
   "cell_type": "markdown",
   "metadata": {
    "slideshow": {
     "slide_type": "subslide"
    }
   },
   "source": [
    "### Adjusted Close\n",
    "\n",
    "* [Adjusted closing prices](https://help.yahoo.com/kb/SLN28256.html) accounts for splits, etc"
   ]
  },
  {
   "cell_type": "code",
   "execution_count": 67,
   "metadata": {
    "slideshow": {
     "slide_type": "-"
    },
    "tags": []
   },
   "outputs": [
    {
     "data": {
      "text/html": [
       "<div>\n",
       "<style scoped>\n",
       "    .dataframe tbody tr th:only-of-type {\n",
       "        vertical-align: middle;\n",
       "    }\n",
       "\n",
       "    .dataframe tbody tr th {\n",
       "        vertical-align: top;\n",
       "    }\n",
       "\n",
       "    .dataframe thead th {\n",
       "        text-align: right;\n",
       "    }\n",
       "</style>\n",
       "<table border=\"1\" class=\"dataframe\">\n",
       "  <thead>\n",
       "    <tr style=\"text-align: right;\">\n",
       "      <th>Symbol</th>\n",
       "      <th>AAPL</th>\n",
       "      <th>AXP</th>\n",
       "      <th>BA</th>\n",
       "      <th>BAC</th>\n",
       "      <th>CAT</th>\n",
       "      <th>CSCO</th>\n",
       "      <th>CVX</th>\n",
       "      <th>DD</th>\n",
       "      <th>DIS</th>\n",
       "      <th>GE</th>\n",
       "      <th>...</th>\n",
       "      <th>MMM</th>\n",
       "      <th>MRK</th>\n",
       "      <th>MSFT</th>\n",
       "      <th>PFE</th>\n",
       "      <th>PG</th>\n",
       "      <th>T</th>\n",
       "      <th>TRV</th>\n",
       "      <th>VZ</th>\n",
       "      <th>WMT</th>\n",
       "      <th>XOM</th>\n",
       "    </tr>\n",
       "    <tr>\n",
       "      <th>Date</th>\n",
       "      <th></th>\n",
       "      <th></th>\n",
       "      <th></th>\n",
       "      <th></th>\n",
       "      <th></th>\n",
       "      <th></th>\n",
       "      <th></th>\n",
       "      <th></th>\n",
       "      <th></th>\n",
       "      <th></th>\n",
       "      <th></th>\n",
       "      <th></th>\n",
       "      <th></th>\n",
       "      <th></th>\n",
       "      <th></th>\n",
       "      <th></th>\n",
       "      <th></th>\n",
       "      <th></th>\n",
       "      <th></th>\n",
       "      <th></th>\n",
       "      <th></th>\n",
       "    </tr>\n",
       "  </thead>\n",
       "  <tbody>\n",
       "    <tr>\n",
       "      <th>2000-01-03</th>\n",
       "      <td>0.844981</td>\n",
       "      <td>32.854733</td>\n",
       "      <td>25.940289</td>\n",
       "      <td>12.946366</td>\n",
       "      <td>12.861952</td>\n",
       "      <td>36.641254</td>\n",
       "      <td>17.139811</td>\n",
       "      <td>29.194963</td>\n",
       "      <td>23.040167</td>\n",
       "      <td>112.386337</td>\n",
       "      <td>...</td>\n",
       "      <td>17.557301</td>\n",
       "      <td>26.704506</td>\n",
       "      <td>36.065563</td>\n",
       "      <td>13.061065</td>\n",
       "      <td>28.069090</td>\n",
       "      <td>6.792761</td>\n",
       "      <td>17.910801</td>\n",
       "      <td>17.185566</td>\n",
       "      <td>14.469358</td>\n",
       "      <td>18.328695</td>\n",
       "    </tr>\n",
       "    <tr>\n",
       "      <th>2000-01-04</th>\n",
       "      <td>0.773740</td>\n",
       "      <td>31.614206</td>\n",
       "      <td>25.899946</td>\n",
       "      <td>12.177940</td>\n",
       "      <td>12.696634</td>\n",
       "      <td>34.585606</td>\n",
       "      <td>17.139811</td>\n",
       "      <td>28.396984</td>\n",
       "      <td>24.389799</td>\n",
       "      <td>107.890823</td>\n",
       "      <td>...</td>\n",
       "      <td>16.859659</td>\n",
       "      <td>25.766645</td>\n",
       "      <td>34.847271</td>\n",
       "      <td>12.574481</td>\n",
       "      <td>27.528994</td>\n",
       "      <td>6.395309</td>\n",
       "      <td>17.673359</td>\n",
       "      <td>16.630033</td>\n",
       "      <td>13.927945</td>\n",
       "      <td>17.977631</td>\n",
       "    </tr>\n",
       "    <tr>\n",
       "      <th>2000-01-05</th>\n",
       "      <td>0.785063</td>\n",
       "      <td>30.811222</td>\n",
       "      <td>27.513645</td>\n",
       "      <td>12.311582</td>\n",
       "      <td>12.994211</td>\n",
       "      <td>34.479656</td>\n",
       "      <td>17.447252</td>\n",
       "      <td>29.318794</td>\n",
       "      <td>25.402020</td>\n",
       "      <td>107.703522</td>\n",
       "      <td>...</td>\n",
       "      <td>17.348009</td>\n",
       "      <td>26.778534</td>\n",
       "      <td>35.214680</td>\n",
       "      <td>12.779357</td>\n",
       "      <td>27.005247</td>\n",
       "      <td>6.494676</td>\n",
       "      <td>17.537663</td>\n",
       "      <td>17.185566</td>\n",
       "      <td>13.643696</td>\n",
       "      <td>18.957682</td>\n",
       "    </tr>\n",
       "    <tr>\n",
       "      <th>2000-01-06</th>\n",
       "      <td>0.717125</td>\n",
       "      <td>31.438969</td>\n",
       "      <td>27.796049</td>\n",
       "      <td>13.363992</td>\n",
       "      <td>13.655502</td>\n",
       "      <td>33.907463</td>\n",
       "      <td>18.190229</td>\n",
       "      <td>30.144287</td>\n",
       "      <td>24.389799</td>\n",
       "      <td>109.143494</td>\n",
       "      <td>...</td>\n",
       "      <td>18.743286</td>\n",
       "      <td>27.000677</td>\n",
       "      <td>34.035080</td>\n",
       "      <td>13.240336</td>\n",
       "      <td>28.249134</td>\n",
       "      <td>6.368837</td>\n",
       "      <td>17.876890</td>\n",
       "      <td>17.098272</td>\n",
       "      <td>13.792586</td>\n",
       "      <td>19.937765</td>\n",
       "    </tr>\n",
       "    <tr>\n",
       "      <th>2000-01-07</th>\n",
       "      <td>0.751094</td>\n",
       "      <td>31.896685</td>\n",
       "      <td>28.602894</td>\n",
       "      <td>13.013184</td>\n",
       "      <td>14.101857</td>\n",
       "      <td>35.899529</td>\n",
       "      <td>18.510487</td>\n",
       "      <td>30.818439</td>\n",
       "      <td>24.004185</td>\n",
       "      <td>113.369652</td>\n",
       "      <td>...</td>\n",
       "      <td>19.115368</td>\n",
       "      <td>29.592155</td>\n",
       "      <td>34.479843</td>\n",
       "      <td>14.136687</td>\n",
       "      <td>30.507763</td>\n",
       "      <td>6.423426</td>\n",
       "      <td>18.589251</td>\n",
       "      <td>16.972017</td>\n",
       "      <td>14.834812</td>\n",
       "      <td>19.879250</td>\n",
       "    </tr>\n",
       "  </tbody>\n",
       "</table>\n",
       "<p>5 rows × 27 columns</p>\n",
       "</div>"
      ],
      "text/plain": [
       "Symbol          AAPL        AXP         BA        BAC        CAT       CSCO  \\\n",
       "Date                                                                          \n",
       "2000-01-03  0.844981  32.854733  25.940289  12.946366  12.861952  36.641254   \n",
       "2000-01-04  0.773740  31.614206  25.899946  12.177940  12.696634  34.585606   \n",
       "2000-01-05  0.785063  30.811222  27.513645  12.311582  12.994211  34.479656   \n",
       "2000-01-06  0.717125  31.438969  27.796049  13.363992  13.655502  33.907463   \n",
       "2000-01-07  0.751094  31.896685  28.602894  13.013184  14.101857  35.899529   \n",
       "\n",
       "Symbol            CVX         DD        DIS          GE  ...        MMM  \\\n",
       "Date                                                     ...              \n",
       "2000-01-03  17.139811  29.194963  23.040167  112.386337  ...  17.557301   \n",
       "2000-01-04  17.139811  28.396984  24.389799  107.890823  ...  16.859659   \n",
       "2000-01-05  17.447252  29.318794  25.402020  107.703522  ...  17.348009   \n",
       "2000-01-06  18.190229  30.144287  24.389799  109.143494  ...  18.743286   \n",
       "2000-01-07  18.510487  30.818439  24.004185  113.369652  ...  19.115368   \n",
       "\n",
       "Symbol            MRK       MSFT        PFE         PG         T        TRV  \\\n",
       "Date                                                                          \n",
       "2000-01-03  26.704506  36.065563  13.061065  28.069090  6.792761  17.910801   \n",
       "2000-01-04  25.766645  34.847271  12.574481  27.528994  6.395309  17.673359   \n",
       "2000-01-05  26.778534  35.214680  12.779357  27.005247  6.494676  17.537663   \n",
       "2000-01-06  27.000677  34.035080  13.240336  28.249134  6.368837  17.876890   \n",
       "2000-01-07  29.592155  34.479843  14.136687  30.507763  6.423426  18.589251   \n",
       "\n",
       "Symbol             VZ        WMT        XOM  \n",
       "Date                                         \n",
       "2000-01-03  17.185566  14.469358  18.328695  \n",
       "2000-01-04  16.630033  13.927945  17.977631  \n",
       "2000-01-05  17.185566  13.643696  18.957682  \n",
       "2000-01-06  17.098272  13.792586  19.937765  \n",
       "2000-01-07  16.972017  14.834812  19.879250  \n",
       "\n",
       "[5 rows x 27 columns]"
      ]
     },
     "execution_count": 67,
     "metadata": {},
     "output_type": "execute_result"
    }
   ],
   "source": [
    "data = rawdata['Adj Close']\n",
    "data.head()"
   ]
  },
  {
   "cell_type": "markdown",
   "metadata": {
    "slideshow": {
     "slide_type": "subslide"
    }
   },
   "source": [
    "### Log returns from stock prices\n",
    "\n",
    "* Data is price per share\n",
    "* We need daily returns from the prices\n",
    "* Given the prices $P_t$ and $P_{t-1}$ for time $t$, the return is, \n",
    "$$ R_t = \\frac{P_t - P_{t-1}}{P_{t-1}} = \\frac{P_t}{P_{t-1}} - 1 $$"
   ]
  },
  {
   "cell_type": "markdown",
   "metadata": {
    "slideshow": {
     "slide_type": "subslide"
    }
   },
   "source": [
    "* Approximation $\\log(1+x)\\approx x$ is good when $x$ is small\n",
    "* Since daily returns of stocks are small, calculate as returns,\n",
    "$$ r_t = \\log(1 + R_t) = \\log\\left(\\frac{P_t}{P_{t-1}}\\right) = \\log(P_t) - \\log(P_{t-1})$$\n",
    "So, in order to compute the log-returns, compute the difference of log prices:"
   ]
  },
  {
   "cell_type": "code",
   "execution_count": 68,
   "metadata": {
    "slideshow": {
     "slide_type": "subslide"
    },
    "tags": []
   },
   "outputs": [
    {
     "data": {
      "text/html": [
       "<div>\n",
       "<style scoped>\n",
       "    .dataframe tbody tr th:only-of-type {\n",
       "        vertical-align: middle;\n",
       "    }\n",
       "\n",
       "    .dataframe tbody tr th {\n",
       "        vertical-align: top;\n",
       "    }\n",
       "\n",
       "    .dataframe thead th {\n",
       "        text-align: right;\n",
       "    }\n",
       "</style>\n",
       "<table border=\"1\" class=\"dataframe\">\n",
       "  <thead>\n",
       "    <tr style=\"text-align: right;\">\n",
       "      <th>Symbol</th>\n",
       "      <th>AAPL</th>\n",
       "      <th>AXP</th>\n",
       "      <th>BA</th>\n",
       "      <th>BAC</th>\n",
       "      <th>CAT</th>\n",
       "      <th>CSCO</th>\n",
       "      <th>CVX</th>\n",
       "      <th>DD</th>\n",
       "      <th>DIS</th>\n",
       "      <th>GE</th>\n",
       "      <th>...</th>\n",
       "      <th>MMM</th>\n",
       "      <th>MRK</th>\n",
       "      <th>MSFT</th>\n",
       "      <th>PFE</th>\n",
       "      <th>PG</th>\n",
       "      <th>T</th>\n",
       "      <th>TRV</th>\n",
       "      <th>VZ</th>\n",
       "      <th>WMT</th>\n",
       "      <th>XOM</th>\n",
       "    </tr>\n",
       "    <tr>\n",
       "      <th>Date</th>\n",
       "      <th></th>\n",
       "      <th></th>\n",
       "      <th></th>\n",
       "      <th></th>\n",
       "      <th></th>\n",
       "      <th></th>\n",
       "      <th></th>\n",
       "      <th></th>\n",
       "      <th></th>\n",
       "      <th></th>\n",
       "      <th></th>\n",
       "      <th></th>\n",
       "      <th></th>\n",
       "      <th></th>\n",
       "      <th></th>\n",
       "      <th></th>\n",
       "      <th></th>\n",
       "      <th></th>\n",
       "      <th></th>\n",
       "      <th></th>\n",
       "      <th></th>\n",
       "    </tr>\n",
       "  </thead>\n",
       "  <tbody>\n",
       "    <tr>\n",
       "      <th>2000-01-03</th>\n",
       "      <td>NaN</td>\n",
       "      <td>NaN</td>\n",
       "      <td>NaN</td>\n",
       "      <td>NaN</td>\n",
       "      <td>NaN</td>\n",
       "      <td>NaN</td>\n",
       "      <td>NaN</td>\n",
       "      <td>NaN</td>\n",
       "      <td>NaN</td>\n",
       "      <td>NaN</td>\n",
       "      <td>...</td>\n",
       "      <td>NaN</td>\n",
       "      <td>NaN</td>\n",
       "      <td>NaN</td>\n",
       "      <td>NaN</td>\n",
       "      <td>NaN</td>\n",
       "      <td>NaN</td>\n",
       "      <td>NaN</td>\n",
       "      <td>NaN</td>\n",
       "      <td>NaN</td>\n",
       "      <td>NaN</td>\n",
       "    </tr>\n",
       "    <tr>\n",
       "      <th>2000-01-04</th>\n",
       "      <td>-0.088078</td>\n",
       "      <td>-0.038489</td>\n",
       "      <td>-0.001556</td>\n",
       "      <td>-0.061189</td>\n",
       "      <td>-0.012937</td>\n",
       "      <td>-0.057737</td>\n",
       "      <td>0.000000</td>\n",
       "      <td>-0.027713</td>\n",
       "      <td>0.056926</td>\n",
       "      <td>-0.040823</td>\n",
       "      <td>...</td>\n",
       "      <td>-0.040546</td>\n",
       "      <td>-0.035751</td>\n",
       "      <td>-0.034364</td>\n",
       "      <td>-0.037966</td>\n",
       "      <td>-0.019429</td>\n",
       "      <td>-0.060293</td>\n",
       "      <td>-0.013346</td>\n",
       "      <td>-0.032860</td>\n",
       "      <td>-0.038136</td>\n",
       "      <td>-0.019340</td>\n",
       "    </tr>\n",
       "    <tr>\n",
       "      <th>2000-01-05</th>\n",
       "      <td>0.014527</td>\n",
       "      <td>-0.025728</td>\n",
       "      <td>0.060441</td>\n",
       "      <td>0.010914</td>\n",
       "      <td>0.023167</td>\n",
       "      <td>-0.003068</td>\n",
       "      <td>0.017778</td>\n",
       "      <td>0.031946</td>\n",
       "      <td>0.040664</td>\n",
       "      <td>-0.001738</td>\n",
       "      <td>...</td>\n",
       "      <td>0.028554</td>\n",
       "      <td>0.038520</td>\n",
       "      <td>0.010488</td>\n",
       "      <td>0.016162</td>\n",
       "      <td>-0.019209</td>\n",
       "      <td>0.015418</td>\n",
       "      <td>-0.007708</td>\n",
       "      <td>0.032860</td>\n",
       "      <td>-0.020620</td>\n",
       "      <td>0.053081</td>\n",
       "    </tr>\n",
       "    <tr>\n",
       "      <th>2000-01-06</th>\n",
       "      <td>-0.090514</td>\n",
       "      <td>0.020169</td>\n",
       "      <td>0.010212</td>\n",
       "      <td>0.082023</td>\n",
       "      <td>0.049639</td>\n",
       "      <td>-0.016734</td>\n",
       "      <td>0.041702</td>\n",
       "      <td>0.027767</td>\n",
       "      <td>-0.040664</td>\n",
       "      <td>0.013281</td>\n",
       "      <td>...</td>\n",
       "      <td>0.077358</td>\n",
       "      <td>0.008261</td>\n",
       "      <td>-0.034071</td>\n",
       "      <td>0.035437</td>\n",
       "      <td>0.045032</td>\n",
       "      <td>-0.019566</td>\n",
       "      <td>0.019158</td>\n",
       "      <td>-0.005092</td>\n",
       "      <td>0.010854</td>\n",
       "      <td>0.050406</td>\n",
       "    </tr>\n",
       "    <tr>\n",
       "      <th>2000-01-07</th>\n",
       "      <td>0.046281</td>\n",
       "      <td>0.014454</td>\n",
       "      <td>0.028614</td>\n",
       "      <td>-0.026601</td>\n",
       "      <td>0.032164</td>\n",
       "      <td>0.057089</td>\n",
       "      <td>0.017453</td>\n",
       "      <td>0.022118</td>\n",
       "      <td>-0.015937</td>\n",
       "      <td>0.037990</td>\n",
       "      <td>...</td>\n",
       "      <td>0.019657</td>\n",
       "      <td>0.091647</td>\n",
       "      <td>0.012983</td>\n",
       "      <td>0.065505</td>\n",
       "      <td>0.076918</td>\n",
       "      <td>0.008535</td>\n",
       "      <td>0.039075</td>\n",
       "      <td>-0.007411</td>\n",
       "      <td>0.072845</td>\n",
       "      <td>-0.002939</td>\n",
       "    </tr>\n",
       "  </tbody>\n",
       "</table>\n",
       "<p>5 rows × 27 columns</p>\n",
       "</div>"
      ],
      "text/plain": [
       "Symbol          AAPL       AXP        BA       BAC       CAT      CSCO  \\\n",
       "Date                                                                     \n",
       "2000-01-03       NaN       NaN       NaN       NaN       NaN       NaN   \n",
       "2000-01-04 -0.088078 -0.038489 -0.001556 -0.061189 -0.012937 -0.057737   \n",
       "2000-01-05  0.014527 -0.025728  0.060441  0.010914  0.023167 -0.003068   \n",
       "2000-01-06 -0.090514  0.020169  0.010212  0.082023  0.049639 -0.016734   \n",
       "2000-01-07  0.046281  0.014454  0.028614 -0.026601  0.032164  0.057089   \n",
       "\n",
       "Symbol           CVX        DD       DIS        GE  ...       MMM       MRK  \\\n",
       "Date                                                ...                       \n",
       "2000-01-03       NaN       NaN       NaN       NaN  ...       NaN       NaN   \n",
       "2000-01-04  0.000000 -0.027713  0.056926 -0.040823  ... -0.040546 -0.035751   \n",
       "2000-01-05  0.017778  0.031946  0.040664 -0.001738  ...  0.028554  0.038520   \n",
       "2000-01-06  0.041702  0.027767 -0.040664  0.013281  ...  0.077358  0.008261   \n",
       "2000-01-07  0.017453  0.022118 -0.015937  0.037990  ...  0.019657  0.091647   \n",
       "\n",
       "Symbol          MSFT       PFE        PG         T       TRV        VZ  \\\n",
       "Date                                                                     \n",
       "2000-01-03       NaN       NaN       NaN       NaN       NaN       NaN   \n",
       "2000-01-04 -0.034364 -0.037966 -0.019429 -0.060293 -0.013346 -0.032860   \n",
       "2000-01-05  0.010488  0.016162 -0.019209  0.015418 -0.007708  0.032860   \n",
       "2000-01-06 -0.034071  0.035437  0.045032 -0.019566  0.019158 -0.005092   \n",
       "2000-01-07  0.012983  0.065505  0.076918  0.008535  0.039075 -0.007411   \n",
       "\n",
       "Symbol           WMT       XOM  \n",
       "Date                            \n",
       "2000-01-03       NaN       NaN  \n",
       "2000-01-04 -0.038136 -0.019340  \n",
       "2000-01-05 -0.020620  0.053081  \n",
       "2000-01-06  0.010854  0.050406  \n",
       "2000-01-07  0.072845 -0.002939  \n",
       "\n",
       "[5 rows x 27 columns]"
      ]
     },
     "execution_count": 68,
     "metadata": {},
     "output_type": "execute_result"
    }
   ],
   "source": [
    "logret = np.log(data).diff()\n",
    "logret.head()"
   ]
  },
  {
   "cell_type": "markdown",
   "metadata": {
    "slideshow": {
     "slide_type": "-"
    }
   },
   "source": [
    "* First time period is NaN since there is no data corresponding to $-1$.\n",
    "\n",
    "* Note that $100\\cdot r_t$% represent daily percentage returns."
   ]
  },
  {
   "cell_type": "markdown",
   "metadata": {
    "slideshow": {
     "slide_type": "subslide"
    }
   },
   "source": [
    "### Estimate expected returns\n",
    "\n",
    "Estimate the daily expected returns by computing the means:"
   ]
  },
  {
   "cell_type": "code",
   "execution_count": 69,
   "metadata": {
    "slideshow": {
     "slide_type": "-"
    },
    "tags": []
   },
   "outputs": [
    {
     "data": {
      "text/plain": [
       "Symbol\n",
       "AAPL    0.000903\n",
       "AXP     0.000269\n",
       "BA      0.000354\n",
       "BAC     0.000134\n",
       "CAT     0.000480\n",
       "CSCO    0.000038\n",
       "CVX     0.000383\n",
       "DD      0.000145\n",
       "DIS     0.000254\n",
       "GE     -0.000061\n",
       "HD      0.000341\n",
       "IBM     0.000118\n",
       "INTC    0.000035\n",
       "JNJ     0.000317\n",
       "JPM     0.000296\n",
       "KO      0.000249\n",
       "MCD     0.000440\n",
       "MMM     0.000264\n",
       "MRK     0.000245\n",
       "MSFT    0.000364\n",
       "PFE     0.000177\n",
       "PG      0.000288\n",
       "T       0.000151\n",
       "TRV     0.000391\n",
       "VZ      0.000127\n",
       "WMT     0.000210\n",
       "XOM     0.000312\n",
       "dtype: float64"
      ]
     },
     "execution_count": 69,
     "metadata": {},
     "output_type": "execute_result"
    }
   ],
   "source": [
    "mu = logret[1:].mean()\n",
    "mu"
   ]
  },
  {
   "cell_type": "markdown",
   "metadata": {
    "slideshow": {
     "slide_type": "subslide"
    }
   },
   "source": [
    "### Estimate covariance matrix (volatility structure)\n",
    "\n",
    "Estimate the covarince matrix of returns:"
   ]
  },
  {
   "cell_type": "code",
   "execution_count": 70,
   "metadata": {
    "slideshow": {
     "slide_type": "-"
    },
    "tags": []
   },
   "outputs": [
    {
     "data": {
      "text/html": [
       "<div>\n",
       "<style scoped>\n",
       "    .dataframe tbody tr th:only-of-type {\n",
       "        vertical-align: middle;\n",
       "    }\n",
       "\n",
       "    .dataframe tbody tr th {\n",
       "        vertical-align: top;\n",
       "    }\n",
       "\n",
       "    .dataframe thead th {\n",
       "        text-align: right;\n",
       "    }\n",
       "</style>\n",
       "<table border=\"1\" class=\"dataframe\">\n",
       "  <thead>\n",
       "    <tr style=\"text-align: right;\">\n",
       "      <th>Symbol</th>\n",
       "      <th>AAPL</th>\n",
       "      <th>AXP</th>\n",
       "      <th>BA</th>\n",
       "      <th>BAC</th>\n",
       "      <th>CAT</th>\n",
       "      <th>CSCO</th>\n",
       "      <th>CVX</th>\n",
       "      <th>DD</th>\n",
       "      <th>DIS</th>\n",
       "      <th>GE</th>\n",
       "      <th>...</th>\n",
       "      <th>MMM</th>\n",
       "      <th>MRK</th>\n",
       "      <th>MSFT</th>\n",
       "      <th>PFE</th>\n",
       "      <th>PG</th>\n",
       "      <th>T</th>\n",
       "      <th>TRV</th>\n",
       "      <th>VZ</th>\n",
       "      <th>WMT</th>\n",
       "      <th>XOM</th>\n",
       "    </tr>\n",
       "    <tr>\n",
       "      <th>Symbol</th>\n",
       "      <th></th>\n",
       "      <th></th>\n",
       "      <th></th>\n",
       "      <th></th>\n",
       "      <th></th>\n",
       "      <th></th>\n",
       "      <th></th>\n",
       "      <th></th>\n",
       "      <th></th>\n",
       "      <th></th>\n",
       "      <th></th>\n",
       "      <th></th>\n",
       "      <th></th>\n",
       "      <th></th>\n",
       "      <th></th>\n",
       "      <th></th>\n",
       "      <th></th>\n",
       "      <th></th>\n",
       "      <th></th>\n",
       "      <th></th>\n",
       "      <th></th>\n",
       "    </tr>\n",
       "  </thead>\n",
       "  <tbody>\n",
       "    <tr>\n",
       "      <th>AAPL</th>\n",
       "      <td>0.000671</td>\n",
       "      <td>0.000213</td>\n",
       "      <td>0.000168</td>\n",
       "      <td>0.000225</td>\n",
       "      <td>0.000187</td>\n",
       "      <td>0.000279</td>\n",
       "      <td>0.000122</td>\n",
       "      <td>0.000167</td>\n",
       "      <td>0.000175</td>\n",
       "      <td>0.000186</td>\n",
       "      <td>...</td>\n",
       "      <td>0.000125</td>\n",
       "      <td>0.000088</td>\n",
       "      <td>0.000234</td>\n",
       "      <td>0.000089</td>\n",
       "      <td>0.000069</td>\n",
       "      <td>0.000112</td>\n",
       "      <td>0.000133</td>\n",
       "      <td>0.000096</td>\n",
       "      <td>0.000099</td>\n",
       "      <td>0.000116</td>\n",
       "    </tr>\n",
       "    <tr>\n",
       "      <th>AXP</th>\n",
       "      <td>0.000213</td>\n",
       "      <td>0.000521</td>\n",
       "      <td>0.000261</td>\n",
       "      <td>0.000432</td>\n",
       "      <td>0.000255</td>\n",
       "      <td>0.000239</td>\n",
       "      <td>0.000201</td>\n",
       "      <td>0.000270</td>\n",
       "      <td>0.000249</td>\n",
       "      <td>0.000288</td>\n",
       "      <td>...</td>\n",
       "      <td>0.000180</td>\n",
       "      <td>0.000135</td>\n",
       "      <td>0.000205</td>\n",
       "      <td>0.000142</td>\n",
       "      <td>0.000104</td>\n",
       "      <td>0.000165</td>\n",
       "      <td>0.000234</td>\n",
       "      <td>0.000138</td>\n",
       "      <td>0.000118</td>\n",
       "      <td>0.000184</td>\n",
       "    </tr>\n",
       "    <tr>\n",
       "      <th>BA</th>\n",
       "      <td>0.000168</td>\n",
       "      <td>0.000261</td>\n",
       "      <td>0.000500</td>\n",
       "      <td>0.000263</td>\n",
       "      <td>0.000217</td>\n",
       "      <td>0.000178</td>\n",
       "      <td>0.000186</td>\n",
       "      <td>0.000235</td>\n",
       "      <td>0.000204</td>\n",
       "      <td>0.000242</td>\n",
       "      <td>...</td>\n",
       "      <td>0.000152</td>\n",
       "      <td>0.000106</td>\n",
       "      <td>0.000166</td>\n",
       "      <td>0.000115</td>\n",
       "      <td>0.000085</td>\n",
       "      <td>0.000127</td>\n",
       "      <td>0.000172</td>\n",
       "      <td>0.000099</td>\n",
       "      <td>0.000092</td>\n",
       "      <td>0.000175</td>\n",
       "    </tr>\n",
       "    <tr>\n",
       "      <th>BAC</th>\n",
       "      <td>0.000225</td>\n",
       "      <td>0.000432</td>\n",
       "      <td>0.000263</td>\n",
       "      <td>0.000795</td>\n",
       "      <td>0.000290</td>\n",
       "      <td>0.000249</td>\n",
       "      <td>0.000221</td>\n",
       "      <td>0.000312</td>\n",
       "      <td>0.000246</td>\n",
       "      <td>0.000330</td>\n",
       "      <td>...</td>\n",
       "      <td>0.000202</td>\n",
       "      <td>0.000141</td>\n",
       "      <td>0.000206</td>\n",
       "      <td>0.000159</td>\n",
       "      <td>0.000111</td>\n",
       "      <td>0.000175</td>\n",
       "      <td>0.000266</td>\n",
       "      <td>0.000144</td>\n",
       "      <td>0.000116</td>\n",
       "      <td>0.000199</td>\n",
       "    </tr>\n",
       "    <tr>\n",
       "      <th>CAT</th>\n",
       "      <td>0.000187</td>\n",
       "      <td>0.000255</td>\n",
       "      <td>0.000217</td>\n",
       "      <td>0.000290</td>\n",
       "      <td>0.000415</td>\n",
       "      <td>0.000192</td>\n",
       "      <td>0.000193</td>\n",
       "      <td>0.000268</td>\n",
       "      <td>0.000185</td>\n",
       "      <td>0.000229</td>\n",
       "      <td>...</td>\n",
       "      <td>0.000179</td>\n",
       "      <td>0.000108</td>\n",
       "      <td>0.000163</td>\n",
       "      <td>0.000117</td>\n",
       "      <td>0.000086</td>\n",
       "      <td>0.000126</td>\n",
       "      <td>0.000167</td>\n",
       "      <td>0.000104</td>\n",
       "      <td>0.000098</td>\n",
       "      <td>0.000182</td>\n",
       "    </tr>\n",
       "    <tr>\n",
       "      <th>CSCO</th>\n",
       "      <td>0.000279</td>\n",
       "      <td>0.000239</td>\n",
       "      <td>0.000178</td>\n",
       "      <td>0.000249</td>\n",
       "      <td>0.000192</td>\n",
       "      <td>0.000554</td>\n",
       "      <td>0.000132</td>\n",
       "      <td>0.000192</td>\n",
       "      <td>0.000203</td>\n",
       "      <td>0.000211</td>\n",
       "      <td>...</td>\n",
       "      <td>0.000145</td>\n",
       "      <td>0.000097</td>\n",
       "      <td>0.000255</td>\n",
       "      <td>0.000110</td>\n",
       "      <td>0.000080</td>\n",
       "      <td>0.000132</td>\n",
       "      <td>0.000156</td>\n",
       "      <td>0.000122</td>\n",
       "      <td>0.000111</td>\n",
       "      <td>0.000126</td>\n",
       "    </tr>\n",
       "    <tr>\n",
       "      <th>CVX</th>\n",
       "      <td>0.000122</td>\n",
       "      <td>0.000201</td>\n",
       "      <td>0.000186</td>\n",
       "      <td>0.000221</td>\n",
       "      <td>0.000193</td>\n",
       "      <td>0.000132</td>\n",
       "      <td>0.000311</td>\n",
       "      <td>0.000192</td>\n",
       "      <td>0.000151</td>\n",
       "      <td>0.000175</td>\n",
       "      <td>...</td>\n",
       "      <td>0.000125</td>\n",
       "      <td>0.000111</td>\n",
       "      <td>0.000132</td>\n",
       "      <td>0.000108</td>\n",
       "      <td>0.000070</td>\n",
       "      <td>0.000114</td>\n",
       "      <td>0.000154</td>\n",
       "      <td>0.000094</td>\n",
       "      <td>0.000068</td>\n",
       "      <td>0.000249</td>\n",
       "    </tr>\n",
       "    <tr>\n",
       "      <th>DD</th>\n",
       "      <td>0.000167</td>\n",
       "      <td>0.000270</td>\n",
       "      <td>0.000235</td>\n",
       "      <td>0.000312</td>\n",
       "      <td>0.000268</td>\n",
       "      <td>0.000192</td>\n",
       "      <td>0.000192</td>\n",
       "      <td>0.000493</td>\n",
       "      <td>0.000200</td>\n",
       "      <td>0.000241</td>\n",
       "      <td>...</td>\n",
       "      <td>0.000187</td>\n",
       "      <td>0.000124</td>\n",
       "      <td>0.000166</td>\n",
       "      <td>0.000129</td>\n",
       "      <td>0.000104</td>\n",
       "      <td>0.000137</td>\n",
       "      <td>0.000183</td>\n",
       "      <td>0.000111</td>\n",
       "      <td>0.000105</td>\n",
       "      <td>0.000179</td>\n",
       "    </tr>\n",
       "    <tr>\n",
       "      <th>DIS</th>\n",
       "      <td>0.000175</td>\n",
       "      <td>0.000249</td>\n",
       "      <td>0.000204</td>\n",
       "      <td>0.000246</td>\n",
       "      <td>0.000185</td>\n",
       "      <td>0.000203</td>\n",
       "      <td>0.000151</td>\n",
       "      <td>0.000200</td>\n",
       "      <td>0.000378</td>\n",
       "      <td>0.000205</td>\n",
       "      <td>...</td>\n",
       "      <td>0.000138</td>\n",
       "      <td>0.000101</td>\n",
       "      <td>0.000173</td>\n",
       "      <td>0.000106</td>\n",
       "      <td>0.000079</td>\n",
       "      <td>0.000129</td>\n",
       "      <td>0.000149</td>\n",
       "      <td>0.000114</td>\n",
       "      <td>0.000096</td>\n",
       "      <td>0.000143</td>\n",
       "    </tr>\n",
       "    <tr>\n",
       "      <th>GE</th>\n",
       "      <td>0.000186</td>\n",
       "      <td>0.000288</td>\n",
       "      <td>0.000242</td>\n",
       "      <td>0.000330</td>\n",
       "      <td>0.000229</td>\n",
       "      <td>0.000211</td>\n",
       "      <td>0.000175</td>\n",
       "      <td>0.000241</td>\n",
       "      <td>0.000205</td>\n",
       "      <td>0.000447</td>\n",
       "      <td>...</td>\n",
       "      <td>0.000171</td>\n",
       "      <td>0.000115</td>\n",
       "      <td>0.000166</td>\n",
       "      <td>0.000125</td>\n",
       "      <td>0.000090</td>\n",
       "      <td>0.000137</td>\n",
       "      <td>0.000183</td>\n",
       "      <td>0.000117</td>\n",
       "      <td>0.000102</td>\n",
       "      <td>0.000167</td>\n",
       "    </tr>\n",
       "    <tr>\n",
       "      <th>HD</th>\n",
       "      <td>0.000169</td>\n",
       "      <td>0.000226</td>\n",
       "      <td>0.000180</td>\n",
       "      <td>0.000235</td>\n",
       "      <td>0.000176</td>\n",
       "      <td>0.000182</td>\n",
       "      <td>0.000126</td>\n",
       "      <td>0.000191</td>\n",
       "      <td>0.000178</td>\n",
       "      <td>0.000185</td>\n",
       "      <td>...</td>\n",
       "      <td>0.000140</td>\n",
       "      <td>0.000100</td>\n",
       "      <td>0.000165</td>\n",
       "      <td>0.000106</td>\n",
       "      <td>0.000086</td>\n",
       "      <td>0.000115</td>\n",
       "      <td>0.000155</td>\n",
       "      <td>0.000104</td>\n",
       "      <td>0.000149</td>\n",
       "      <td>0.000116</td>\n",
       "    </tr>\n",
       "    <tr>\n",
       "      <th>IBM</th>\n",
       "      <td>0.000169</td>\n",
       "      <td>0.000176</td>\n",
       "      <td>0.000144</td>\n",
       "      <td>0.000184</td>\n",
       "      <td>0.000153</td>\n",
       "      <td>0.000203</td>\n",
       "      <td>0.000117</td>\n",
       "      <td>0.000158</td>\n",
       "      <td>0.000143</td>\n",
       "      <td>0.000167</td>\n",
       "      <td>...</td>\n",
       "      <td>0.000113</td>\n",
       "      <td>0.000082</td>\n",
       "      <td>0.000155</td>\n",
       "      <td>0.000087</td>\n",
       "      <td>0.000065</td>\n",
       "      <td>0.000111</td>\n",
       "      <td>0.000123</td>\n",
       "      <td>0.000095</td>\n",
       "      <td>0.000080</td>\n",
       "      <td>0.000116</td>\n",
       "    </tr>\n",
       "    <tr>\n",
       "      <th>INTC</th>\n",
       "      <td>0.000300</td>\n",
       "      <td>0.000246</td>\n",
       "      <td>0.000200</td>\n",
       "      <td>0.000251</td>\n",
       "      <td>0.000202</td>\n",
       "      <td>0.000338</td>\n",
       "      <td>0.000142</td>\n",
       "      <td>0.000201</td>\n",
       "      <td>0.000197</td>\n",
       "      <td>0.000210</td>\n",
       "      <td>...</td>\n",
       "      <td>0.000147</td>\n",
       "      <td>0.000104</td>\n",
       "      <td>0.000273</td>\n",
       "      <td>0.000109</td>\n",
       "      <td>0.000084</td>\n",
       "      <td>0.000133</td>\n",
       "      <td>0.000160</td>\n",
       "      <td>0.000120</td>\n",
       "      <td>0.000109</td>\n",
       "      <td>0.000140</td>\n",
       "    </tr>\n",
       "    <tr>\n",
       "      <th>JNJ</th>\n",
       "      <td>0.000071</td>\n",
       "      <td>0.000105</td>\n",
       "      <td>0.000089</td>\n",
       "      <td>0.000106</td>\n",
       "      <td>0.000087</td>\n",
       "      <td>0.000079</td>\n",
       "      <td>0.000085</td>\n",
       "      <td>0.000095</td>\n",
       "      <td>0.000082</td>\n",
       "      <td>0.000091</td>\n",
       "      <td>...</td>\n",
       "      <td>0.000085</td>\n",
       "      <td>0.000106</td>\n",
       "      <td>0.000080</td>\n",
       "      <td>0.000105</td>\n",
       "      <td>0.000077</td>\n",
       "      <td>0.000076</td>\n",
       "      <td>0.000083</td>\n",
       "      <td>0.000070</td>\n",
       "      <td>0.000064</td>\n",
       "      <td>0.000084</td>\n",
       "    </tr>\n",
       "    <tr>\n",
       "      <th>JPM</th>\n",
       "      <td>0.000219</td>\n",
       "      <td>0.000386</td>\n",
       "      <td>0.000244</td>\n",
       "      <td>0.000533</td>\n",
       "      <td>0.000260</td>\n",
       "      <td>0.000256</td>\n",
       "      <td>0.000199</td>\n",
       "      <td>0.000282</td>\n",
       "      <td>0.000238</td>\n",
       "      <td>0.000301</td>\n",
       "      <td>...</td>\n",
       "      <td>0.000179</td>\n",
       "      <td>0.000137</td>\n",
       "      <td>0.000209</td>\n",
       "      <td>0.000144</td>\n",
       "      <td>0.000099</td>\n",
       "      <td>0.000172</td>\n",
       "      <td>0.000249</td>\n",
       "      <td>0.000151</td>\n",
       "      <td>0.000120</td>\n",
       "      <td>0.000181</td>\n",
       "    </tr>\n",
       "    <tr>\n",
       "      <th>KO</th>\n",
       "      <td>0.000078</td>\n",
       "      <td>0.000118</td>\n",
       "      <td>0.000106</td>\n",
       "      <td>0.000112</td>\n",
       "      <td>0.000096</td>\n",
       "      <td>0.000084</td>\n",
       "      <td>0.000089</td>\n",
       "      <td>0.000105</td>\n",
       "      <td>0.000092</td>\n",
       "      <td>0.000098</td>\n",
       "      <td>...</td>\n",
       "      <td>0.000085</td>\n",
       "      <td>0.000079</td>\n",
       "      <td>0.000087</td>\n",
       "      <td>0.000078</td>\n",
       "      <td>0.000087</td>\n",
       "      <td>0.000084</td>\n",
       "      <td>0.000094</td>\n",
       "      <td>0.000077</td>\n",
       "      <td>0.000068</td>\n",
       "      <td>0.000090</td>\n",
       "    </tr>\n",
       "    <tr>\n",
       "      <th>MCD</th>\n",
       "      <td>0.000098</td>\n",
       "      <td>0.000134</td>\n",
       "      <td>0.000122</td>\n",
       "      <td>0.000132</td>\n",
       "      <td>0.000102</td>\n",
       "      <td>0.000107</td>\n",
       "      <td>0.000093</td>\n",
       "      <td>0.000115</td>\n",
       "      <td>0.000107</td>\n",
       "      <td>0.000112</td>\n",
       "      <td>...</td>\n",
       "      <td>0.000085</td>\n",
       "      <td>0.000077</td>\n",
       "      <td>0.000093</td>\n",
       "      <td>0.000072</td>\n",
       "      <td>0.000072</td>\n",
       "      <td>0.000076</td>\n",
       "      <td>0.000109</td>\n",
       "      <td>0.000068</td>\n",
       "      <td>0.000073</td>\n",
       "      <td>0.000084</td>\n",
       "    </tr>\n",
       "    <tr>\n",
       "      <th>MMM</th>\n",
       "      <td>0.000125</td>\n",
       "      <td>0.000180</td>\n",
       "      <td>0.000152</td>\n",
       "      <td>0.000202</td>\n",
       "      <td>0.000179</td>\n",
       "      <td>0.000145</td>\n",
       "      <td>0.000125</td>\n",
       "      <td>0.000187</td>\n",
       "      <td>0.000138</td>\n",
       "      <td>0.000171</td>\n",
       "      <td>...</td>\n",
       "      <td>0.000227</td>\n",
       "      <td>0.000089</td>\n",
       "      <td>0.000119</td>\n",
       "      <td>0.000101</td>\n",
       "      <td>0.000085</td>\n",
       "      <td>0.000099</td>\n",
       "      <td>0.000131</td>\n",
       "      <td>0.000085</td>\n",
       "      <td>0.000085</td>\n",
       "      <td>0.000123</td>\n",
       "    </tr>\n",
       "    <tr>\n",
       "      <th>MRK</th>\n",
       "      <td>0.000088</td>\n",
       "      <td>0.000135</td>\n",
       "      <td>0.000106</td>\n",
       "      <td>0.000141</td>\n",
       "      <td>0.000108</td>\n",
       "      <td>0.000097</td>\n",
       "      <td>0.000111</td>\n",
       "      <td>0.000124</td>\n",
       "      <td>0.000101</td>\n",
       "      <td>0.000115</td>\n",
       "      <td>...</td>\n",
       "      <td>0.000089</td>\n",
       "      <td>0.000285</td>\n",
       "      <td>0.000096</td>\n",
       "      <td>0.000145</td>\n",
       "      <td>0.000083</td>\n",
       "      <td>0.000097</td>\n",
       "      <td>0.000112</td>\n",
       "      <td>0.000092</td>\n",
       "      <td>0.000076</td>\n",
       "      <td>0.000107</td>\n",
       "    </tr>\n",
       "    <tr>\n",
       "      <th>MSFT</th>\n",
       "      <td>0.000234</td>\n",
       "      <td>0.000205</td>\n",
       "      <td>0.000166</td>\n",
       "      <td>0.000206</td>\n",
       "      <td>0.000163</td>\n",
       "      <td>0.000255</td>\n",
       "      <td>0.000132</td>\n",
       "      <td>0.000166</td>\n",
       "      <td>0.000173</td>\n",
       "      <td>0.000166</td>\n",
       "      <td>...</td>\n",
       "      <td>0.000119</td>\n",
       "      <td>0.000096</td>\n",
       "      <td>0.000376</td>\n",
       "      <td>0.000103</td>\n",
       "      <td>0.000075</td>\n",
       "      <td>0.000112</td>\n",
       "      <td>0.000138</td>\n",
       "      <td>0.000105</td>\n",
       "      <td>0.000100</td>\n",
       "      <td>0.000121</td>\n",
       "    </tr>\n",
       "    <tr>\n",
       "      <th>PFE</th>\n",
       "      <td>0.000089</td>\n",
       "      <td>0.000142</td>\n",
       "      <td>0.000115</td>\n",
       "      <td>0.000159</td>\n",
       "      <td>0.000117</td>\n",
       "      <td>0.000110</td>\n",
       "      <td>0.000108</td>\n",
       "      <td>0.000129</td>\n",
       "      <td>0.000106</td>\n",
       "      <td>0.000125</td>\n",
       "      <td>...</td>\n",
       "      <td>0.000101</td>\n",
       "      <td>0.000145</td>\n",
       "      <td>0.000103</td>\n",
       "      <td>0.000253</td>\n",
       "      <td>0.000082</td>\n",
       "      <td>0.000096</td>\n",
       "      <td>0.000112</td>\n",
       "      <td>0.000088</td>\n",
       "      <td>0.000080</td>\n",
       "      <td>0.000108</td>\n",
       "    </tr>\n",
       "    <tr>\n",
       "      <th>PG</th>\n",
       "      <td>0.000069</td>\n",
       "      <td>0.000104</td>\n",
       "      <td>0.000085</td>\n",
       "      <td>0.000111</td>\n",
       "      <td>0.000086</td>\n",
       "      <td>0.000080</td>\n",
       "      <td>0.000070</td>\n",
       "      <td>0.000104</td>\n",
       "      <td>0.000079</td>\n",
       "      <td>0.000090</td>\n",
       "      <td>...</td>\n",
       "      <td>0.000085</td>\n",
       "      <td>0.000083</td>\n",
       "      <td>0.000075</td>\n",
       "      <td>0.000082</td>\n",
       "      <td>0.000185</td>\n",
       "      <td>0.000082</td>\n",
       "      <td>0.000087</td>\n",
       "      <td>0.000073</td>\n",
       "      <td>0.000078</td>\n",
       "      <td>0.000072</td>\n",
       "    </tr>\n",
       "    <tr>\n",
       "      <th>T</th>\n",
       "      <td>0.000112</td>\n",
       "      <td>0.000165</td>\n",
       "      <td>0.000127</td>\n",
       "      <td>0.000175</td>\n",
       "      <td>0.000126</td>\n",
       "      <td>0.000132</td>\n",
       "      <td>0.000114</td>\n",
       "      <td>0.000137</td>\n",
       "      <td>0.000129</td>\n",
       "      <td>0.000137</td>\n",
       "      <td>...</td>\n",
       "      <td>0.000099</td>\n",
       "      <td>0.000097</td>\n",
       "      <td>0.000112</td>\n",
       "      <td>0.000096</td>\n",
       "      <td>0.000082</td>\n",
       "      <td>0.000265</td>\n",
       "      <td>0.000119</td>\n",
       "      <td>0.000170</td>\n",
       "      <td>0.000084</td>\n",
       "      <td>0.000118</td>\n",
       "    </tr>\n",
       "    <tr>\n",
       "      <th>TRV</th>\n",
       "      <td>0.000133</td>\n",
       "      <td>0.000234</td>\n",
       "      <td>0.000172</td>\n",
       "      <td>0.000266</td>\n",
       "      <td>0.000167</td>\n",
       "      <td>0.000156</td>\n",
       "      <td>0.000154</td>\n",
       "      <td>0.000183</td>\n",
       "      <td>0.000149</td>\n",
       "      <td>0.000183</td>\n",
       "      <td>...</td>\n",
       "      <td>0.000131</td>\n",
       "      <td>0.000112</td>\n",
       "      <td>0.000138</td>\n",
       "      <td>0.000112</td>\n",
       "      <td>0.000087</td>\n",
       "      <td>0.000119</td>\n",
       "      <td>0.000335</td>\n",
       "      <td>0.000107</td>\n",
       "      <td>0.000094</td>\n",
       "      <td>0.000141</td>\n",
       "    </tr>\n",
       "    <tr>\n",
       "      <th>VZ</th>\n",
       "      <td>0.000096</td>\n",
       "      <td>0.000138</td>\n",
       "      <td>0.000099</td>\n",
       "      <td>0.000144</td>\n",
       "      <td>0.000104</td>\n",
       "      <td>0.000122</td>\n",
       "      <td>0.000094</td>\n",
       "      <td>0.000111</td>\n",
       "      <td>0.000114</td>\n",
       "      <td>0.000117</td>\n",
       "      <td>...</td>\n",
       "      <td>0.000085</td>\n",
       "      <td>0.000092</td>\n",
       "      <td>0.000105</td>\n",
       "      <td>0.000088</td>\n",
       "      <td>0.000073</td>\n",
       "      <td>0.000170</td>\n",
       "      <td>0.000107</td>\n",
       "      <td>0.000227</td>\n",
       "      <td>0.000078</td>\n",
       "      <td>0.000097</td>\n",
       "    </tr>\n",
       "    <tr>\n",
       "      <th>WMT</th>\n",
       "      <td>0.000099</td>\n",
       "      <td>0.000118</td>\n",
       "      <td>0.000092</td>\n",
       "      <td>0.000116</td>\n",
       "      <td>0.000098</td>\n",
       "      <td>0.000111</td>\n",
       "      <td>0.000068</td>\n",
       "      <td>0.000105</td>\n",
       "      <td>0.000096</td>\n",
       "      <td>0.000102</td>\n",
       "      <td>...</td>\n",
       "      <td>0.000085</td>\n",
       "      <td>0.000076</td>\n",
       "      <td>0.000100</td>\n",
       "      <td>0.000080</td>\n",
       "      <td>0.000078</td>\n",
       "      <td>0.000084</td>\n",
       "      <td>0.000094</td>\n",
       "      <td>0.000078</td>\n",
       "      <td>0.000223</td>\n",
       "      <td>0.000073</td>\n",
       "    </tr>\n",
       "    <tr>\n",
       "      <th>XOM</th>\n",
       "      <td>0.000116</td>\n",
       "      <td>0.000184</td>\n",
       "      <td>0.000175</td>\n",
       "      <td>0.000199</td>\n",
       "      <td>0.000182</td>\n",
       "      <td>0.000126</td>\n",
       "      <td>0.000249</td>\n",
       "      <td>0.000179</td>\n",
       "      <td>0.000143</td>\n",
       "      <td>0.000167</td>\n",
       "      <td>...</td>\n",
       "      <td>0.000123</td>\n",
       "      <td>0.000107</td>\n",
       "      <td>0.000121</td>\n",
       "      <td>0.000108</td>\n",
       "      <td>0.000072</td>\n",
       "      <td>0.000118</td>\n",
       "      <td>0.000141</td>\n",
       "      <td>0.000097</td>\n",
       "      <td>0.000073</td>\n",
       "      <td>0.000282</td>\n",
       "    </tr>\n",
       "  </tbody>\n",
       "</table>\n",
       "<p>27 rows × 27 columns</p>\n",
       "</div>"
      ],
      "text/plain": [
       "Symbol      AAPL       AXP        BA       BAC       CAT      CSCO       CVX  \\\n",
       "Symbol                                                                         \n",
       "AAPL    0.000671  0.000213  0.000168  0.000225  0.000187  0.000279  0.000122   \n",
       "AXP     0.000213  0.000521  0.000261  0.000432  0.000255  0.000239  0.000201   \n",
       "BA      0.000168  0.000261  0.000500  0.000263  0.000217  0.000178  0.000186   \n",
       "BAC     0.000225  0.000432  0.000263  0.000795  0.000290  0.000249  0.000221   \n",
       "CAT     0.000187  0.000255  0.000217  0.000290  0.000415  0.000192  0.000193   \n",
       "CSCO    0.000279  0.000239  0.000178  0.000249  0.000192  0.000554  0.000132   \n",
       "CVX     0.000122  0.000201  0.000186  0.000221  0.000193  0.000132  0.000311   \n",
       "DD      0.000167  0.000270  0.000235  0.000312  0.000268  0.000192  0.000192   \n",
       "DIS     0.000175  0.000249  0.000204  0.000246  0.000185  0.000203  0.000151   \n",
       "GE      0.000186  0.000288  0.000242  0.000330  0.000229  0.000211  0.000175   \n",
       "HD      0.000169  0.000226  0.000180  0.000235  0.000176  0.000182  0.000126   \n",
       "IBM     0.000169  0.000176  0.000144  0.000184  0.000153  0.000203  0.000117   \n",
       "INTC    0.000300  0.000246  0.000200  0.000251  0.000202  0.000338  0.000142   \n",
       "JNJ     0.000071  0.000105  0.000089  0.000106  0.000087  0.000079  0.000085   \n",
       "JPM     0.000219  0.000386  0.000244  0.000533  0.000260  0.000256  0.000199   \n",
       "KO      0.000078  0.000118  0.000106  0.000112  0.000096  0.000084  0.000089   \n",
       "MCD     0.000098  0.000134  0.000122  0.000132  0.000102  0.000107  0.000093   \n",
       "MMM     0.000125  0.000180  0.000152  0.000202  0.000179  0.000145  0.000125   \n",
       "MRK     0.000088  0.000135  0.000106  0.000141  0.000108  0.000097  0.000111   \n",
       "MSFT    0.000234  0.000205  0.000166  0.000206  0.000163  0.000255  0.000132   \n",
       "PFE     0.000089  0.000142  0.000115  0.000159  0.000117  0.000110  0.000108   \n",
       "PG      0.000069  0.000104  0.000085  0.000111  0.000086  0.000080  0.000070   \n",
       "T       0.000112  0.000165  0.000127  0.000175  0.000126  0.000132  0.000114   \n",
       "TRV     0.000133  0.000234  0.000172  0.000266  0.000167  0.000156  0.000154   \n",
       "VZ      0.000096  0.000138  0.000099  0.000144  0.000104  0.000122  0.000094   \n",
       "WMT     0.000099  0.000118  0.000092  0.000116  0.000098  0.000111  0.000068   \n",
       "XOM     0.000116  0.000184  0.000175  0.000199  0.000182  0.000126  0.000249   \n",
       "\n",
       "Symbol        DD       DIS        GE  ...       MMM       MRK      MSFT  \\\n",
       "Symbol                                ...                                 \n",
       "AAPL    0.000167  0.000175  0.000186  ...  0.000125  0.000088  0.000234   \n",
       "AXP     0.000270  0.000249  0.000288  ...  0.000180  0.000135  0.000205   \n",
       "BA      0.000235  0.000204  0.000242  ...  0.000152  0.000106  0.000166   \n",
       "BAC     0.000312  0.000246  0.000330  ...  0.000202  0.000141  0.000206   \n",
       "CAT     0.000268  0.000185  0.000229  ...  0.000179  0.000108  0.000163   \n",
       "CSCO    0.000192  0.000203  0.000211  ...  0.000145  0.000097  0.000255   \n",
       "CVX     0.000192  0.000151  0.000175  ...  0.000125  0.000111  0.000132   \n",
       "DD      0.000493  0.000200  0.000241  ...  0.000187  0.000124  0.000166   \n",
       "DIS     0.000200  0.000378  0.000205  ...  0.000138  0.000101  0.000173   \n",
       "GE      0.000241  0.000205  0.000447  ...  0.000171  0.000115  0.000166   \n",
       "HD      0.000191  0.000178  0.000185  ...  0.000140  0.000100  0.000165   \n",
       "IBM     0.000158  0.000143  0.000167  ...  0.000113  0.000082  0.000155   \n",
       "INTC    0.000201  0.000197  0.000210  ...  0.000147  0.000104  0.000273   \n",
       "JNJ     0.000095  0.000082  0.000091  ...  0.000085  0.000106  0.000080   \n",
       "JPM     0.000282  0.000238  0.000301  ...  0.000179  0.000137  0.000209   \n",
       "KO      0.000105  0.000092  0.000098  ...  0.000085  0.000079  0.000087   \n",
       "MCD     0.000115  0.000107  0.000112  ...  0.000085  0.000077  0.000093   \n",
       "MMM     0.000187  0.000138  0.000171  ...  0.000227  0.000089  0.000119   \n",
       "MRK     0.000124  0.000101  0.000115  ...  0.000089  0.000285  0.000096   \n",
       "MSFT    0.000166  0.000173  0.000166  ...  0.000119  0.000096  0.000376   \n",
       "PFE     0.000129  0.000106  0.000125  ...  0.000101  0.000145  0.000103   \n",
       "PG      0.000104  0.000079  0.000090  ...  0.000085  0.000083  0.000075   \n",
       "T       0.000137  0.000129  0.000137  ...  0.000099  0.000097  0.000112   \n",
       "TRV     0.000183  0.000149  0.000183  ...  0.000131  0.000112  0.000138   \n",
       "VZ      0.000111  0.000114  0.000117  ...  0.000085  0.000092  0.000105   \n",
       "WMT     0.000105  0.000096  0.000102  ...  0.000085  0.000076  0.000100   \n",
       "XOM     0.000179  0.000143  0.000167  ...  0.000123  0.000107  0.000121   \n",
       "\n",
       "Symbol       PFE        PG         T       TRV        VZ       WMT       XOM  \n",
       "Symbol                                                                        \n",
       "AAPL    0.000089  0.000069  0.000112  0.000133  0.000096  0.000099  0.000116  \n",
       "AXP     0.000142  0.000104  0.000165  0.000234  0.000138  0.000118  0.000184  \n",
       "BA      0.000115  0.000085  0.000127  0.000172  0.000099  0.000092  0.000175  \n",
       "BAC     0.000159  0.000111  0.000175  0.000266  0.000144  0.000116  0.000199  \n",
       "CAT     0.000117  0.000086  0.000126  0.000167  0.000104  0.000098  0.000182  \n",
       "CSCO    0.000110  0.000080  0.000132  0.000156  0.000122  0.000111  0.000126  \n",
       "CVX     0.000108  0.000070  0.000114  0.000154  0.000094  0.000068  0.000249  \n",
       "DD      0.000129  0.000104  0.000137  0.000183  0.000111  0.000105  0.000179  \n",
       "DIS     0.000106  0.000079  0.000129  0.000149  0.000114  0.000096  0.000143  \n",
       "GE      0.000125  0.000090  0.000137  0.000183  0.000117  0.000102  0.000167  \n",
       "HD      0.000106  0.000086  0.000115  0.000155  0.000104  0.000149  0.000116  \n",
       "IBM     0.000087  0.000065  0.000111  0.000123  0.000095  0.000080  0.000116  \n",
       "INTC    0.000109  0.000084  0.000133  0.000160  0.000120  0.000109  0.000140  \n",
       "JNJ     0.000105  0.000077  0.000076  0.000083  0.000070  0.000064  0.000084  \n",
       "JPM     0.000144  0.000099  0.000172  0.000249  0.000151  0.000120  0.000181  \n",
       "KO      0.000078  0.000087  0.000084  0.000094  0.000077  0.000068  0.000090  \n",
       "MCD     0.000072  0.000072  0.000076  0.000109  0.000068  0.000073  0.000084  \n",
       "MMM     0.000101  0.000085  0.000099  0.000131  0.000085  0.000085  0.000123  \n",
       "MRK     0.000145  0.000083  0.000097  0.000112  0.000092  0.000076  0.000107  \n",
       "MSFT    0.000103  0.000075  0.000112  0.000138  0.000105  0.000100  0.000121  \n",
       "PFE     0.000253  0.000082  0.000096  0.000112  0.000088  0.000080  0.000108  \n",
       "PG      0.000082  0.000185  0.000082  0.000087  0.000073  0.000078  0.000072  \n",
       "T       0.000096  0.000082  0.000265  0.000119  0.000170  0.000084  0.000118  \n",
       "TRV     0.000112  0.000087  0.000119  0.000335  0.000107  0.000094  0.000141  \n",
       "VZ      0.000088  0.000073  0.000170  0.000107  0.000227  0.000078  0.000097  \n",
       "WMT     0.000080  0.000078  0.000084  0.000094  0.000078  0.000223  0.000073  \n",
       "XOM     0.000108  0.000072  0.000118  0.000141  0.000097  0.000073  0.000282  \n",
       "\n",
       "[27 rows x 27 columns]"
      ]
     },
     "execution_count": 70,
     "metadata": {},
     "output_type": "execute_result"
    }
   ],
   "source": [
    "sigma = logret.cov()\n",
    "sigma"
   ]
  },
  {
   "cell_type": "markdown",
   "metadata": {
    "slideshow": {
     "slide_type": "subslide"
    }
   },
   "source": [
    "### Visualize volatility structure\n",
    "\n",
    "* Heatmap visualization of covariance and correlation"
   ]
  },
  {
   "cell_type": "code",
   "execution_count": 71,
   "metadata": {
    "slideshow": {
     "slide_type": "-"
    },
    "tags": []
   },
   "outputs": [
    {
     "data": {
      "image/png": "[encoded data removed]",
      "text/plain": [
       "<Figure size 2000x800 with 4 Axes>"
      ]
     },
     "metadata": {},
     "output_type": "display_data"
    }
   ],
   "source": [
    "import seaborn as sns\n",
    "fig, ax = plt.subplots(1, 2, figsize=(20, 8))\n",
    "sns.heatmap(logret.cov(),  square=True, ax=ax[0]).set_title('Covariance Matrix')\n",
    "sns.heatmap(logret.corr(), square=True, ax=ax[1]).set_title('Correlation Matrix')\n",
    "fig.show()"
   ]
  },
  {
   "cell_type": "markdown",
   "metadata": {
    "slideshow": {
     "slide_type": "subslide"
    }
   },
   "source": [
    "* Reordering variables group similar stocks together"
   ]
  },
  {
   "cell_type": "code",
   "execution_count": 72,
   "metadata": {
    "hideCode": true,
    "slideshow": {
     "slide_type": "-"
    },
    "tags": []
   },
   "outputs": [
    {
     "data": {
      "image/png": "[encoded data removed]",
      "text/plain": [
       "<Figure size 800x800 with 4 Axes>"
      ]
     },
     "metadata": {},
     "output_type": "display_data"
    }
   ],
   "source": [
    "clmap = sns.clustermap(logret.corr(), square=True, figsize=(8, 8));\n",
    "ordering = clmap.dendrogram_col.reordered_ind # save the hierarchical clustering generated variable ordering"
   ]
  },
  {
   "cell_type": "code",
   "execution_count": 73,
   "metadata": {
    "slideshow": {
     "slide_type": "subslide"
    },
    "tags": []
   },
   "outputs": [
    {
     "data": {
      "image/png": "[encoded data removed]",
      "text/plain": [
       "<Figure size 2000x800 with 4 Axes>"
      ]
     },
     "metadata": {},
     "output_type": "display_data"
    }
   ],
   "source": [
    "fig, ax = plt.subplots(1, 2, figsize=(20, 8))\n",
    "sns.heatmap(logret.cov().iloc[ordering, ordering],  square=True, ax=ax[0]).set_title('Covariance Matrix')\n",
    "sns.heatmap(logret.corr().iloc[ordering, ordering], square=True, ax=ax[1]).set_title('Correlation Matrix')\n",
    "fig.show()"
   ]
  },
  {
   "cell_type": "markdown",
   "metadata": {
    "slideshow": {
     "slide_type": "subslide"
    }
   },
   "source": [
    "## Calculate Minimum Variance Portfolio\n",
    "\n",
    "* $\\Sigma$ matrix is all that is specified\n",
    "* $\\Sigma$ characterizes the market\n",
    "* Minimize variance of portfolio $R_p$"
   ]
  },
  {
   "cell_type": "code",
   "execution_count": 74,
   "metadata": {
    "slideshow": {
     "slide_type": "-"
    },
    "tags": []
   },
   "outputs": [
    {
     "data": {
      "text/plain": [
       "8.479997553120573e-05"
      ]
     },
     "execution_count": 74,
     "metadata": {},
     "output_type": "execute_result"
    }
   ],
   "source": [
    "import cvxpy as cvx\n",
    "\n",
    "s, _ = sigma.shape # calculated from data\n",
    "\n",
    "w = cvx.Variable(s) # variables\n",
    "risk = cvx.quad_form(w, sigma.values)  # objective function\n",
    "prob = cvx.Problem(cvx.Minimize(risk), # optimization problem \n",
    "               [cvx.sum(w) == 1])      # fully invested portfolio constraint\n",
    "prob.solve()"
   ]
  },
  {
   "cell_type": "code",
   "execution_count": 75,
   "metadata": {
    "slideshow": {
     "slide_type": "subslide"
    },
    "tags": []
   },
   "outputs": [
    {
     "data": {
      "text/plain": [
       "array([ 0.01938583, -0.0708329 , -0.00869833, -0.01214688, -0.00455729,\n",
       "       -0.01596464,  0.04178972, -0.03793864,  0.01554599, -0.01195571,\n",
       "       -0.02396555,  0.10211545, -0.01747507,  0.21958877, -0.03110475,\n",
       "        0.14490991,  0.15145499,  0.08138111,  0.0117678 ,  0.01672814,\n",
       "        0.03019589,  0.11898728,  0.00600754,  0.01511878,  0.10867189,\n",
       "        0.13312742,  0.01786327])"
      ]
     },
     "execution_count": 75,
     "metadata": {},
     "output_type": "execute_result"
    }
   ],
   "source": [
    "w.value"
   ]
  },
  {
   "cell_type": "markdown",
   "metadata": {
    "slideshow": {
     "slide_type": "-"
    }
   },
   "source": [
    "* Positive weights indicate long positions\n",
    "* Negative weights indicate [short positions](https://en.wikipedia.org/wiki/Short_(finance))\n",
    "* Must sum to 1 (constraint)"
   ]
  },
  {
   "cell_type": "markdown",
   "metadata": {
    "slideshow": {
     "slide_type": "subslide"
    }
   },
   "source": [
    "* Other portfolio optimization variations:  \n",
    "    http://nbviewer.jupyter.org/github/cvxgrp/cvx_short_course/blob/master/applications/portfolio_optimization.ipynb"
   ]
  },
  {
   "cell_type": "markdown",
   "metadata": {
    "hideCode": true,
    "slideshow": {
     "slide_type": "subslide"
    }
   },
   "source": [
    "* `cvxpy` package makes it easy to solve many types of problems.\n",
    "* Portfolio allocation problem with target expected return constraint:\n",
    "\n",
    "$$ \\min_{x\\in\\mathbb{R}^s}\\ \\ x^\\intercal \\Sigma x\\\\\n",
    "\\text{subject to }\\mu^\\intercal x\\geq \\mu^* \\text{, and } \\mathbf{1}^\\intercal x = 1,$$\n",
    "\n",
    "* Expected returns, $\\mu$, is estimated from data (also $\\Sigma$)\n",
    "* Investor specifies target return $\\mu^*$"
   ]
  },
  {
   "cell_type": "code",
   "execution_count": 76,
   "metadata": {
    "slideshow": {
     "slide_type": "-"
    },
    "tags": []
   },
   "outputs": [
    {
     "data": {
      "text/plain": [
       "0.0002472038406842972"
      ]
     },
     "execution_count": 76,
     "metadata": {},
     "output_type": "execute_result"
    }
   ],
   "source": [
    "import cvxpy as cvx\n",
    "\n",
    "s,_ = sigma.shape\n",
    "\n",
    "w = cvx.Variable(s)\n",
    "risk = cvx.quad_form(w, sigma.values)\n",
    "prob = cvx.Problem(cvx.Minimize(risk), \n",
    "               [\n",
    "                   cvx.sum(w) == 1,\n",
    "                   mu.values@w >= 0.001\n",
    "               ]) \n",
    "prob.solve()"
   ]
  },
  {
   "cell_type": "code",
   "execution_count": 77,
   "metadata": {
    "slideshow": {
     "slide_type": "subslide"
    },
    "tags": []
   },
   "outputs": [
    {
     "data": {
      "text/plain": [
       "array([ 0.37134764, -0.05054319,  0.06071674, -0.15444118,  0.26331449,\n",
       "       -0.17187413,  0.1671869 , -0.18080102,  0.01227187, -0.35848913,\n",
       "        0.05243099, -0.08450445, -0.23249379,  0.39510156,  0.16064432,\n",
       "        0.01950681,  0.36513987,  0.08973753, -0.01886593,  0.14666474,\n",
       "       -0.09673143,  0.19238984, -0.04574282,  0.16630336, -0.05012627,\n",
       "       -0.00272693, -0.01541639])"
      ]
     },
     "execution_count": 77,
     "metadata": {},
     "output_type": "execute_result"
    }
   ],
   "source": [
    "w.value"
   ]
  },
  {
   "cell_type": "markdown",
   "metadata": {
    "slideshow": {
     "slide_type": "-"
    }
   },
   "source": [
    "* Higher target return achieved with more short positions\n",
    "* Constraint: $\\mu^\\intercal w=0.001$\n",
    "* Constraint: $\\mathbf{1}^\\intercal w=1$."
   ]
  },
  {
   "cell_type": "code",
   "execution_count": 78,
   "metadata": {
    "slideshow": {
     "slide_type": "subslide"
    },
    "tags": []
   },
   "outputs": [
    {
     "data": {
      "text/plain": [
       "1.0000000000000007"
      ]
     },
     "execution_count": 78,
     "metadata": {},
     "output_type": "execute_result"
    }
   ],
   "source": [
    "w.value.sum()"
   ]
  },
  {
   "cell_type": "code",
   "execution_count": 79,
   "metadata": {
    "slideshow": {
     "slide_type": "fragment"
    },
    "tags": []
   },
   "outputs": [
    {
     "data": {
      "text/plain": [
       "0.0009999999999999998"
      ]
     },
     "execution_count": 79,
     "metadata": {},
     "output_type": "execute_result"
    }
   ],
   "source": [
    "np.dot(mu.values,w.value)"
   ]
  },
  {
   "cell_type": "markdown",
   "metadata": {
    "slideshow": {
     "slide_type": "slide"
    }
   },
   "source": [
    "### Making the investment\n",
    "\n",
    "* Investing 1 dollar in a stock with 3% return over one time period makes me 3 cents:  \n",
    "    $$\\$1 \\cdot (1 + 0.03) = 1.03$$\n",
    "    \n",
    "* Investing a portfolio of worth $A_0$ dollars returns,\n",
    "    $$ A = A_0 (1+r_t^T w_t), $$\n",
    "    where elements of $r_t$ are returns at time $t$ and $w$ is portfolio allocation\n",
    "\n",
    "* Take allocation `w.value` and compute portfolio returns using historical returns: `logret`."
   ]
  },
  {
   "cell_type": "code",
   "execution_count": 80,
   "metadata": {
    "slideshow": {
     "slide_type": "-"
    },
    "tags": []
   },
   "outputs": [],
   "source": [
    "earned = np.dot(logret.fillna(method='bfill').values, w.value)"
   ]
  },
  {
   "cell_type": "markdown",
   "metadata": {
    "slideshow": {
     "slide_type": "subslide"
    }
   },
   "source": [
    "* Compute portfolio growth"
   ]
  },
  {
   "cell_type": "code",
   "execution_count": 81,
   "metadata": {
    "slideshow": {
     "slide_type": "fragment"
    },
    "tags": []
   },
   "outputs": [
    {
     "data": {
      "image/png": "[encoded data removed]",
      "text/plain": [
       "<Figure size 1000x800 with 1 Axes>"
      ]
     },
     "metadata": {},
     "output_type": "display_data"
    }
   ],
   "source": [
    "earnedcp = (1+earned[1:]).cumprod()\n",
    "ecp = pd.DataFrame(data=earnedcp.T, index=logret.index.values[1:], columns=['Portfolio Value'])\n",
    "ecp.plot(figsize=(10, 8));"
   ]
  },
  {
   "cell_type": "code",
   "execution_count": 82,
   "metadata": {
    "slideshow": {
     "slide_type": "subslide"
    },
    "tags": []
   },
   "outputs": [
    {
     "data": {
      "image/png": "[encoded data removed]",
      "text/plain": [
       "<Figure size 1000x800 with 1 Axes>"
      ]
     },
     "metadata": {},
     "output_type": "display_data"
    }
   ],
   "source": [
    "np.log10(ecp).plot(figsize=(10, 8));"
   ]
  },
  {
   "cell_type": "code",
   "execution_count": 83,
   "metadata": {
    "slideshow": {
     "slide_type": "subslide"
    },
    "tags": []
   },
   "outputs": [
    {
     "data": {
      "text/html": [
       "<div>\n",
       "<style scoped>\n",
       "    .dataframe tbody tr th:only-of-type {\n",
       "        vertical-align: middle;\n",
       "    }\n",
       "\n",
       "    .dataframe tbody tr th {\n",
       "        vertical-align: top;\n",
       "    }\n",
       "\n",
       "    .dataframe thead th {\n",
       "        text-align: right;\n",
       "    }\n",
       "</style>\n",
       "<table border=\"1\" class=\"dataframe\">\n",
       "  <thead>\n",
       "    <tr style=\"text-align: right;\">\n",
       "      <th></th>\n",
       "      <th>Portfolio Value</th>\n",
       "    </tr>\n",
       "  </thead>\n",
       "  <tbody>\n",
       "    <tr>\n",
       "      <th>2000-01-04</th>\n",
       "      <td>0.985326</td>\n",
       "    </tr>\n",
       "    <tr>\n",
       "      <th>2000-01-05</th>\n",
       "      <td>0.997855</td>\n",
       "    </tr>\n",
       "    <tr>\n",
       "      <th>2000-01-06</th>\n",
       "      <td>0.996480</td>\n",
       "    </tr>\n",
       "    <tr>\n",
       "      <th>2000-01-07</th>\n",
       "      <td>1.042948</td>\n",
       "    </tr>\n",
       "    <tr>\n",
       "      <th>2000-01-10</th>\n",
       "      <td>0.996762</td>\n",
       "    </tr>\n",
       "    <tr>\n",
       "      <th>...</th>\n",
       "      <td>...</td>\n",
       "    </tr>\n",
       "    <tr>\n",
       "      <th>2023-04-24</th>\n",
       "      <td>166.884076</td>\n",
       "    </tr>\n",
       "    <tr>\n",
       "      <th>2023-04-25</th>\n",
       "      <td>167.869475</td>\n",
       "    </tr>\n",
       "    <tr>\n",
       "      <th>2023-04-26</th>\n",
       "      <td>168.530741</td>\n",
       "    </tr>\n",
       "    <tr>\n",
       "      <th>2023-04-27</th>\n",
       "      <td>169.880811</td>\n",
       "    </tr>\n",
       "    <tr>\n",
       "      <th>2023-04-28</th>\n",
       "      <td>169.468631</td>\n",
       "    </tr>\n",
       "  </tbody>\n",
       "</table>\n",
       "<p>5867 rows × 1 columns</p>\n",
       "</div>"
      ],
      "text/plain": [
       "            Portfolio Value\n",
       "2000-01-04         0.985326\n",
       "2000-01-05         0.997855\n",
       "2000-01-06         0.996480\n",
       "2000-01-07         1.042948\n",
       "2000-01-10         0.996762\n",
       "...                     ...\n",
       "2023-04-24       166.884076\n",
       "2023-04-25       167.869475\n",
       "2023-04-26       168.530741\n",
       "2023-04-27       169.880811\n",
       "2023-04-28       169.468631\n",
       "\n",
       "[5867 rows x 1 columns]"
      ]
     },
     "execution_count": 83,
     "metadata": {},
     "output_type": "execute_result"
    }
   ],
   "source": [
    "ecp"
   ]
  },
  {
   "cell_type": "markdown",
   "metadata": {
    "slideshow": {
     "slide_type": "subslide"
    }
   },
   "source": [
    "* 1 dollar invested in 2000 would be 98 dollars today?\n",
    "* Unrealistic! Why?\n",
    "* Having knowledge of 20 years worth of data is cheating!"
   ]
  },
  {
   "cell_type": "markdown",
   "metadata": {
    "slideshow": {
     "slide_type": "subslide"
    }
   },
   "source": [
    "### Quantify results"
   ]
  },
  {
   "cell_type": "code",
   "execution_count": 84,
   "metadata": {
    "slideshow": {
     "slide_type": "-"
    },
    "tags": []
   },
   "outputs": [
    {
     "name": "stdout",
     "output_type": "stream",
     "text": [
      "portfolio average returns: 0.0009973288234111255\n",
      "          average stddev : 0.01572136914913045\n",
      "\n",
      "component stocks average: minimum: -0.000061\n",
      "                          average: 0.000267\n",
      "                          maximum: 0.000903\n",
      "component stocks stddev : minimum: 0.012216\n",
      "                          average: 0.018873\n",
      "                          maximum: 0.028196\n"
     ]
    }
   ],
   "source": [
    "retinfo = logret.mean(axis=0).agg(['min', 'mean', 'max'])\n",
    "stdinfo = logret.std(axis=0).agg(['min', 'mean', 'max'])\n",
    "print('portfolio average returns:', earned.mean())\n",
    "print('          average stddev :', earned.std())\n",
    "print('')\n",
    "print(\"component stocks average: minimum: %f\\n                          average: %f\\n                          maximum: %f\" % tuple(retinfo))\n",
    "print(\"component stocks stddev : minimum: %f\\n                          average: %f\\n                          maximum: %f\" % tuple(stdinfo))"
   ]
  },
  {
   "cell_type": "markdown",
   "metadata": {
    "slideshow": {
     "slide_type": "subslide"
    }
   },
   "source": [
    "Annual return would be:"
   ]
  },
  {
   "cell_type": "code",
   "execution_count": 85,
   "metadata": {
    "slideshow": {
     "slide_type": "-"
    },
    "tags": []
   },
   "outputs": [
    {
     "data": {
      "text/plain": [
       "0.4388491818835716"
      ]
     },
     "execution_count": 85,
     "metadata": {},
     "output_type": "execute_result"
    }
   ],
   "source": [
    "(1+earned.mean())**365 - 1"
   ]
  },
  {
   "cell_type": "markdown",
   "metadata": {
    "slideshow": {
     "slide_type": "fragment"
    }
   },
   "source": [
    "Again, unrealistic"
   ]
  },
  {
   "cell_type": "markdown",
   "metadata": {
    "slideshow": {
     "slide_type": "slide"
    }
   },
   "source": [
    "### Qualitative Visualization of Relationships\n",
    "\n",
    "* Correlations are stricly pairwise quantities (what about other stocks?)\n",
    "* Inverse covariance"
   ]
  },
  {
   "cell_type": "code",
   "execution_count": 86,
   "metadata": {
    "slideshow": {
     "slide_type": "-"
    },
    "tags": []
   },
   "outputs": [],
   "source": [
    "from sklearn import preprocessing\n",
    "scaler = preprocessing.StandardScaler()\n",
    "scaled_df = scaler.fit_transform(logret.dropna().values)\n",
    "scaled_df = pd.DataFrame(scaled_df, columns=logret.columns, index=logret.index[1:])"
   ]
  },
  {
   "cell_type": "markdown",
   "metadata": {},
   "source": [
    "#### Correlation Matrix: 2020"
   ]
  },
  {
   "cell_type": "code",
   "execution_count": 170,
   "metadata": {
    "tags": []
   },
   "outputs": [
    {
     "data": {
      "image/png": "[encoded data removed]",
      "text/plain": [
       "<Figure size 800x800 with 4 Axes>"
      ]
     },
     "metadata": {},
     "output_type": "display_data"
    }
   ],
   "source": [
    "clmap = sns.clustermap(scaled_df.loc['2020':'2020'].corr(), square=True, figsize=(8, 8));\n",
    "ordering = clmap.dendrogram_col.reordered_ind # save the hierarchical clustering generated variable ordering"
   ]
  },
  {
   "cell_type": "markdown",
   "metadata": {
    "slideshow": {
     "slide_type": "subslide"
    }
   },
   "source": [
    "#### Correlation Matrix: 2019 vs. 2020"
   ]
  },
  {
   "cell_type": "code",
   "execution_count": 87,
   "metadata": {
    "slideshow": {
     "slide_type": "-"
    },
    "tags": []
   },
   "outputs": [
    {
     "data": {
      "image/png": "[encoded data removed]",
      "text/plain": [
       "<Figure size 2000x800 with 4 Axes>"
      ]
     },
     "metadata": {},
     "output_type": "display_data"
    }
   ],
   "source": [
    "fig, ax = plt.subplots(1, 2, figsize=(20, 8))\n",
    "\n",
    "sns.heatmap(scaled_df.loc['2019':'2019'].corr().iloc[ordering, ordering],  square=True, ax=ax[0]).set_title('Correlation Matrix: 2019')\n",
    "sns.heatmap(scaled_df.loc['2020':'2020'].corr().iloc[ordering, ordering],  square=True, ax=ax[1]).set_title('Correlation Matrix: 2020')\n",
    "fig.show()"
   ]
  },
  {
   "cell_type": "markdown",
   "metadata": {
    "slideshow": {
     "slide_type": "slide"
    }
   },
   "source": [
    "### Reality check\n",
    "\n",
    "Obviously, this cannot be realistic. What aspects were unrealistic?\n",
    "\n",
    "1. We didn't take time into consideration: e.g. estimation of $\\Sigma$ and selecting `w`.\n",
    "1. We are investing with knowledge of the future returns!\n",
    "1. We did not take into account transaction costs (we will have to) \n",
    "1. We did not take into account shorting requires borrowing of money\n",
    "1. Is investing in stocks better than leaving our money in a savings account? What is the interest rate?\n",
    "\n",
    "Sharpe ratio tries to quantify the added benefit, i.e., excess returns, of investing in the volatile market by accounting for the volatility:\n",
    "$$\\text{Sharpe ratio}=\\frac{E\\left[R_{p}-R_{f}\\right]}{\\sigma_{p}}$$\n",
    "where $R_f$ is the risk-free rate."
   ]
  },
  {
   "cell_type": "markdown",
   "metadata": {
    "slideshow": {
     "slide_type": "subslide"
    }
   },
   "source": [
    "### Other considerations\n",
    "\n",
    "1. Picking component stocks (choosing what to invest in)\n",
    "    1. Playing the role of the fund manager\n",
    "    1. Expertise about a specific market\n",
    "    1. Warren Buffet says stick with long term _value_ investing strategies\n",
    "    1. High-frequency trading makes money by constantly shuffling investments and making incremental returns\n",
    "    1. Where is the middle ground? i.e., choosing strategies\n",
    "1. Choosing monitoring strategies (keeping an eye out for changes in the market)\n",
    "    1. Estimation of $\\Sigma$ becomes challenging with shorter historical data\n",
    "    1. \"Regularized\" estimates of $\\Sigma$: Ledoit-Wolfe, Condition number, Sparsity inducing, Low-rank\n",
    "    1. How big of a change in the market is signficant change?\n",
    "    1. Where to look for a change? Component stocks? Market indices? Economic indicators? Consumer sentiment? Policy changes?\n",
    "    1. Deciding when to take action. How big of a change warrants an action? (Actions cost money)\n",
    "1. Choosing rebalancing strategy (deciding when to shuffle your investments)  \n",
    "    1. Fixed intervals? dynamic intervals? \n",
    "    1. Allowing for shorts?\n",
    "    1. If many component stocks, do you trade all of them even if the change is small? etc."
   ]
  },
  {
   "cell_type": "markdown",
   "metadata": {},
   "source": [
    "## Other optimization problems for modeling and learning\n",
    "\n",
    "1. [Online advertising](https://github.com/UCSB-PSTAT-134-234/Spring2019/blob/master/labs/lab05/lab05.ipynb)\n",
    "1. [Trend filtering](https://web.stanford.edu/~boyd/l1_tf/), [CVX example](https://www.cvxpy.org/examples/applications/l1_trend_filter.html)\n",
    "1. [Catching a smuggler](https://www.cvxpy.org/examples/applications/interdiction.html)\n",
    "1. [Estimating sparse inverse covariance matrix](https://www.cvxpy.org/examples/applications/sparse_covariance_est.html)\n",
    "1. [Max-flow, Min-cut problem](https://www.cvxpy.org/examples/applications/OOCO.html)\n",
    "1. Many more!!"
   ]
  },
  {
   "cell_type": "code",
   "execution_count": null,
   "metadata": {},
   "outputs": [],
   "source": []
  }
 ],
 "metadata": {
  "celltoolbar": "Slideshow",
  "kernelspec": {
   "display_name": "Python 3 (ipykernel)",
   "language": "python",
   "name": "python3"
  },
  "language_info": {
   "codemirror_mode": {
    "name": "ipython",
    "version": 3
   },
   "file_extension": ".py",
   "mimetype": "text/x-python",
   "name": "python",
   "nbconvert_exporter": "python",
   "pygments_lexer": "ipython3",
   "version": "3.11.1"
  },
  "toc": {
   "base_numbering": 1,
   "nav_menu": {},
   "number_sections": false,
   "sideBar": true,
   "skip_h1_title": false,
   "title_cell": "Table of Contents",
   "title_sidebar": "Contents",
   "toc_cell": false,
   "toc_position": {
    "height": "calc(100% - 180px)",
    "left": "10px",
    "top": "150px",
    "width": "252.667px"
   },
   "toc_section_display": true,
   "toc_window_display": false
  },
  "vscode": {
   "interpreter": {
    "hash": "d4d1e4263499bec80672ea0156c357c1ee493ec2b1c70f0acce89fc37c4a6abe"
   }
  }
 },
 "nbformat": 4,
 "nbformat_minor": 4
}
