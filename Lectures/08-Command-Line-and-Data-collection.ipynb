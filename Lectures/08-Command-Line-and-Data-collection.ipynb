{
 "cells": [
  {
   "cell_type": "markdown",
   "metadata": {
    "slideshow": {
     "slide_type": "slide"
    }
   },
   "source": [
    "# PSTAT 134/234 - Command Line Interface (CLI) & Data collection <a class=\"tocSkip\">"
   ]
  },
  {
   "cell_type": "markdown",
   "metadata": {
    "slideshow": {
     "slide_type": "slide"
    }
   },
   "source": [
    "## GUI? CLI?"
   ]
  },
  {
   "cell_type": "markdown",
   "metadata": {
    "slideshow": {
     "slide_type": "fragment"
    }
   },
   "source": [
    "- **Graphical User Interface (GUI)**:  \n",
    "    interaction via graphical objects  \n",
    "    e.g., Microsoft Windows and Apple OS X"
   ]
  },
  {
   "cell_type": "markdown",
   "metadata": {
    "slideshow": {
     "slide_type": "fragment"
    },
    "tags": []
   },
   "source": [
    "- **Command Line Interface (CLI)**:  \n",
    "    interaction via commands typed into shell  \n",
    "    e.g., bash, zsh, tcsh, etc."
   ]
  },
  {
   "cell_type": "markdown",
   "metadata": {
    "slideshow": {
     "slide_type": "fragment"
    }
   },
   "source": [
    "- Shell is often accessed by terminal [Terminal in Jupyter]    "
   ]
  },
  {
   "cell_type": "markdown",
   "metadata": {
    "slideshow": {
     "slide_type": "fragment"
    }
   },
   "source": [
    "- GUI is simple to use everyday but not easy to automate repetitive tasks with"
   ]
  },
  {
   "cell_type": "markdown",
   "metadata": {
    "slideshow": {
     "slide_type": "fragment"
    }
   },
   "source": [
    "- CLI is more cumbersome to use everyday but scriptable"
   ]
  },
  {
   "cell_type": "markdown",
   "metadata": {
    "slideshow": {
     "slide_type": "slide"
    }
   },
   "source": [
    "## Shell commands\n",
    "\n",
    "### References to learn shell command line\n",
    "\n",
    "- **Required reading: [Software Carpentry Shell Novice Lesson](http://swcarpentry.github.io/shell-novice/)**"
   ]
  },
  {
   "cell_type": "code",
   "execution_count": null,
   "metadata": {},
   "outputs": [],
   "source": [
    "! wget https://swcarpentry.github.io/shell-novice/data/shell-lesson-data.zip\n",
    "! unzip shell-lesson-data.zip\n",
    "## In the terminal\n",
    "# cd shell-lesson-data/exercise-data/alkanes\n",
    "# ls *.pdb  ## * any number of characters\n",
    "# ?ethane.pdb  ## ? single character\n",
    "#mkdir file_test\n",
    "# mv octane.pdb file_test/octane.pdb\n",
    "# cp octane.pdb file_test/octane_copy.pdb\n",
    "# nano test.txt  ## Ctrl + o, ctrl + x\n",
    "# rm test.txt\n",
    "# rm -i test_txt\n",
    "# rm -r -i file_test\n",
    "# echo \"Hello!\"\n",
    "# echo \"This is a test\" > test.txt\n",
    "# echo \"This is a second line\" >> test.txt"
   ]
  },
  {
   "cell_type": "markdown",
   "metadata": {
    "slideshow": {
     "slide_type": "fragment"
    }
   },
   "source": [
    "- [Explain Shell](https://explainshell.com/)"
   ]
  },
  {
   "cell_type": "markdown",
   "metadata": {},
   "source": [
    "### Commonly used commands for text files\n",
    "\n",
    "- `cat`: prints content of a file\n",
    "- `head`: prints first few lines of a file\n",
    "- `sed`: (stream editor) changes texts\n",
    "- `paste`: merges lines of files.\n",
    "- `cut`: processes columns in delimited text file\n",
    "- `find`: searches file system\n",
    "- `grep`: searches text given regular expression pattern\n",
    "- `sort`: sort a file line by line\n",
    "- `uniq`: keeps unique lines of a sorted text\n",
    "- etc."
   ]
  },
  {
   "cell_type": "markdown",
   "metadata": {
    "slideshow": {
     "slide_type": "slide"
    }
   },
   "source": [
    "### Anatomy of shell commands\n",
    "\n",
    "Here is a simple shell command:"
   ]
  },
  {
   "cell_type": "code",
   "execution_count": null,
   "metadata": {
    "slideshow": {
     "slide_type": "fragment"
    },
    "tags": []
   },
   "outputs": [],
   "source": [
    "! cat --help ## most shell commands have built-in help"
   ]
  },
  {
   "cell_type": "code",
   "execution_count": null,
   "metadata": {
    "tags": []
   },
   "outputs": [],
   "source": [
    "! head --help"
   ]
  },
  {
   "cell_type": "markdown",
   "metadata": {
    "slideshow": {
     "slide_type": "fragment"
    }
   },
   "source": [
    "1. `cat`: program name"
   ]
  },
  {
   "cell_type": "markdown",
   "metadata": {
    "slideshow": {
     "slide_type": "fragment"
    }
   },
   "source": [
    "2. `[OPTION]`: controls program behavior"
   ]
  },
  {
   "cell_type": "markdown",
   "metadata": {
    "slideshow": {
     "slide_type": "fragment"
    }
   },
   "source": [
    "3. `[FILE]`: specify file to read from or standard input"
   ]
  },
  {
   "cell_type": "markdown",
   "metadata": {
    "slideshow": {
     "slide_type": "slide"
    }
   },
   "source": [
    "### Example: Downloading Files\n",
    "\n",
    "- URLs of files are directly visible (e.g., Github)\n",
    "\n",
    "- `wget` is simple and effective download tool\n",
    "\n",
    "- Example: https://github.com/fivethirtyeight/data\n",
    "\n",
    "- \"Raw\" button is the URL for actual file\n",
    "\n",
    "- Take the candy ratings data: https://github.com/fivethirtyeight/data/tree/master/candy-power-ranking\n",
    "\n",
    "- `wget` can be used to download files to course jupyterhub"
   ]
  },
  {
   "cell_type": "code",
   "execution_count": null,
   "metadata": {
    "slideshow": {
     "slide_type": "fragment"
    },
    "tags": []
   },
   "outputs": [],
   "source": [
    "%%bash\n",
    "wget https://raw.githubusercontent.com/fivethirtyeight/data/master/candy-power-ranking/candy-data.csv"
   ]
  },
  {
   "cell_type": "markdown",
   "metadata": {
    "slideshow": {
     "slide_type": "slide"
    }
   },
   "source": [
    "### Example: Viewing file contents "
   ]
  },
  {
   "cell_type": "code",
   "execution_count": 4,
   "metadata": {
    "slideshow": {
     "slide_type": "fragment"
    },
    "tags": []
   },
   "outputs": [
    {
     "name": "stdout",
     "output_type": "stream",
     "text": [
      "competitorname,chocolate,fruity,caramel,peanutyalmondy,nougat,crispedricewafer,hard,bar,pluribus,sugarpercent,pricepercent,winpercent\n",
      "100 Grand,1,0,1,0,0,1,0,1,0,.73199999,.86000001,66.971725\n",
      "3 Musketeers,1,0,0,0,1,0,0,1,0,.60399997,.51099998,67.602936\n",
      "One dime,0,0,0,0,0,0,0,0,0,.011,.116,32.261086\n",
      "One quarter,0,0,0,0,0,0,0,0,0,.011,.51099998,46.116505\n",
      "Air Heads,0,1,0,0,0,0,0,0,0,.90600002,.51099998,52.341465\n",
      "Almond Joy,1,0,0,1,0,0,0,1,0,.465,.76700002,50.347546\n",
      "Baby Ruth,1,0,1,1,1,0,0,1,0,.60399997,.76700002,56.914547\n",
      "Boston Baked Beans,0,0,0,1,0,0,0,0,1,.31299999,.51099998,23.417824\n",
      "Candy Corn,0,0,0,0,0,0,0,0,1,.90600002,.32499999,38.010963\n"
     ]
    }
   ],
   "source": [
    "%%bash\n",
    "head candy-data.csv"
   ]
  },
  {
   "cell_type": "code",
   "execution_count": 5,
   "metadata": {
    "slideshow": {
     "slide_type": "fragment"
    },
    "tags": []
   },
   "outputs": [
    {
     "name": "stdout",
     "output_type": "stream",
     "text": [
      "competitorname,chocolate,fruity,caramel,peanutyalmondy,nougat,crispedricewafer,hard,bar,pluribus,sugarpercent,pricepercent,winpercent\n",
      "100 Grand,1,0,1,0,0,1,0,1,0,.73199999,.86000001,66.971725\n",
      "3 Musketeers,1,0,0,0,1,0,0,1,0,.60399997,.51099998,67.602936\n",
      "One dime,0,0,0,0,0,0,0,0,0,.011,.116,32.261086\n",
      "One quarter,0,0,0,0,0,0,0,0,0,.011,.51099998,46.116505\n",
      "Air Heads,0,1,0,0,0,0,0,0,0,.90600002,.51099998,52.341465\n",
      "Almond Joy,1,0,0,1,0,0,0,1,0,.465,.76700002,50.347546\n",
      "Baby Ruth,1,0,1,1,1,0,0,1,0,.60399997,.76700002,56.914547\n",
      "Boston Baked Beans,0,0,0,1,0,0,0,0,1,.31299999,.51099998,23.417824\n",
      "Candy Corn,0,0,0,0,0,0,0,0,1,.90600002,.32499999,38.010963\n"
     ]
    }
   ],
   "source": [
    "! head candy-data.csv ## also works"
   ]
  },
  {
   "cell_type": "code",
   "execution_count": 6,
   "metadata": {
    "slideshow": {
     "slide_type": "fragment"
    },
    "tags": []
   },
   "outputs": [
    {
     "name": "stdout",
     "output_type": "stream",
     "text": [
      "competitorname,chocolate,fruity,caramel,peanutyalmondy,nougat,crispedricewafer,hard,bar,pluribus,sugarpercent,pricepercent,winpercent\n",
      "100 Grand,1,0,1,0,0,1,0,1,0,.73199999,.86000001,66.971725\n",
      "3 Musketeers,1,0,0,0,1,0,0,1,0,.60399997,.51099998,67.602936\n",
      "One dime,0,0,0,0,0,0,0,0,0,.011,.116,32.261086\n",
      "One quarter,0,0,0,0,0,0,0,0,0,.011,.51099998,46.116505\n",
      "Air Heads,0,1,0,0,0,0,0,0,0,.90600002,.51099998,52.341465\n",
      "Almond Joy,1,0,0,1,0,0,0,1,0,.465,.76700002,50.347546\n",
      "Baby Ruth,1,0,1,1,1,0,0,1,0,.60399997,.76700002,56.914547\n"
     ]
    }
   ],
   "source": [
    "! head -n 8 candy-data.csv  ## first line is the header"
   ]
  },
  {
   "cell_type": "code",
   "execution_count": 7,
   "metadata": {
    "tags": []
   },
   "outputs": [
    {
     "name": "stdout",
     "output_type": "stream",
     "text": [
      "Twizzlers,0,1,0,0,0,0,0,0,0,.22,.116,45.466282\n",
      "Warheads,0,1,0,0,0,0,1,0,0,.093000002,.116,39.011898\n",
      "Welch's Fruit Snacks,0,1,0,0,0,0,0,0,1,.31299999,.31299999,44.375519\n",
      "Werther's Original Caramel,0,0,1,0,0,0,1,0,0,.186,.26699999,41.904308\n",
      "Whoppers,1,0,0,0,0,1,0,0,1,.87199998,.84799999,49.524113\n"
     ]
    }
   ],
   "source": [
    "! tail -n5 candy-data.csv "
   ]
  },
  {
   "cell_type": "code",
   "execution_count": 8,
   "metadata": {
    "tags": []
   },
   "outputs": [
    {
     "name": "stdout",
     "output_type": "stream",
     "text": [
      "188 candy-data.csv\n"
     ]
    }
   ],
   "source": [
    "! wc -w candy-data.csv  ##word count"
   ]
  },
  {
   "cell_type": "code",
   "execution_count": 9,
   "metadata": {
    "slideshow": {
     "slide_type": "slide"
    },
    "tags": []
   },
   "outputs": [
    {
     "name": "stdout",
     "output_type": "stream",
     "text": [
      "5193 candy-data.csv\n"
     ]
    }
   ],
   "source": [
    "! wc -c candy-data.csv      ## counts lines in text file"
   ]
  },
  {
   "cell_type": "code",
   "execution_count": 10,
   "metadata": {
    "slideshow": {
     "slide_type": "fragment"
    },
    "tags": []
   },
   "outputs": [
    {
     "name": "stdout",
     "output_type": "stream",
     "text": [
      "competitorname,chocolate,fruity,caramel\n",
      "100 Grand,1,0,1\n",
      "3 Musketeers,1,0,0\n",
      "One dime,0,0,0\n",
      "One quarter,0,0,0\n",
      "Air Heads,0,1,0\n",
      "Almond Joy,1,0,0\n",
      "Baby Ruth,1,0,1\n",
      "Boston Baked Beans,0,0,0\n",
      "Candy Corn,0,0,0\n",
      "Caramel Apple Pops,0,1,1\n",
      "Charleston Chew,1,0,0\n",
      "Chewey Lemonhead Fruit Mix,0,1,0\n",
      "Chiclets,0,1,0\n",
      "Dots,0,1,0\n",
      "Dum Dums,0,1,0\n",
      "Fruit Chews,0,1,0\n",
      "Fun Dip,0,1,0\n",
      "Gobstopper,0,1,0\n",
      "Haribo Gold Bears,0,1,0\n",
      "Haribo Happy Cola,0,0,0\n",
      "Haribo Sour Bears,0,1,0\n",
      "Haribo Twin Snakes,0,1,0\n",
      "Hershey's Kisses,1,0,0\n",
      "Hershey's Krackel,1,0,0\n",
      "Hershey's Milk Chocolate,1,0,0\n",
      "Hershey's Special Dark,1,0,0\n",
      "Jawbusters,0,1,0\n",
      "Junior Mints,1,0,0\n",
      "Kit Kat,1,0,0\n",
      "Laffy Taffy,0,1,0\n",
      "Lemonhead,0,1,0\n",
      "Lifesavers big ring gummies,0,1,0\n",
      "Peanut butter M&M's,1,0,0\n",
      "M&M's,1,0,0\n",
      "Mike & Ike,0,1,0\n",
      "Milk Duds,1,0,1\n",
      "Milky Way,1,0,1\n",
      "Milky Way Midnight,1,0,1\n",
      "Milky Way Simply Caramel,1,0,1\n",
      "Mounds,1,0,0\n",
      "Mr Good Bar,1,0,0\n",
      "Nerds,0,1,0\n",
      "Nestle Butterfinger,1,0,0\n",
      "Nestle Crunch,1,0,0\n",
      "Nik L Nip,0,1,0\n",
      "Now & Later,0,1,0\n",
      "Payday,0,0,0\n",
      "Peanut M&Ms,1,0,0\n",
      "Pixie Sticks,0,0,0\n",
      "Pop Rocks,0,1,0\n",
      "Red vines,0,1,0\n",
      "Reese's Miniatures,1,0,0\n",
      "Reese's Peanut Butter cup,1,0,0\n",
      "Reese's pieces,1,0,0\n",
      "Reese's stuffed with pieces,1,0,0\n",
      "Ring pop,0,1,0\n",
      "Rolo,1,0,1\n",
      "Root Beer Barrels,0,0,0\n",
      "Runts,0,1,0\n",
      "Sixlets,1,0,0\n",
      "Skittles original,0,1,0\n",
      "Skittles wildberry,0,1,0\n",
      "Nestle Smarties,1,0,0\n",
      "Smarties candy,0,1,0\n",
      "Snickers,1,0,1\n",
      "Snickers Crisper,1,0,1\n",
      "Sour Patch Kids,0,1,0\n",
      "Sour Patch Tricksters,0,1,0\n",
      "Starburst,0,1,0\n",
      "Strawberry bon bons,0,1,0\n",
      "Sugar Babies,0,0,1\n",
      "Sugar Daddy,0,0,1\n",
      "Super Bubble,0,1,0\n",
      "Swedish Fish,0,1,0\n",
      "Tootsie Pop,1,1,0\n",
      "Tootsie Roll Juniors,1,0,0\n",
      "Tootsie Roll Midgies,1,0,0\n",
      "Tootsie Roll Snack Bars,1,0,0\n",
      "Trolli Sour Bites,0,1,0\n",
      "Twix,1,0,1\n",
      "Twizzlers,0,1,0\n",
      "Warheads,0,1,0\n",
      "Welch's Fruit Snacks,0,1,0\n",
      "Werther's Original Caramel,0,0,1\n",
      "Whoppers,1,0,0\n"
     ]
    }
   ],
   "source": [
    "! cut -d',' -f 1-4 candy-data.csv    ## prints columns of delimited by commas text"
   ]
  },
  {
   "cell_type": "code",
   "execution_count": 11,
   "metadata": {
    "slideshow": {
     "slide_type": "fragment"
    },
    "tags": []
   },
   "outputs": [
    {
     "name": "stdout",
     "output_type": "stream",
     "text": [
      "Sugar Babies,0,0,1,0,0,0,0,0,1,.96499997,.76700002,33.43755\n",
      "Sugar Daddy,0,0,1,0,0,0,0,0,0,.41800001,.32499999,32.230995\n"
     ]
    }
   ],
   "source": [
    "! grep 'Sugar' candy-data.csv      ## finds lines with pattern (regular expression)"
   ]
  },
  {
   "cell_type": "markdown",
   "metadata": {
    "slideshow": {
     "slide_type": "slide"
    }
   },
   "source": [
    "### Chaining commands together\n",
    "\n",
    "- Commands can be chained together using \"pipes\"\n",
    "\n",
    "- Many commands in the shell sends output to what is called \"stdout\" (essentially printing to screen)\n",
    "\n",
    "- Pipe enable \"stdout\" to be input into another command via \"stdin\" (standard input).\n",
    "\n",
    "- Hence, we can make commands such as the following"
   ]
  },
  {
   "cell_type": "code",
   "execution_count": 12,
   "metadata": {
    "tags": []
   },
   "outputs": [
    {
     "name": "stdout",
     "output_type": "stream",
     "text": [
      "One quarter,0,0,0,0,0,0,0,0,0,.011,.51099998,46.116505\n"
     ]
    }
   ],
   "source": [
    "! head -n5 candy-data.csv | tail -n1"
   ]
  },
  {
   "cell_type": "code",
   "execution_count": 13,
   "metadata": {
    "tags": []
   },
   "outputs": [
    {
     "name": "stdout",
     "output_type": "stream",
     "text": [
      "competitorname,chocolate,fruity,caramel,peanutyalmondy,nougat,crispedricewafer,hard,bar,pluribus,sugarpercent,pricepercent,winpercent\n"
     ]
    }
   ],
   "source": [
    "! head -n1 candy-data.csv"
   ]
  },
  {
   "cell_type": "code",
   "execution_count": 14,
   "metadata": {
    "slideshow": {
     "slide_type": "fragment"
    },
    "tags": []
   },
   "outputs": [
    {
     "name": "stdout",
     "output_type": "stream",
     "text": [
      "competitorname\n",
      "chocolate\n",
      "fruity\n",
      "caramel\n",
      "peanutyalmondy\n",
      "nougat\n",
      "crispedricewafer\n",
      "hard\n",
      "bar\n",
      "pluribus\n",
      "sugarpercent\n",
      "pricepercent\n",
      "winpercent\n"
     ]
    }
   ],
   "source": [
    "! head -n1 candy-data.csv | sed 's/,/\\n/g' # stream editor: \\n is a special character for new line;g:global sustitution"
   ]
  },
  {
   "cell_type": "code",
   "execution_count": 15,
   "metadata": {
    "slideshow": {
     "slide_type": "fragment"
    },
    "tags": []
   },
   "outputs": [
    {
     "name": "stdout",
     "output_type": "stream",
     "text": [
      "competitorname\n",
      "CHOCOLATE\n",
      "fruity\n",
      "caramel\n",
      "peanutyalmondy\n",
      "nougat\n",
      "crispedricewafer\n",
      "hard\n",
      "bar\n",
      "pluribus\n",
      "sugarpercent\n",
      "pricepercent\n",
      "winpercent\n"
     ]
    }
   ],
   "source": [
    "! head -n1 candy-data.csv | sed 's/,/\\n/g' | sed 's/chocolate/CHOCOLATE/g'"
   ]
  },
  {
   "cell_type": "markdown",
   "metadata": {
    "slideshow": {
     "slide_type": "slide"
    }
   },
   "source": [
    "### Example: Text file download, search, and manipulation\n",
    "\n",
    "Comands like `grep`, `sed` and `awk` can be used for text processing."
   ]
  },
  {
   "cell_type": "code",
   "execution_count": 16,
   "metadata": {
    "scrolled": true,
    "slideshow": {
     "slide_type": "fragment"
    },
    "tags": []
   },
   "outputs": [
    {
     "name": "stdout",
     "output_type": "stream",
     "text": [
      "https://www.irs.gov/pub/irs-soi/2010zipcode.zip\n",
      "https://www.irs.gov/pub/irs-soi/2009zipcode.zip\n",
      "https://www.irs.gov/pub/irs-soi/2008zipcode.zip\n",
      "https://www.irs.gov/pub/irs-soi/2007zipcode.zip\n",
      "https://www.irs.gov/pub/irs-soi/2006zipcode.zip\n",
      "https://www.irs.gov/pub/irs-soi/2005zipcode.zip\n",
      "https://www.irs.gov/pub/irs-soi/2004zipcode.zip\n",
      "https://www.irs.gov/pub/irs-soi/2002zipcode.zip\n",
      "https://www.irs.gov/pub/irs-soi/2001zipcode.zip\n",
      "https://www.irs.gov/pub/irs-soi/1998zipcode.zip\n"
     ]
    }
   ],
   "source": [
    "%%bash\n",
    "# - quiet mode, -O standard output\n",
    "wget -q -O - https://www.irs.gov/statistics/soi-tax-stats-individual-income-tax-statistics-zip-code-data-soi \\\n",
    "   | grep 'zipcode.zip' \\\n",
    "| sed 's/<a data/\\n<a data/g' \\ ##stream editor to add new line\n",
    "| grep -Po '(?<=href=\")[^\"]*(?=\")' #Po pearl compatible"
   ]
  },
  {
   "cell_type": "markdown",
   "metadata": {
    "slideshow": {
     "slide_type": "slide"
    }
   },
   "source": [
    "## Shell and Jupyter Notebook\n",
    "\n",
    "Shell and Jupyter can interact with each other by passing values back and forth: e.g."
   ]
  },
  {
   "cell_type": "markdown",
   "metadata": {
    "slideshow": {
     "slide_type": "fragment"
    }
   },
   "source": [
    "1. In shell, grab a webpage, extract all links, filter file links that end with `zipcode.zip`.  \n",
    "    Then, pass the file links as python variable: `files`"
   ]
  },
  {
   "cell_type": "markdown",
   "metadata": {
    "slideshow": {
     "slide_type": "fragment"
    }
   },
   "source": [
    "2. In python, loop through the file links.  \n",
    "    In each iteration, pass one file name, `f`, back to shell."
   ]
  },
  {
   "cell_type": "markdown",
   "metadata": {
    "slideshow": {
     "slide_type": "fragment"
    }
   },
   "source": [
    "3. In shell, download the file at the link using `wget`"
   ]
  },
  {
   "cell_type": "code",
   "execution_count": 17,
   "metadata": {
    "slideshow": {
     "slide_type": "slide"
    },
    "tags": []
   },
   "outputs": [
    {
     "data": {
      "text/plain": [
       "['https://www.irs.gov/pub/irs-soi/2010zipcode.zip',\n",
       " 'https://www.irs.gov/pub/irs-soi/2009zipcode.zip',\n",
       " 'https://www.irs.gov/pub/irs-soi/2008zipcode.zip',\n",
       " 'https://www.irs.gov/pub/irs-soi/2007zipcode.zip',\n",
       " 'https://www.irs.gov/pub/irs-soi/2006zipcode.zip',\n",
       " 'https://www.irs.gov/pub/irs-soi/2005zipcode.zip',\n",
       " 'https://www.irs.gov/pub/irs-soi/2004zipcode.zip',\n",
       " 'https://www.irs.gov/pub/irs-soi/2002zipcode.zip',\n",
       " 'https://www.irs.gov/pub/irs-soi/2001zipcode.zip',\n",
       " 'https://www.irs.gov/pub/irs-soi/1998zipcode.zip']"
      ]
     },
     "execution_count": 17,
     "metadata": {},
     "output_type": "execute_result"
    }
   ],
   "source": [
    "files = !wget -q -O - https://www.irs.gov/statistics/soi-tax-stats-individual-income-tax-statistics-zip-code-data-soi | grep 'zipcode.zip' | sed 's/<a data/\\n<a data/g' | grep -Po '(?<=href=\")[^\"]*(?=\")'\n",
    "files  ## file names from bash is in python variable!  WHat if we removed -O -"
   ]
  },
  {
   "cell_type": "code",
   "execution_count": 18,
   "metadata": {
    "slideshow": {
     "slide_type": "fragment"
    },
    "tags": []
   },
   "outputs": [
    {
     "name": "stdout",
     "output_type": "stream",
     "text": [
      "File ‘2010zipcode.zip’ already there; not retrieving.\n",
      "\n",
      "File ‘2009zipcode.zip’ already there; not retrieving.\n",
      "\n",
      "File ‘2008zipcode.zip’ already there; not retrieving.\n",
      "\n"
     ]
    }
   ],
   "source": [
    "for f in files[:3]:\n",
    "    ! wget -nc {f}        ## pass python variables into shell! What if we removed -nc??"
   ]
  },
  {
   "cell_type": "markdown",
   "metadata": {
    "slideshow": {
     "slide_type": "subslide"
    }
   },
   "source": [
    "### User Agent string\n",
    "\n",
    "* Sometimes pages in browser look different than downloaded code\n",
    "\n",
    "* The [user agent string](https://developer.mozilla.org/en-US/docs/Web/HTTP/Headers/User-Agent) self-identify application, operating system, vendor, and/or version of the requesting user agent\n",
    "\n",
    "* For example, here is a [list for Chrome browsers](https://www.useragentstring.com/pages/Chrome/)\n",
    " \n",
    "   - Mozilla/5.0 (Windows NT 10.0; Win64; x64) AppleWebKit/537.36 (KHTML, like Gecko) Chrome/90.0.4430.212 Safari/537.36\n",
    "\n",
    "\n",
    "\n",
    "* `wget --user-agent=\"User Agent Here\" \"[URL]\"`\n",
    "\n",
    "   - `wget --user-agent=\"Mozilla/5.0 (Windows NT 10.0; Win64; x64) AppleWebKit/537.36 (KHTML, like Gecko) Chrome/90.0.4430.212 Safari/537.36\" \"https://example.com\"`\n"
   ]
  },
  {
   "cell_type": "markdown",
   "metadata": {
    "slideshow": {
     "slide_type": "slide"
    }
   },
   "source": [
    "## GET method and APIs\n",
    "\n",
    "### GET method\n",
    "\n",
    "- URLs often use [GET method](https://www.w3schools.com/tags/ref_httpmethods.asp)"
   ]
  },
  {
   "cell_type": "markdown",
   "metadata": {
    "slideshow": {
     "slide_type": "fragment"
    }
   },
   "source": [
    "- GET method passes parameters using the URL: e.g.  \n",
    "    https://www.google.com/search?q=hello+there  \n",
    "    https://www.google.com/search?q=hello+there&tbm=isch"
   ]
  },
  {
   "cell_type": "markdown",
   "metadata": {
    "slideshow": {
     "slide_type": "fragment"
    }
   },
   "source": [
    "- \"[Urls Explained](https://www.freeformatter.com/url-parser-query-string-splitter.html#urls-explained)\" dissects standard components of URLs ([online URL parser](https://www.freeformatter.com/url-parser-query-string-splitter.html)) "
   ]
  },
  {
   "cell_type": "markdown",
   "metadata": {
    "slideshow": {
     "slide_type": "subslide"
    }
   },
   "source": [
    "### Application Programming Interface (API)\n",
    "\n",
    "> a set of functions and procedures allowing the creation of applications that access the features or data of an operating system, application, or other service."
   ]
  },
  {
   "cell_type": "markdown",
   "metadata": {
    "slideshow": {
     "slide_type": "fragment"
    }
   },
   "source": [
    "- GET URLs are commonly used form of API"
   ]
  },
  {
   "cell_type": "markdown",
   "metadata": {
    "slideshow": {
     "slide_type": "fragment"
    }
   },
   "source": [
    "- In API context, an **endpoint** is a [URL path](https://www.freeformatter.com/url-parser-query-string-splitter.html#urls-explained) that process your request"
   ]
  },
  {
   "cell_type": "markdown",
   "metadata": {
    "slideshow": {
     "slide_type": "fragment"
    }
   },
   "source": [
    "- **Query string** is used to specify the request: e.g. search term and type"
   ]
  },
  {
   "cell_type": "markdown",
   "metadata": {
    "slideshow": {
     "slide_type": "subslide"
    }
   },
   "source": [
    "### Example: Google Maps\n",
    "\n",
    "- Web services often have documentation for developers:  \n",
    "    [Google Maps Developer Documentation](https://developers.google.com/maps/documentation/urls/guide#forming-the-url)"
   ]
  },
  {
   "cell_type": "markdown",
   "metadata": {
    "slideshow": {
     "slide_type": "fragment"
    }
   },
   "source": [
    "- Demo: [Display a map](https://developers.google.com/maps/documentation/urls/guide#map-action):  \n",
    "    e.g. https://www.google.com/maps/@?api=1&map_action=map&basemap=terrain&layer=bicycling\n",
    "    \n",
    "  - **Base URL**: `https://www.google.com/maps/`\n",
    "    - This is the base URL for accessing Google Maps.\n",
    "\n",
    "  - **Parameters**:\n",
    "    - `@`: The `@` symbol is used in the URL to indicate a specific location on the map. In this case, it is followed by query parameters that define the map settings.\n",
    "    - `api=1`: This parameter specifies that the Google Maps JavaScript API should be used to render the map.\n",
    "    - `map_action=map`: This parameter sets the action to be performed on the map, which is to display a map.\n",
    "    - `basemap=terrain`: This parameter sets the base map type to \"terrain\". It specifies that the map should display topographic features such as mountains, hills, and land elevation.\n",
    "    - `layer=bicycling`: This parameter adds a layer to the map indicating bicycling information. It displays bike lanes, trails, and other cycling-related details on the map."
   ]
  },
  {
   "cell_type": "markdown",
   "metadata": {
    "slideshow": {
     "slide_type": "fragment"
    }
   },
   "source": [
    "- Demo: [Searching Google Maps](https://developers.google.com/maps/documentation/urls/guide#forming-the-search-url):  \n",
    "    e.g. https://www.google.com/maps/search/?api=1&query=home+depot\n",
    "    \n",
    "  - **Base URL**: `https://www.google.com/maps/search/`\n",
    "    - This is the base URL for performing searches on Google Maps.\n",
    "\n",
    "  - **Parameters**:\n",
    "    - `api=1`: This parameter indicates that the Google Maps JavaScript API should be used to perform the search.\n",
    "    - `query=home+depot`: This parameter specifies the search query. In this case, the query is \"home depot\". The space between \"home\" and \"depot\" is represented by the plus sign (+) as it is URL encoded.\n"
   ]
  },
  {
   "cell_type": "markdown",
   "metadata": {
    "slideshow": {
     "slide_type": "subslide"
    }
   },
   "source": [
    "### Example: Film Locations in San Francisco\n",
    "\n",
    "> _... listing of filming locations of movies shot in San Francisco starting from 1924 ..._\n",
    "\n",
    "- [Dataset Metadata](https://data.sfgov.org/Culture-and-Recreation/Film-Locations-in-San-Francisco/yitu-d5am)"
   ]
  },
  {
   "cell_type": "markdown",
   "metadata": {
    "slideshow": {
     "slide_type": "fragment"
    }
   },
   "source": [
    "- [API documentation](https://dev.socrata.com/foundry/data.sfgov.org/yitu-d5am)\n",
    "\n",
    "- [Simple Filters](https://dev.socrata.com/docs/filtering.html): selection criteria\n",
    "\n",
    "- [Paging through Data](https://dev.socrata.com/docs/paging.html#2.1): paging through returned data"
   ]
  },
  {
   "cell_type": "code",
   "execution_count": 19,
   "metadata": {
    "slideshow": {
     "slide_type": "subslide"
    },
    "tags": []
   },
   "outputs": [
    {
     "name": "stdout",
     "output_type": "stream",
     "text": [
      "[{\"title\":\"Red Widow\",\"release_year\":\"2013\",\"locations\":\"Vallejo Street Garage\",\"production_company\":\"Beyond Pix\",\"distributor\":\"American Broadcasting Company (ABC)\",\"director\":\"Alon Aranya\",\"writer\":\"Melissa Rosenberg\",\"actor_1\":\"Radha Mitchell\",\"actor_2\":\"Sterling Beaumon\",\"actor_3\":\"Clifton Collins Jr.\"}\n",
      ",{\"title\":\"Red Widow\",\"release_year\":\"2013\",\"locations\":\"Montgomery & Market Streets\",\"production_company\":\"Beyond Pix\",\"distributor\":\"American Broadcasting Company (ABC)\",\"director\":\"Alon Aranya\",\"writer\":\"Melissa Rosenberg\",\"actor_1\":\"Radha Mitchell\",\"actor_2\":\"Sterling Beaumon\",\"actor_3\":\"Clifton Collins Jr.\"}\n",
      ",{\"title\":\"Red Widow\",\"release_year\":\"2013\",\"locations\":\"Broadway & Taylor\",\"production_company\":\"Beyond Pix\",\"distributor\":\"American Broadcasting Company (ABC)\",\"director\":\"Alon Aranya\",\"writer\":\"Melissa Rosenberg\",\"actor_1\":\"Radha Mitchell\",\"actor_2\":\"Sterling Beaumon\",\"actor_3\":\"Clifton Collins Jr.\"}\n",
      ",{\"title\":\"Red Widow\",\"release_year\":\"2013\",\"locations\":\"Mason & Sacramento St\",\"production_company\":\"Beyond Pix\",\"distributor\":\"American Broadcasting Company (ABC)\",\"director\":\"Alon Aranya\",\"writer\":\"Melissa Rosenberg\",\"actor_1\":\"Radha Mitchell\",\"actor_2\":\"Sterling Beaumon\",\"actor_3\":\"Clifton Collins Jr.\"}\n",
      ",{\"title\":\"Red Widow\",\"release_year\":\"2013\",\"locations\":\"Golden Gate Ave & Jones\",\"production_company\":\"Beyond Pix\",\"distributor\":\"American Broadcasting Company (ABC)\",\"director\":\"Alon Aranya\",\"writer\":\"Melissa Rosenberg\",\"actor_1\":\"Radha Mitchell\",\"actor_2\":\"Sterling Beaumon\",\"actor_3\":\"Clifton Collins Jr.\"}\n",
      ",{\"title\":\"Red Widow\",\"release_year\":\"2013\",\"locations\":\"York & 24th St.\",\"production_company\":\"Beyond Pix\",\"distributor\":\"American Broadcasting Company (ABC)\",\"director\":\"Alon Aranya\",\"writer\":\"Melissa Rosenberg\",\"actor_1\":\"Radha Mitchell\",\"actor_2\":\"Sterling Beaumon\",\"actor_3\":\"Clifton Collins Jr.\"}\n",
      ",{\"title\":\"Red Widow\",\"release_year\":\"2013\",\"locations\":\"Geary & 27th Ave\",\"production_company\":\"Beyond Pix\",\"distributor\":\"American Broadcasting Company (ABC)\",\"director\":\"Alon Aranya\",\"writer\":\"Melissa Rosenberg\",\"actor_1\":\"Radha Mitchell\",\"actor_2\":\"Sterling Beaumon\",\"actor_3\":\"Clifton Collins Jr.\"}\n",
      ",{\"title\":\"Red Widow\",\"release_year\":\"2013\",\"locations\":\"California & Davis St\",\"production_company\":\"Beyond Pix\",\"distributor\":\"American Broadcasting Company (ABC)\",\"director\":\"Alon Aranya\",\"writer\":\"Melissa Rosenberg\",\"actor_1\":\"Radha Mitchell\",\"actor_2\":\"Sterling Beaumon\",\"actor_3\":\"Clifton Collins Jr.\"}\n",
      ",{\"title\":\"Red Widow\",\"release_year\":\"2013\",\"locations\":\"Pioneer Park at Coit Tower\",\"production_company\":\"Beyond Pix\",\"distributor\":\"American Broadcasting Company (ABC)\",\"director\":\"Alon Aranya\",\"writer\":\"Melissa Rosenberg\",\"actor_1\":\"Radha Mitchell\",\"actor_2\":\"Sterling Beaumon\",\"actor_3\":\"Clifton Collins Jr.\"}\n",
      ",{\"title\":\"Red Widow\",\"release_year\":\"2013\",\"locations\":\"Geary & 20th Ave\",\"production_company\":\"Beyond Pix\",\"distributor\":\"American Broadcasting Company (ABC)\",\"director\":\"Alon Aranya\",\"writer\":\"Melissa Rosenberg\",\"actor_1\":\"Radha Mitchell\",\"actor_2\":\"Sterling Beaumon\",\"actor_3\":\"Clifton Collins Jr.\"}\n",
      ",{\"title\":\"Red Widow\",\"release_year\":\"2013\",\"locations\":\"2nd St & Howard\",\"production_company\":\"Beyond Pix\",\"distributor\":\"American Broadcasting Company (ABC)\",\"director\":\"Alon Aranya\",\"writer\":\"Melissa Rosenberg\",\"actor_1\":\"Radha Mitchell\",\"actor_2\":\"Sterling Beaumon\",\"actor_3\":\"Clifton Collins Jr.\"}]\n"
     ]
    }
   ],
   "source": [
    "!wget -qO - \"https://data.sfgov.org/resource/yitu-d5am.json?release_year=2013&title=Red%20Widow\""
   ]
  },
  {
   "cell_type": "markdown",
   "metadata": {
    "slideshow": {
     "slide_type": "slide"
    }
   },
   "source": [
    "## Javascript Object Notation (JSON) format\n",
    "\n",
    "- One of the widely used standards in data formats"
   ]
  },
  {
   "cell_type": "markdown",
   "metadata": {
    "slideshow": {
     "slide_type": "fragment"
    }
   },
   "source": [
    "- Usually plain text file with python dictionary-like formatting:  \n",
    "    `{\"key\":\"value\"}`"
   ]
  },
  {
   "cell_type": "markdown",
   "metadata": {
    "slideshow": {
     "slide_type": "fragment"
    }
   },
   "source": [
    "- Can be nested:  \n",
    "    `{\"key0\":{\"key1\":\"value1\", \"key2\":\"value2\"}}`"
   ]
  },
  {
   "cell_type": "markdown",
   "metadata": {
    "slideshow": {
     "slide_type": "fragment"
    }
   },
   "source": [
    "- In fact, Jupyter notebooks are in json format."
   ]
  },
  {
   "cell_type": "code",
   "execution_count": 20,
   "metadata": {
    "slideshow": {
     "slide_type": "fragment"
    },
    "tags": []
   },
   "outputs": [
    {
     "name": "stdout",
     "output_type": "stream",
     "text": [
      "{\n",
      " \"cells\": [\n",
      "  {\n",
      "   \"cell_type\": \"markdown\",\n",
      "   \"metadata\": {\n",
      "    \"toc\": true\n",
      "   },\n",
      "   \"source\": [\n",
      "    \"<h1>Table of Contents<span class=\\\"tocSkip\\\"></span></h1>\\n\",\n",
      "    \"<div class=\\\"toc\\\"><ul class=\\\"toc-item\\\"><li><span><a href=\\\"#GUI?-CLI?\\\" data-toc-modified-id=\\\"GUI?-CLI?-1\\\">GUI? CLI?</a></span></li><li><span><a href=\\\"#Shell-commands\\\" data-toc-modified-id=\\\"Shell-commands-2\\\">Shell commands</a></span><ul class=\\\"toc-item\\\"><li><span><a href=\\\"#References-to-learn-shell-command-line\\\" data-toc-modified-id=\\\"References-to-learn-shell-command-line-2.1\\\">References to learn shell command line</a></span></li><li><span><a href=\\\"#Commonly-used-commands-for-text-files\\\" data-toc-modified-id=\\\"Commonly-used-commands-for-text-files-2.2\\\">Commonly used commands for text files</a></span></li><li><span><a href=\\\"#Anatomy-of-shell-commands\\\" data-toc-modified-id=\\\"Anatomy-of-shell-commands-2.3\\\">Anatomy of shell commands</a></span></li><li><span><a href=\\\"#Example:-Downloading-Files\\\" data-toc-modified-id=\\\"Example:-Downloading-Files-2.4\\\">Example: Downloading Files</a></span></li><li><span><a href=\\\"#Example:-Viewing-file-contents\\\" data-toc-modified-id=\\\"Example:-Viewing-file-contents-2.5\\\">Example: Viewing file contents</a></span></li><li><span><a href=\\\"#Chaining-commands-togeter\\\" data-toc-modified-id=\\\"Chaining-commands-togeter-2.6\\\">Chaining commands togeter</a></span></li><li><span><a href=\\\"#Example:-Text-file-download,-search,-and-manipulation\\\" data-toc-modified-id=\\\"Example:-Text-file-download,-search,-and-manipulation-2.7\\\">Example: Text file download, search, and manipulation</a></span></li></ul></li><li><span><a href=\\\"#Shell-and-Jupyter-Notebook\\\" data-toc-modified-id=\\\"Shell-and-Jupyter-Notebook-3\\\">Shell and Jupyter Notebook</a></span></li><li><span><a href=\\\"#GET-method-and-APIs\\\" data-toc-modified-id=\\\"GET-method-and-APIs-4\\\">GET method and APIs</a></span><ul class=\\\"toc-item\\\"><li><span><a href=\\\"#GET-method\\\" data-toc-modified-id=\\\"GET-method-4.1\\\">GET method</a></span></li><li><span><a href=\\\"#Application-Programming-Interface-(API)\\\" data-toc-modified-id=\\\"Application-Programming-Interface-(API)-4.2\\\">Application Programming Interface (API)</a></span></li><li><span><a href=\\\"#Example:-Google-Maps\\\" data-toc-modified-id=\\\"Example:-Google-Maps-4.3\\\">Example: Google Maps</a></span></li><li><span><a href=\\\"#Example:-Film-Locations-in-San-Francisco\\\" data-toc-modified-id=\\\"Example:-Film-Locations-in-San-Francisco-4.4\\\">Example: Film Locations in San Francisco</a></span></li></ul></li><li><span><a href=\\\"#Javascript-Object-Notation-(JSON)-format\\\" data-toc-modified-id=\\\"Javascript-Object-Notation-(JSON)-format-5\\\">Javascript Object Notation (JSON) format</a></span><ul class=\\\"toc-item\\\"><li><span><a href=\\\"#Example:-Parsing-Film-Locations-in-San-Francisco\\\" data-toc-modified-id=\\\"Example:-Parsing-Film-Locations-in-San-Francisco-5.1\\\">Example: Parsing Film Locations in San Francisco</a></span></li></ul></li></ul></div>\"\n"
     ]
    }
   ],
   "source": [
    "! head 08-Command-Line-and-Data-collection.ipynb"
   ]
  },
  {
   "cell_type": "markdown",
   "metadata": {
    "slideshow": {
     "slide_type": "slide"
    }
   },
   "source": [
    "### Example: Parsing Film Locations in San Francisco\n",
    "\n",
    "- Raw JSON is in a string\n",
    "\n",
    "- Needs to be parsed to Python dictionary: i.e., keys and values.\n",
    "\n",
    "- Parse returned JSON formatted page with the `json` module"
   ]
  },
  {
   "cell_type": "code",
   "execution_count": 21,
   "metadata": {
    "slideshow": {
     "slide_type": "fragment"
    },
    "tags": []
   },
   "outputs": [
    {
     "data": {
      "text/plain": [
       "{'title': 'Red Widow',\n",
       " 'release_year': '2013',\n",
       " 'locations': 'Vallejo Street Garage',\n",
       " 'production_company': 'Beyond Pix',\n",
       " 'distributor': 'American Broadcasting Company (ABC)',\n",
       " 'director': 'Alon Aranya',\n",
       " 'writer': 'Melissa Rosenberg',\n",
       " 'actor_1': 'Radha Mitchell',\n",
       " 'actor_2': 'Sterling Beaumon',\n",
       " 'actor_3': 'Clifton Collins Jr.'}"
      ]
     },
     "execution_count": 21,
     "metadata": {},
     "output_type": "execute_result"
    }
   ],
   "source": [
    "import json\n",
    "json_str = !wget -qO - \"https://data.sfgov.org/resource/yitu-d5am.json?release_year=2013&title=Red%20Widow\"\n",
    "json_str = ''.join(json_str) # Remove line breaks from this json. Not all json files do\n",
    "data = json.loads(json_str)\n",
    "data[0] ## print first line"
   ]
  },
  {
   "cell_type": "markdown",
   "metadata": {
    "slideshow": {
     "slide_type": "subslide"
    }
   },
   "source": [
    "* `data` is now python dictionary\n",
    "\n",
    "* Dictionaries can be imported to pandas dataframe"
   ]
  },
  {
   "cell_type": "code",
   "execution_count": 22,
   "metadata": {
    "slideshow": {
     "slide_type": "fragment"
    },
    "tags": []
   },
   "outputs": [
    {
     "data": {
      "text/html": [
       "<div>\n",
       "<style scoped>\n",
       "    .dataframe tbody tr th:only-of-type {\n",
       "        vertical-align: middle;\n",
       "    }\n",
       "\n",
       "    .dataframe tbody tr th {\n",
       "        vertical-align: top;\n",
       "    }\n",
       "\n",
       "    .dataframe thead th {\n",
       "        text-align: right;\n",
       "    }\n",
       "</style>\n",
       "<table border=\"1\" class=\"dataframe\">\n",
       "  <thead>\n",
       "    <tr style=\"text-align: right;\">\n",
       "      <th></th>\n",
       "      <th>title</th>\n",
       "      <th>release_year</th>\n",
       "      <th>locations</th>\n",
       "      <th>production_company</th>\n",
       "      <th>distributor</th>\n",
       "      <th>director</th>\n",
       "      <th>writer</th>\n",
       "      <th>actor_1</th>\n",
       "      <th>actor_2</th>\n",
       "      <th>actor_3</th>\n",
       "    </tr>\n",
       "  </thead>\n",
       "  <tbody>\n",
       "    <tr>\n",
       "      <th>0</th>\n",
       "      <td>Red Widow</td>\n",
       "      <td>2013</td>\n",
       "      <td>Vallejo Street Garage</td>\n",
       "      <td>Beyond Pix</td>\n",
       "      <td>American Broadcasting Company (ABC)</td>\n",
       "      <td>Alon Aranya</td>\n",
       "      <td>Melissa Rosenberg</td>\n",
       "      <td>Radha Mitchell</td>\n",
       "      <td>Sterling Beaumon</td>\n",
       "      <td>Clifton Collins Jr.</td>\n",
       "    </tr>\n",
       "    <tr>\n",
       "      <th>1</th>\n",
       "      <td>Red Widow</td>\n",
       "      <td>2013</td>\n",
       "      <td>Montgomery &amp; Market Streets</td>\n",
       "      <td>Beyond Pix</td>\n",
       "      <td>American Broadcasting Company (ABC)</td>\n",
       "      <td>Alon Aranya</td>\n",
       "      <td>Melissa Rosenberg</td>\n",
       "      <td>Radha Mitchell</td>\n",
       "      <td>Sterling Beaumon</td>\n",
       "      <td>Clifton Collins Jr.</td>\n",
       "    </tr>\n",
       "    <tr>\n",
       "      <th>2</th>\n",
       "      <td>Red Widow</td>\n",
       "      <td>2013</td>\n",
       "      <td>Broadway &amp; Taylor</td>\n",
       "      <td>Beyond Pix</td>\n",
       "      <td>American Broadcasting Company (ABC)</td>\n",
       "      <td>Alon Aranya</td>\n",
       "      <td>Melissa Rosenberg</td>\n",
       "      <td>Radha Mitchell</td>\n",
       "      <td>Sterling Beaumon</td>\n",
       "      <td>Clifton Collins Jr.</td>\n",
       "    </tr>\n",
       "    <tr>\n",
       "      <th>3</th>\n",
       "      <td>Red Widow</td>\n",
       "      <td>2013</td>\n",
       "      <td>Mason &amp; Sacramento St</td>\n",
       "      <td>Beyond Pix</td>\n",
       "      <td>American Broadcasting Company (ABC)</td>\n",
       "      <td>Alon Aranya</td>\n",
       "      <td>Melissa Rosenberg</td>\n",
       "      <td>Radha Mitchell</td>\n",
       "      <td>Sterling Beaumon</td>\n",
       "      <td>Clifton Collins Jr.</td>\n",
       "    </tr>\n",
       "    <tr>\n",
       "      <th>4</th>\n",
       "      <td>Red Widow</td>\n",
       "      <td>2013</td>\n",
       "      <td>Golden Gate Ave &amp; Jones</td>\n",
       "      <td>Beyond Pix</td>\n",
       "      <td>American Broadcasting Company (ABC)</td>\n",
       "      <td>Alon Aranya</td>\n",
       "      <td>Melissa Rosenberg</td>\n",
       "      <td>Radha Mitchell</td>\n",
       "      <td>Sterling Beaumon</td>\n",
       "      <td>Clifton Collins Jr.</td>\n",
       "    </tr>\n",
       "  </tbody>\n",
       "</table>\n",
       "</div>"
      ],
      "text/plain": [
       "       title release_year                    locations production_company  \\\n",
       "0  Red Widow         2013        Vallejo Street Garage         Beyond Pix   \n",
       "1  Red Widow         2013  Montgomery & Market Streets         Beyond Pix   \n",
       "2  Red Widow         2013            Broadway & Taylor         Beyond Pix   \n",
       "3  Red Widow         2013        Mason & Sacramento St         Beyond Pix   \n",
       "4  Red Widow         2013      Golden Gate Ave & Jones         Beyond Pix   \n",
       "\n",
       "                           distributor     director             writer  \\\n",
       "0  American Broadcasting Company (ABC)  Alon Aranya  Melissa Rosenberg   \n",
       "1  American Broadcasting Company (ABC)  Alon Aranya  Melissa Rosenberg   \n",
       "2  American Broadcasting Company (ABC)  Alon Aranya  Melissa Rosenberg   \n",
       "3  American Broadcasting Company (ABC)  Alon Aranya  Melissa Rosenberg   \n",
       "4  American Broadcasting Company (ABC)  Alon Aranya  Melissa Rosenberg   \n",
       "\n",
       "          actor_1           actor_2              actor_3  \n",
       "0  Radha Mitchell  Sterling Beaumon  Clifton Collins Jr.  \n",
       "1  Radha Mitchell  Sterling Beaumon  Clifton Collins Jr.  \n",
       "2  Radha Mitchell  Sterling Beaumon  Clifton Collins Jr.  \n",
       "3  Radha Mitchell  Sterling Beaumon  Clifton Collins Jr.  \n",
       "4  Radha Mitchell  Sterling Beaumon  Clifton Collins Jr.  "
      ]
     },
     "execution_count": 22,
     "metadata": {},
     "output_type": "execute_result"
    }
   ],
   "source": [
    "import pandas as pd\n",
    "\n",
    "pd.DataFrame.from_dict(data).head()"
   ]
  },
  {
   "cell_type": "markdown",
   "metadata": {
    "slideshow": {
     "slide_type": "slide"
    }
   },
   "source": [
    "## Data Manipulation\n",
    "\n",
    "### Working with CSV files\n",
    "\n",
    "Install [csvkit](https://csvkit.readthedocs.io/en/latest/):"
   ]
  },
  {
   "cell_type": "code",
   "execution_count": 23,
   "metadata": {
    "slideshow": {
     "slide_type": "-"
    }
   },
   "outputs": [],
   "source": [
    "# !pip install csvkit"
   ]
  },
  {
   "cell_type": "markdown",
   "metadata": {
    "slideshow": {
     "slide_type": "subslide"
    }
   },
   "source": [
    "### Examples\n",
    "\n",
    "* [Data input](https://csvkit.readthedocs.io/en/latest/scripts/in2csv.html#examples)\n",
    "* [Database conversion](https://csvkit.readthedocs.io/en/latest/scripts/sql2csv.html#examples)\n",
    "* [Tutorials](https://csvkit.readthedocs.io/en/latest/tutorial.html)"
   ]
  }
 ],
 "metadata": {
  "celltoolbar": "Slideshow",
  "kernelspec": {
   "display_name": "Python 3 (ipykernel)",
   "language": "python",
   "name": "python3"
  },
  "language_info": {
   "codemirror_mode": {
    "name": "ipython",
    "version": 3
   },
   "file_extension": ".py",
   "mimetype": "text/x-python",
   "name": "python",
   "nbconvert_exporter": "python",
   "pygments_lexer": "ipython3",
   "version": "3.11.5"
  },
  "toc": {
   "base_numbering": 1,
   "nav_menu": {},
   "number_sections": false,
   "sideBar": true,
   "skip_h1_title": false,
   "title_cell": "Table of Contents",
   "title_sidebar": "Contents",
   "toc_cell": true,
   "toc_position": {},
   "toc_section_display": true,
   "toc_window_display": true
  },
  "vscode": {
   "interpreter": {
    "hash": "d4d1e4263499bec80672ea0156c357c1ee493ec2b1c70f0acce89fc37c4a6abe"
   }
  }
 },
 "nbformat": 4,
 "nbformat_minor": 4
}
